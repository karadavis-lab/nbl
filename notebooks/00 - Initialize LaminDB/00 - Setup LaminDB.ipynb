{
 "cells": [
  {
   "cell_type": "markdown",
   "metadata": {},
   "source": [
    "# Initialize LaminDB Project\n",
    "\n",
    "Sets up the LaminDB environment for the Nueroblastoma project by connecting to the database, configuring sync and initializing the project."
   ]
  },
  {
   "cell_type": "code",
   "execution_count": 1,
   "metadata": {},
   "outputs": [
    {
     "name": "stdout",
     "output_type": "stream",
     "text": [
      "\u001b[92m→\u001b[0m connected lamindb: srivarra/nbl-dataset\n"
     ]
    }
   ],
   "source": [
    "import lamindb as ln"
   ]
  },
  {
   "cell_type": "code",
   "execution_count": 2,
   "metadata": {},
   "outputs": [],
   "source": [
    "ln.settings.sync_git_repo = \"https://github.com/karadavis-lab/nbl.git\""
   ]
  },
  {
   "cell_type": "code",
   "execution_count": 3,
   "metadata": {},
   "outputs": [
    {
     "name": "stdout",
     "output_type": "stream",
     "text": [
      "\u001b[92m→\u001b[0m returning existing Project record with same name: 'Neuroblastoma'\n"
     ]
    },
    {
     "data": {
      "text/plain": [
       "Project(uid='77CDAjgHkpY6', name='Neuroblastoma', is_type=False, abbr='nbl', space_id=1, created_by_id=1, created_at=2025-05-03 22:49:59 UTC)"
      ]
     },
     "execution_count": 3,
     "metadata": {},
     "output_type": "execute_result"
    }
   ],
   "source": [
    "ln.Project(name=\"Neuroblastoma\", abbr=\"nbl\").save()"
   ]
  },
  {
   "cell_type": "code",
   "execution_count": 4,
   "metadata": {},
   "outputs": [
    {
     "name": "stdout",
     "output_type": "stream",
     "text": [
      "\u001b[92m→\u001b[0m created Transform('0wQB6cAyu7OI0000'), started new Run('hB9P9N66...') at 2025-05-03 22:51:04 UTC\n",
      "\u001b[92m→\u001b[0m notebook imports: lamindb==1.4.0\n"
     ]
    },
    {
     "name": "stderr",
     "output_type": "stream",
     "text": [
      "/Users/srivarra/Davis Lab/nbl/.venv/bin/python: No module named pip\n"
     ]
    }
   ],
   "source": [
    "ln.track(project=\"Neuroblastoma\")"
   ]
  },
  {
   "cell_type": "code",
   "execution_count": 5,
   "metadata": {},
   "outputs": [
    {
     "name": "stdout",
     "output_type": "stream",
     "text": [
      "\u001b[94m•\u001b[0m please hit CMD + s to save the notebook in your editor . \u001b[92m✓\u001b[0m\n",
      "\u001b[92m→\u001b[0m finished Run('hB9P9N66') after 4s at 2025-05-03 22:51:09 UTC\n"
     ]
    }
   ],
   "source": [
    "ln.finish()"
   ]
  },
  {
   "cell_type": "code",
   "execution_count": null,
   "metadata": {},
   "outputs": [],
   "source": []
  }
 ],
 "metadata": {
  "kernelspec": {
   "display_name": ".venv",
   "language": "python",
   "name": "python3"
  },
  "language_info": {
   "codemirror_mode": {
    "name": "ipython",
    "version": 3
   },
   "file_extension": ".py",
   "mimetype": "text/x-python",
   "name": "python",
   "nbconvert_exporter": "python",
   "pygments_lexer": "ipython3",
   "version": "3.12.5"
  }
 },
 "nbformat": 4,
 "nbformat_minor": 2
}
