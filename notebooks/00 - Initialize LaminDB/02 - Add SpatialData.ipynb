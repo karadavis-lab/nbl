{
 "cells": [
  {
   "cell_type": "markdown",
   "metadata": {},
   "source": [
    "# Add SpatialData"
   ]
  },
  {
   "cell_type": "markdown",
   "metadata": {
    "vscode": {
     "languageId": "plaintext"
    }
   },
   "source": [
    "- Convert the cohort of fovs and labels into several spatialdata objets, one `spatialdata` object per FOV.\n",
    "- Add metadata to the `spatialdata` objects and save them to LaminDB as artifacts."
   ]
  },
  {
   "cell_type": "markdown",
   "metadata": {},
   "source": [
    "## Setup\n"
   ]
  },
  {
   "cell_type": "code",
   "execution_count": null,
   "metadata": {},
   "outputs": [],
   "source": [
    "import bionty as bt\n",
    "import lamindb as ln\n",
    "from distributed import Client, LocalCluster\n",
    "from upath import UPath\n",
    "\n",
    "import nbl\n",
    "\n",
    "cluster = LocalCluster(n_workers=10)\n",
    "client = Client(cluster)"
   ]
  },
  {
   "cell_type": "code",
   "execution_count": null,
   "metadata": {},
   "outputs": [],
   "source": [
    "client"
   ]
  },
  {
   "cell_type": "code",
   "execution_count": 3,
   "metadata": {},
   "outputs": [],
   "source": [
    "ln.settings.sync_git_repo = \"https://github.com/karadavis-lab/nbl.git\""
   ]
  },
  {
   "cell_type": "code",
   "execution_count": null,
   "metadata": {},
   "outputs": [],
   "source": [
    "ln.track(project=\"Neuroblastoma\")"
   ]
  },
  {
   "cell_type": "code",
   "execution_count": 5,
   "metadata": {},
   "outputs": [],
   "source": [
    "bt.settings.organism = \"human\""
   ]
  },
  {
   "cell_type": "code",
   "execution_count": 6,
   "metadata": {},
   "outputs": [],
   "source": [
    "raw_data_dir = UPath(\"../../data/raw/nbl_cohort\")\n",
    "\n",
    "fov_dir = raw_data_dir / \"images\"\n",
    "label_dir = raw_data_dir / \"segmentation\" / \"labels\""
   ]
  },
  {
   "cell_type": "code",
   "execution_count": null,
   "metadata": {},
   "outputs": [],
   "source": [
    "hu_sdatas = nbl.io.convert_cohort(\n",
    "    fov_dir=fov_dir,\n",
    "    label_dir=label_dir,\n",
    "    filter_fovs=r\"Hu-*\",\n",
    "    return_collection=False,\n",
    ")"
   ]
  },
  {
   "cell_type": "code",
   "execution_count": null,
   "metadata": {},
   "outputs": [],
   "source": [
    "nbl_sdatas = nbl.io.convert_cohort(\n",
    "    fov_dir=fov_dir,\n",
    "    label_dir=label_dir,\n",
    "    filter_fovs=r\"NBL-*\",\n",
    "    return_collection=False,\n",
    ")"
   ]
  },
  {
   "cell_type": "code",
   "execution_count": 11,
   "metadata": {},
   "outputs": [],
   "source": [
    "nbl_sdata = nbl_sdatas[\"NBL-1-R5C8\"]\n",
    "\n",
    "# ln.Artifact.from_spatialdata(hu_sdata, key=\"control/Hu-Adrenal-Medulla-R5C12.zarr\")"
   ]
  },
  {
   "cell_type": "code",
   "execution_count": 9,
   "metadata": {},
   "outputs": [],
   "source": [
    "clinical_data = ln.Artifact.filter(ln.Q(key__contains=\"clinical_data\")).one().load()"
   ]
  },
  {
   "cell_type": "code",
   "execution_count": null,
   "metadata": {},
   "outputs": [],
   "source": [
    "nbl_a = ln.Artifact.from_spatialdata(nbl_sdata, key=\"NBL-1-R5C8.zarr\")"
   ]
  },
  {
   "cell_type": "code",
   "execution_count": null,
   "metadata": {},
   "outputs": [],
   "source": [
    "clinical_data[clinical_data[\"FOV\"] == \"NBL-1-R5C8\"]"
   ]
  },
  {
   "cell_type": "code",
   "execution_count": null,
   "metadata": {},
   "outputs": [],
   "source": [
    "ln.curators.SpatialDataCurator"
   ]
  },
  {
   "cell_type": "code",
   "execution_count": null,
   "metadata": {},
   "outputs": [
    {
     "name": "stdout",
     "output_type": "stream",
     "text": [
      "\u001b[34mINFO    \u001b[0m The Zarr backing store has been changed from                                                              \n",
      "         \u001b[35m/Users/srivarra/Library/Caches/lamindb/\u001b[0m\u001b[95mgnKmLGXiaUgQswQR0000.zarr\u001b[0m the new file path:                       \n",
      "         \u001b[35m/Users/srivarra/Library/Caches/lamindb/\u001b[0m\u001b[95mr1eG0oZIhYpPCCs00000.zarr\u001b[0m                                          \n",
      "\u001b[92m→\u001b[0m returning existing artifact with same hash: Artifact(uid='gnKmLGXiaUgQswQR0000', is_latest=True, key='nbl_sdatas/NBL-1-R5C8.zarr', suffix='.zarr', kind='dataset', otype='SpatialData', size=71691210, hash='lKpzDK0t_3EiRojqioa4BA', n_files=64, space_id=1, storage_id=1, run_id=3, created_by_id=1, created_at=2025-05-03 19:48:05 UTC); to track this artifact as an input, use: ln.Artifact.get()\n",
      "\u001b[34mINFO    \u001b[0m The Zarr backing store has been changed from                                                              \n",
      "         \u001b[35m/Users/srivarra/Library/Caches/lamindb/\u001b[0m\u001b[95mZiOctB0cidVaHwQI0000.zarr\u001b[0m the new file path:                       \n",
      "         \u001b[35m/Users/srivarra/Library/Caches/lamindb/\u001b[0m\u001b[95mWytft9EYnp6h5Ash0000.zarr\u001b[0m                                          \n",
      "\u001b[92m→\u001b[0m returning existing artifact with same hash: Artifact(uid='ZiOctB0cidVaHwQI0000', is_latest=True, key='nbl_sdatas/NBL-1-R6C8.zarr', suffix='.zarr', kind='dataset', otype='SpatialData', size=74604876, hash='xHr_IS9g-nBkzCxEG4vHWQ', n_files=64, space_id=1, storage_id=1, run_id=3, created_by_id=1, created_at=2025-05-03 19:48:06 UTC); to track this artifact as an input, use: ln.Artifact.get()\n",
      "\u001b[34mINFO    \u001b[0m The Zarr backing store has been changed from                                                              \n",
      "         \u001b[35m/Users/srivarra/Library/Caches/lamindb/\u001b[0m\u001b[95mjr7ZloWSZuhO6n5G0000.zarr\u001b[0m the new file path:                       \n",
      "         \u001b[35m/Users/srivarra/Library/Caches/lamindb/\u001b[0m\u001b[95m8kkmf25TvpChK5j00000.zarr\u001b[0m                                          \n",
      "\u001b[92m→\u001b[0m returning existing artifact with same hash: Artifact(uid='jr7ZloWSZuhO6n5G0000', is_latest=True, key='nbl_sdatas/NBL-1-R12C8.zarr', suffix='.zarr', kind='dataset', otype='SpatialData', size=163135752, hash='ko_Uo4bXrlxJW4VsmrPJhA', n_files=64, space_id=1, storage_id=1, run_id=3, created_by_id=1, created_at=2025-05-03 19:48:06 UTC); to track this artifact as an input, use: ln.Artifact.get()\n",
      "\u001b[34mINFO    \u001b[0m The Zarr backing store has been changed from                                                              \n",
      "         \u001b[35m/Users/srivarra/Library/Caches/lamindb/\u001b[0m\u001b[95mRFSK8HEVxxQxiYeZ0000.zarr\u001b[0m the new file path:                       \n",
      "         \u001b[35m/Users/srivarra/Library/Caches/lamindb/\u001b[0m\u001b[95mjgFhVPgNlLSuaJZx0000.zarr\u001b[0m                                          \n",
      "\u001b[92m→\u001b[0m returning existing artifact with same hash: Artifact(uid='RFSK8HEVxxQxiYeZ0000', is_latest=True, key='nbl_sdatas/NBL-1-R13C8.zarr', suffix='.zarr', kind='dataset', otype='SpatialData', size=96021186, hash='Y5ogg1bDC24hPPTOFgjj3A', n_files=64, space_id=1, storage_id=1, run_id=3, created_by_id=1, created_at=2025-05-03 19:48:07 UTC); to track this artifact as an input, use: ln.Artifact.get()\n",
      "\u001b[34mINFO    \u001b[0m The Zarr backing store has been changed from                                                              \n",
      "         \u001b[35m/Users/srivarra/Library/Caches/lamindb/\u001b[0m\u001b[95mvYjvzy5IkxFnIs270000.zarr\u001b[0m the new file path:                       \n",
      "         \u001b[35m/Users/srivarra/Library/Caches/lamindb/\u001b[0m\u001b[95mUfNqKMXrkHL3h2H20000.zarr\u001b[0m                                          \n",
      "\u001b[92m→\u001b[0m returning existing artifact with same hash: Artifact(uid='vYjvzy5IkxFnIs270000', is_latest=True, key='nbl_sdatas/NBL-2-R9C5.zarr', suffix='.zarr', kind='dataset', otype='SpatialData', size=222519120, hash='66dlvpWLFeBi4zlWq4MoIg', n_files=64, space_id=1, storage_id=1, run_id=3, created_by_id=1, created_at=2025-05-03 19:48:08 UTC); to track this artifact as an input, use: ln.Artifact.get()\n",
      "\u001b[34mINFO    \u001b[0m The Zarr backing store has been changed from                                                              \n",
      "         \u001b[35m/Users/srivarra/Library/Caches/lamindb/\u001b[0m\u001b[95mHPEXZwmlknI7Dd4z0000.zarr\u001b[0m the new file path:                       \n",
      "         \u001b[35m/Users/srivarra/Library/Caches/lamindb/\u001b[0m\u001b[95mBb1aMNyO1rIe1dBt0000.zarr\u001b[0m                                          \n",
      "\u001b[92m→\u001b[0m returning existing artifact with same hash: Artifact(uid='HPEXZwmlknI7Dd4z0000', is_latest=True, key='nbl_sdatas/NBL-2-R8C5.zarr', suffix='.zarr', kind='dataset', otype='SpatialData', size=94784688, hash='x_BOG5SIGtSYeQfuCZpPdw', n_files=64, space_id=1, storage_id=1, run_id=3, created_by_id=1, created_at=2025-05-03 19:48:08 UTC); to track this artifact as an input, use: ln.Artifact.get()\n",
      "\u001b[34mINFO    \u001b[0m The Zarr backing store has been changed from                                                              \n",
      "         \u001b[35m/Users/srivarra/Library/Caches/lamindb/\u001b[0m\u001b[95mc513iNdsWV8x60FV0000.zarr\u001b[0m the new file path:                       \n",
      "         \u001b[35m/Users/srivarra/Library/Caches/lamindb/\u001b[0m\u001b[95mtIXhq2oBRFqKWnEu0000.zarr\u001b[0m                                          \n",
      "\u001b[92m→\u001b[0m returning existing artifact with same hash: Artifact(uid='c513iNdsWV8x60FV0000', is_latest=True, key='nbl_sdatas/NBL-2-R1C4.zarr', suffix='.zarr', kind='dataset', otype='SpatialData', size=108853490, hash='qcIpiijUsjruqHrCoNv-7g', n_files=64, space_id=1, storage_id=1, run_id=3, created_by_id=1, created_at=2025-05-03 19:48:09 UTC); to track this artifact as an input, use: ln.Artifact.get()\n",
      "\u001b[34mINFO    \u001b[0m The Zarr backing store has been changed from                                                              \n",
      "         \u001b[35m/Users/srivarra/Library/Caches/lamindb/\u001b[0m\u001b[95mcCEjZt710sGGHRIb0000.zarr\u001b[0m the new file path:                       \n",
      "         \u001b[35m/Users/srivarra/Library/Caches/lamindb/\u001b[0m\u001b[95mSZskGliprHziICxL0000.zarr\u001b[0m                                          \n",
      "\u001b[92m→\u001b[0m returning existing artifact with same hash: Artifact(uid='cCEjZt710sGGHRIb0000', is_latest=True, key='nbl_sdatas/NBL-2-R2C4.zarr', suffix='.zarr', kind='dataset', otype='SpatialData', size=104860677, hash='w7eGWYcIFTk4omw173cJvQ', n_files=64, space_id=1, storage_id=1, run_id=3, created_by_id=1, created_at=2025-05-03 19:48:10 UTC); to track this artifact as an input, use: ln.Artifact.get()\n",
      "\u001b[34mINFO    \u001b[0m The Zarr backing store has been changed from                                                              \n",
      "         \u001b[35m/Users/srivarra/Library/Caches/lamindb/\u001b[0m\u001b[95mS9LNSEKa5m6EcLvz0000.zarr\u001b[0m the new file path:                       \n",
      "         \u001b[35m/Users/srivarra/Library/Caches/lamindb/\u001b[0m\u001b[95m7WaydH0GkGgokpzI0000.zarr\u001b[0m                                          \n",
      "\u001b[92m→\u001b[0m returning existing artifact with same hash: Artifact(uid='S9LNSEKa5m6EcLvz0000', is_latest=True, key='nbl_sdatas/NBL-3-R1C10.zarr', suffix='.zarr', kind='dataset', otype='SpatialData', size=83353062, hash='VsUQRQ2qYsuHPuWK7YI_hg', n_files=64, space_id=1, storage_id=1, run_id=3, created_by_id=1, created_at=2025-05-03 19:48:10 UTC); to track this artifact as an input, use: ln.Artifact.get()\n",
      "\u001b[34mINFO    \u001b[0m The Zarr backing store has been changed from                                                              \n",
      "         \u001b[35m/Users/srivarra/Library/Caches/lamindb/\u001b[0m\u001b[95mLcE4aLgYW6Hf6crz0000.zarr\u001b[0m the new file path:                       \n",
      "         \u001b[35m/Users/srivarra/Library/Caches/lamindb/\u001b[0m\u001b[95miKDWLHu1fa1T6Wgk0000.zarr\u001b[0m                                          \n",
      "\u001b[92m→\u001b[0m returning existing artifact with same hash: Artifact(uid='LcE4aLgYW6Hf6crz0000', is_latest=True, key='nbl_sdatas/NBL-3-R2C10.zarr', suffix='.zarr', kind='dataset', otype='SpatialData', size=82924578, hash='6qNkycY_lwWz0EozBDyQlQ', n_files=64, space_id=1, storage_id=1, run_id=3, created_by_id=1, created_at=2025-05-03 19:48:11 UTC); to track this artifact as an input, use: ln.Artifact.get()\n",
      "\u001b[34mINFO    \u001b[0m The Zarr backing store has been changed from                                                              \n",
      "         \u001b[35m/Users/srivarra/Library/Caches/lamindb/\u001b[0m\u001b[95mo0hFAF0QCG6D6YDb0000.zarr\u001b[0m the new file path:                       \n",
      "         \u001b[35m/Users/srivarra/Library/Caches/lamindb/\u001b[0m\u001b[95mW2MIXAKalUoIuGxN0000.zarr\u001b[0m                                          \n",
      "\u001b[92m→\u001b[0m returning existing artifact with same hash: Artifact(uid='o0hFAF0QCG6D6YDb0000', is_latest=True, key='nbl_sdatas/NBL-3-R11C12.zarr', suffix='.zarr', kind='dataset', otype='SpatialData', size=71908437, hash='nfONqejeo98wiDwBuKEx9g', n_files=64, space_id=1, storage_id=1, run_id=3, created_by_id=1, created_at=2025-05-03 19:48:11 UTC); to track this artifact as an input, use: ln.Artifact.get()\n",
      "\u001b[34mINFO    \u001b[0m The Zarr backing store has been changed from                                                              \n",
      "         \u001b[35m/Users/srivarra/Library/Caches/lamindb/\u001b[0m\u001b[95mc24HDHHhITy9SRZ00000.zarr\u001b[0m the new file path:                       \n",
      "         \u001b[35m/Users/srivarra/Library/Caches/lamindb/\u001b[0m\u001b[95mzQQtVIOFVDNbelbR0000.zarr\u001b[0m                                          \n",
      "\u001b[92m→\u001b[0m returning existing artifact with same hash: Artifact(uid='c24HDHHhITy9SRZ00000', is_latest=True, key='nbl_sdatas/NBL-3-R10C12.zarr', suffix='.zarr', kind='dataset', otype='SpatialData', size=83746022, hash='sEooK8F1OPKt8NN4TWr62A', n_files=64, space_id=1, storage_id=1, run_id=3, created_by_id=1, created_at=2025-05-03 19:48:12 UTC); to track this artifact as an input, use: ln.Artifact.get()\n",
      "\u001b[34mINFO    \u001b[0m The Zarr backing store has been changed from                                                              \n",
      "         \u001b[35m/Users/srivarra/Library/Caches/lamindb/\u001b[0m\u001b[95mF5aIb7C2Ar3O6RKk0000.zarr\u001b[0m the new file path:                       \n",
      "         \u001b[35m/Users/srivarra/Library/Caches/lamindb/\u001b[0m\u001b[95mgHpvQzvSfAJibxmM0000.zarr\u001b[0m                                          \n",
      "\u001b[92m→\u001b[0m returning existing artifact with same hash: Artifact(uid='F5aIb7C2Ar3O6RKk0000', is_latest=True, key='nbl_sdatas/NBL-4-R12C10.zarr', suffix='.zarr', kind='dataset', otype='SpatialData', size=67641665, hash='W0D3Mzk96eYbkFHkip7wvA', n_files=64, space_id=1, storage_id=1, run_id=3, created_by_id=1, created_at=2025-05-03 19:48:12 UTC); to track this artifact as an input, use: ln.Artifact.get()\n",
      "\u001b[34mINFO    \u001b[0m The Zarr backing store has been changed from                                                              \n",
      "         \u001b[35m/Users/srivarra/Library/Caches/lamindb/\u001b[0m\u001b[95mcY29HQDKerEEIvn90000.zarr\u001b[0m the new file path:                       \n",
      "         \u001b[35m/Users/srivarra/Library/Caches/lamindb/\u001b[0m\u001b[95mh8CdwwhyrUNohNSK0000.zarr\u001b[0m                                          \n",
      "\u001b[92m→\u001b[0m returning existing artifact with same hash: Artifact(uid='cY29HQDKerEEIvn90000', is_latest=True, key='nbl_sdatas/NBL-4-R4C8.zarr', suffix='.zarr', kind='dataset', otype='SpatialData', size=148209508, hash='Xn7Lza37Vy49XPIhQD17wQ', n_files=64, space_id=1, storage_id=1, run_id=3, created_by_id=1, created_at=2025-05-03 19:48:13 UTC); to track this artifact as an input, use: ln.Artifact.get()\n",
      "\u001b[34mINFO    \u001b[0m The Zarr backing store has been changed from                                                              \n",
      "         \u001b[35m/Users/srivarra/Library/Caches/lamindb/\u001b[0m\u001b[95mgCmPHdnpIvmAZmxl0000.zarr\u001b[0m the new file path:                       \n",
      "         \u001b[35m/Users/srivarra/Library/Caches/lamindb/\u001b[0m\u001b[95mLXmOhHP6ZdLu1lxa0000.zarr\u001b[0m                                          \n",
      "\u001b[92m→\u001b[0m returning existing artifact with same hash: Artifact(uid='gCmPHdnpIvmAZmxl0000', is_latest=True, key='nbl_sdatas/NBL-4-R3C8.zarr', suffix='.zarr', kind='dataset', otype='SpatialData', size=128156806, hash='NvnQaR2VfCco5aP7sBbArQ', n_files=64, space_id=1, storage_id=1, run_id=3, created_by_id=1, created_at=2025-05-03 19:48:14 UTC); to track this artifact as an input, use: ln.Artifact.get()\n",
      "\u001b[34mINFO    \u001b[0m The Zarr backing store has been changed from                                                              \n",
      "         \u001b[35m/Users/srivarra/Library/Caches/lamindb/\u001b[0m\u001b[95mPtMFiZE3bMMYqfUL0000.zarr\u001b[0m the new file path:                       \n",
      "         \u001b[35m/Users/srivarra/Library/Caches/lamindb/\u001b[0m\u001b[95mM8gVxcztdhvuXBo50000.zarr\u001b[0m                                          \n",
      "\u001b[92m→\u001b[0m returning existing artifact with same hash: Artifact(uid='PtMFiZE3bMMYqfUL0000', is_latest=True, key='nbl_sdatas/NBL-5-R8C7.zarr', suffix='.zarr', kind='dataset', otype='SpatialData', size=162698993, hash='51lqM-YhdGQkKWyQufScgw', n_files=64, space_id=1, storage_id=1, run_id=3, created_by_id=1, created_at=2025-05-03 19:48:15 UTC); to track this artifact as an input, use: ln.Artifact.get()\n",
      "\u001b[34mINFO    \u001b[0m The Zarr backing store has been changed from                                                              \n",
      "         \u001b[35m/Users/srivarra/Library/Caches/lamindb/\u001b[0m\u001b[95mCJCd1zLiRWqTmg520000.zarr\u001b[0m the new file path:                       \n",
      "         \u001b[35m/Users/srivarra/Library/Caches/lamindb/\u001b[0m\u001b[95mKdU8R7AeVLjjZiez0000.zarr\u001b[0m                                          \n",
      "\u001b[92m→\u001b[0m returning existing artifact with same hash: Artifact(uid='CJCd1zLiRWqTmg520000', is_latest=True, key='nbl_sdatas/NBL-5-R9C7.zarr', suffix='.zarr', kind='dataset', otype='SpatialData', size=98353327, hash='7DHeg_luiWqGyZIlQnL4Ow', n_files=64, space_id=1, storage_id=1, run_id=3, created_by_id=1, created_at=2025-05-03 19:48:15 UTC); to track this artifact as an input, use: ln.Artifact.get()\n",
      "\u001b[34mINFO    \u001b[0m The Zarr backing store has been changed from                                                              \n",
      "         \u001b[35m/Users/srivarra/Library/Caches/lamindb/\u001b[0m\u001b[95mnZlIxDwNN7zN7C5d0000.zarr\u001b[0m the new file path:                       \n",
      "         \u001b[35m/Users/srivarra/Library/Caches/lamindb/\u001b[0m\u001b[95mkaVAaVklWUfEw4Bc0000.zarr\u001b[0m                                          \n",
      "\u001b[92m→\u001b[0m returning existing artifact with same hash: Artifact(uid='nZlIxDwNN7zN7C5d0000', is_latest=True, key='nbl_sdatas/NBL-6-R4C4.zarr', suffix='.zarr', kind='dataset', otype='SpatialData', size=86158907, hash='rTrzMxxlX18MfvJgrf9UJA', n_files=64, space_id=1, storage_id=1, run_id=3, created_by_id=1, created_at=2025-05-03 19:48:16 UTC); to track this artifact as an input, use: ln.Artifact.get()\n",
      "\u001b[34mINFO    \u001b[0m The Zarr backing store has been changed from                                                              \n",
      "         \u001b[35m/Users/srivarra/Library/Caches/lamindb/\u001b[0m\u001b[95mAXsPMjRouKtUU1lj0000.zarr\u001b[0m the new file path:                       \n",
      "         \u001b[35m/Users/srivarra/Library/Caches/lamindb/\u001b[0m\u001b[95mXPi2CehV9bYLj1u40000.zarr\u001b[0m                                          \n",
      "\u001b[92m→\u001b[0m returning existing artifact with same hash: Artifact(uid='AXsPMjRouKtUU1lj0000', is_latest=True, key='nbl_sdatas/NBL-6-R9C4.zarr', suffix='.zarr', kind='dataset', otype='SpatialData', size=207272450, hash='czOQfuTDF-R8PGrz2AcI_w', n_files=64, space_id=1, storage_id=1, run_id=3, created_by_id=1, created_at=2025-05-03 19:48:17 UTC); to track this artifact as an input, use: ln.Artifact.get()\n",
      "\u001b[34mINFO    \u001b[0m The Zarr backing store has been changed from                                                              \n",
      "         \u001b[35m/Users/srivarra/Library/Caches/lamindb/\u001b[0m\u001b[95mNblmxAQybWJmuIag0000.zarr\u001b[0m the new file path:                       \n",
      "         \u001b[35m/Users/srivarra/Library/Caches/lamindb/\u001b[0m\u001b[95mJh0EX6RirbOMdYrM0000.zarr\u001b[0m                                          \n",
      "\u001b[92m→\u001b[0m returning existing artifact with same hash: Artifact(uid='NblmxAQybWJmuIag0000', is_latest=True, key='nbl_sdatas/NBL-6-R8C4.zarr', suffix='.zarr', kind='dataset', otype='SpatialData', size=216430207, hash='KlsAPwjmyWBZ8NpPoU14nw', n_files=64, space_id=1, storage_id=1, run_id=3, created_by_id=1, created_at=2025-05-03 19:48:18 UTC); to track this artifact as an input, use: ln.Artifact.get()\n",
      "\u001b[34mINFO    \u001b[0m The Zarr backing store has been changed from                                                              \n",
      "         \u001b[35m/Users/srivarra/Library/Caches/lamindb/\u001b[0m\u001b[95m9ZNCD8CJdSFbKOof0000.zarr\u001b[0m the new file path:                       \n",
      "         \u001b[35m/Users/srivarra/Library/Caches/lamindb/\u001b[0m\u001b[95mKtF6yDE1YOAKrcnE0000.zarr\u001b[0m                                          \n",
      "\u001b[92m→\u001b[0m returning existing artifact with same hash: Artifact(uid='9ZNCD8CJdSFbKOof0000', is_latest=True, key='nbl_sdatas/NBL-7-R12C2.zarr', suffix='.zarr', kind='dataset', otype='SpatialData', size=109597581, hash='GvcdVKfBomkey5RQT0RlKw', n_files=64, space_id=1, storage_id=1, run_id=3, created_by_id=1, created_at=2025-05-03 19:48:18 UTC); to track this artifact as an input, use: ln.Artifact.get()\n",
      "\u001b[34mINFO    \u001b[0m The Zarr backing store has been changed from                                                              \n",
      "         \u001b[35m/Users/srivarra/Library/Caches/lamindb/\u001b[0m\u001b[95m04WpYneCidIjtZw90000.zarr\u001b[0m the new file path:                       \n",
      "         \u001b[35m/Users/srivarra/Library/Caches/lamindb/\u001b[0m\u001b[95mO01SSzAQNtlNYtzT0000.zarr\u001b[0m                                          \n",
      "\u001b[92m→\u001b[0m returning existing artifact with same hash: Artifact(uid='04WpYneCidIjtZw90000', is_latest=True, key='nbl_sdatas/NBL-7-R1C1.zarr', suffix='.zarr', kind='dataset', otype='SpatialData', size=118450109, hash='lZtqDfPVMGjd_Fr8hpjLwQ', n_files=64, space_id=1, storage_id=1, run_id=3, created_by_id=1, created_at=2025-05-03 19:48:19 UTC); to track this artifact as an input, use: ln.Artifact.get()\n",
      "\u001b[34mINFO    \u001b[0m The Zarr backing store has been changed from                                                              \n",
      "         \u001b[35m/Users/srivarra/Library/Caches/lamindb/\u001b[0m\u001b[95mgsICpmS5HHScupbj0000.zarr\u001b[0m the new file path:                       \n",
      "         \u001b[35m/Users/srivarra/Library/Caches/lamindb/\u001b[0m\u001b[95mBxg0EU3KzcNUNF970000.zarr\u001b[0m                                          \n",
      "\u001b[92m→\u001b[0m returning existing artifact with same hash: Artifact(uid='gsICpmS5HHScupbj0000', is_latest=True, key='nbl_sdatas/NBL-7-R2C1.zarr', suffix='.zarr', kind='dataset', otype='SpatialData', size=244693323, hash='xYOqdVI442dWAyPrdzpc3Q', n_files=64, space_id=1, storage_id=1, run_id=3, created_by_id=1, created_at=2025-05-03 19:48:20 UTC); to track this artifact as an input, use: ln.Artifact.get()\n",
      "\u001b[34mINFO    \u001b[0m The Zarr backing store has been changed from                                                              \n",
      "         \u001b[35m/Users/srivarra/Library/Caches/lamindb/\u001b[0m\u001b[95mpbA86V3FAPiwtDUn0000.zarr\u001b[0m the new file path:                       \n",
      "         \u001b[35m/Users/srivarra/Library/Caches/lamindb/\u001b[0m\u001b[95mHXLzzLjoi1htrq7P0000.zarr\u001b[0m                                          \n",
      "\u001b[92m→\u001b[0m returning existing artifact with same hash: Artifact(uid='pbA86V3FAPiwtDUn0000', is_latest=True, key='nbl_sdatas/NBL-8-R6C6.zarr', suffix='.zarr', kind='dataset', otype='SpatialData', size=80926226, hash='9iAMPWqESiwiJCuJ3yrN9w', n_files=64, space_id=1, storage_id=1, run_id=3, created_by_id=1, created_at=2025-05-03 19:48:21 UTC); to track this artifact as an input, use: ln.Artifact.get()\n",
      "\u001b[34mINFO    \u001b[0m The Zarr backing store has been changed from                                                              \n",
      "         \u001b[35m/Users/srivarra/Library/Caches/lamindb/\u001b[0m\u001b[95mbyb9aWO7nQCU5KEp0000.zarr\u001b[0m the new file path:                       \n",
      "         \u001b[35m/Users/srivarra/Library/Caches/lamindb/\u001b[0m\u001b[95mMg49rEE3F9CoJb0L0000.zarr\u001b[0m                                          \n",
      "\u001b[92m→\u001b[0m returning existing artifact with same hash: Artifact(uid='byb9aWO7nQCU5KEp0000', is_latest=True, key='nbl_sdatas/NBL-8-R4C5.zarr', suffix='.zarr', kind='dataset', otype='SpatialData', size=64826222, hash='YHCtRektYsDkThooxoshXw', n_files=64, space_id=1, storage_id=1, run_id=3, created_by_id=1, created_at=2025-05-03 19:48:21 UTC); to track this artifact as an input, use: ln.Artifact.get()\n",
      "\u001b[34mINFO    \u001b[0m The Zarr backing store has been changed from                                                              \n",
      "         \u001b[35m/Users/srivarra/Library/Caches/lamindb/\u001b[0m\u001b[95mfnebJ4qSzQTGZqQx0000.zarr\u001b[0m the new file path:                       \n",
      "         \u001b[35m/Users/srivarra/Library/Caches/lamindb/\u001b[0m\u001b[95mFJaptXlpk9678Q550000.zarr\u001b[0m                                          \n",
      "\u001b[92m→\u001b[0m returning existing artifact with same hash: Artifact(uid='fnebJ4qSzQTGZqQx0000', is_latest=True, key='nbl_sdatas/NBL-8-R3C5.zarr', suffix='.zarr', kind='dataset', otype='SpatialData', size=69504755, hash='Su90a3CkavebKTKYpmLXSQ', n_files=64, space_id=1, storage_id=1, run_id=3, created_by_id=1, created_at=2025-05-03 19:48:22 UTC); to track this artifact as an input, use: ln.Artifact.get()\n",
      "\u001b[34mINFO    \u001b[0m The Zarr backing store has been changed from                                                              \n",
      "         \u001b[35m/Users/srivarra/Library/Caches/lamindb/\u001b[0m\u001b[95mmZgXpyJscdAhU6lr0000.zarr\u001b[0m the new file path:                       \n",
      "         \u001b[35m/Users/srivarra/Library/Caches/lamindb/\u001b[0m\u001b[95mxTgsdDmpGEIsUmRu0000.zarr\u001b[0m                                          \n",
      "\u001b[92m→\u001b[0m returning existing artifact with same hash: Artifact(uid='mZgXpyJscdAhU6lr0000', is_latest=True, key='nbl_sdatas/NBL-9-R9C6.zarr', suffix='.zarr', kind='dataset', otype='SpatialData', size=88199266, hash='wsltY2saI7f6rKkQM8Ap_A', n_files=64, space_id=1, storage_id=1, run_id=3, created_by_id=1, created_at=2025-05-03 19:48:23 UTC); to track this artifact as an input, use: ln.Artifact.get()\n",
      "\u001b[34mINFO    \u001b[0m The Zarr backing store has been changed from                                                              \n",
      "         \u001b[35m/Users/srivarra/Library/Caches/lamindb/\u001b[0m\u001b[95m0cyd3AdFc8THZEJ90000.zarr\u001b[0m the new file path:                       \n",
      "         \u001b[35m/Users/srivarra/Library/Caches/lamindb/\u001b[0m\u001b[95meU0j53TkXchavqIW0000.zarr\u001b[0m                                          \n",
      "\u001b[92m→\u001b[0m returning existing artifact with same hash: Artifact(uid='0cyd3AdFc8THZEJ90000', is_latest=True, key='nbl_sdatas/NBL-9-R8C6.zarr', suffix='.zarr', kind='dataset', otype='SpatialData', size=84816395, hash='qY_nMB_baINKr1vpcpKQYA', n_files=64, space_id=1, storage_id=1, run_id=3, created_by_id=1, created_at=2025-05-03 19:48:23 UTC); to track this artifact as an input, use: ln.Artifact.get()\n",
      "\u001b[34mINFO    \u001b[0m The Zarr backing store has been changed from                                                              \n",
      "         \u001b[35m/Users/srivarra/Library/Caches/lamindb/\u001b[0m\u001b[95mFTQ1mOnnAxPo5aXi0000.zarr\u001b[0m the new file path:                       \n",
      "         \u001b[35m/Users/srivarra/Library/Caches/lamindb/\u001b[0m\u001b[95mPTMjzmJEMvDWcBVQ0000.zarr\u001b[0m                                          \n",
      "\u001b[92m→\u001b[0m returning existing artifact with same hash: Artifact(uid='FTQ1mOnnAxPo5aXi0000', is_latest=True, key='nbl_sdatas/NBL-9-R1C5.zarr', suffix='.zarr', kind='dataset', otype='SpatialData', size=79461297, hash='nCjjhefxaWBX_XWUSyP9bQ', n_files=64, space_id=1, storage_id=1, run_id=3, created_by_id=1, created_at=2025-05-03 19:48:24 UTC); to track this artifact as an input, use: ln.Artifact.get()\n",
      "\u001b[34mINFO    \u001b[0m The Zarr backing store has been changed from                                                              \n",
      "         \u001b[35m/Users/srivarra/Library/Caches/lamindb/\u001b[0m\u001b[95mYqZLDjdryAYESDSv0000.zarr\u001b[0m the new file path:                       \n",
      "         \u001b[35m/Users/srivarra/Library/Caches/lamindb/\u001b[0m\u001b[95mmI4oImzBAmz0K18A0000.zarr\u001b[0m                                          \n",
      "\u001b[92m→\u001b[0m returning existing artifact with same hash: Artifact(uid='YqZLDjdryAYESDSv0000', is_latest=True, key='nbl_sdatas/NBL-9-R2C5.zarr', suffix='.zarr', kind='dataset', otype='SpatialData', size=93840266, hash='zhr2q9mQ3aumjUBzRtW94g', n_files=64, space_id=1, storage_id=1, run_id=3, created_by_id=1, created_at=2025-05-03 19:48:24 UTC); to track this artifact as an input, use: ln.Artifact.get()\n",
      "\u001b[34mINFO    \u001b[0m The Zarr backing store has been changed from                                                              \n",
      "         \u001b[35m/Users/srivarra/Library/Caches/lamindb/\u001b[0m\u001b[95m8gdLZnuKK0U69eOi0000.zarr\u001b[0m the new file path:                       \n",
      "         \u001b[35m/Users/srivarra/Library/Caches/lamindb/\u001b[0m\u001b[95mZlrs6VVMX2CRcePS0000.zarr\u001b[0m                                          \n",
      "\u001b[92m→\u001b[0m returning existing artifact with same hash: Artifact(uid='8gdLZnuKK0U69eOi0000', is_latest=True, key='nbl_sdatas/NBL-10-R8C11.zarr', suffix='.zarr', kind='dataset', otype='SpatialData', size=204019750, hash='Vdyuehw8vC2GkJLRpVwXEg', n_files=64, space_id=1, storage_id=1, run_id=3, created_by_id=1, created_at=2025-05-03 19:48:25 UTC); to track this artifact as an input, use: ln.Artifact.get()\n",
      "\u001b[34mINFO    \u001b[0m The Zarr backing store has been changed from                                                              \n",
      "         \u001b[35m/Users/srivarra/Library/Caches/lamindb/\u001b[0m\u001b[95moEaurXtZ9kXZtQNI0000.zarr\u001b[0m the new file path:                       \n",
      "         \u001b[35m/Users/srivarra/Library/Caches/lamindb/\u001b[0m\u001b[95m8iJNbm4KmfHdZKoE0000.zarr\u001b[0m                                          \n",
      "\u001b[92m→\u001b[0m returning existing artifact with same hash: Artifact(uid='oEaurXtZ9kXZtQNI0000', is_latest=True, key='nbl_sdatas/NBL-10-R9C11.zarr', suffix='.zarr', kind='dataset', otype='SpatialData', size=95064036, hash='vvorrwAftEkOrEkk_im3ZA', n_files=64, space_id=1, storage_id=1, run_id=3, created_by_id=1, created_at=2025-05-03 19:48:26 UTC); to track this artifact as an input, use: ln.Artifact.get()\n",
      "\u001b[34mINFO    \u001b[0m The Zarr backing store has been changed from                                                              \n",
      "         \u001b[35m/Users/srivarra/Library/Caches/lamindb/\u001b[0m\u001b[95mWlnUAnXcCSvatNla0000.zarr\u001b[0m the new file path:                       \n",
      "         \u001b[35m/Users/srivarra/Library/Caches/lamindb/\u001b[0m\u001b[95maHELizba3fGrPe2o0000.zarr\u001b[0m                                          \n",
      "\u001b[92m→\u001b[0m returning existing artifact with same hash: Artifact(uid='WlnUAnXcCSvatNla0000', is_latest=True, key='nbl_sdatas/NBL-11-R10C11.zarr', suffix='.zarr', kind='dataset', otype='SpatialData', size=224611183, hash='GNoA7ePYT4rwQS1myD-pbw', n_files=64, space_id=1, storage_id=1, run_id=3, created_by_id=1, created_at=2025-05-03 19:48:27 UTC); to track this artifact as an input, use: ln.Artifact.get()\n",
      "\u001b[34mINFO    \u001b[0m The Zarr backing store has been changed from                                                              \n",
      "         \u001b[35m/Users/srivarra/Library/Caches/lamindb/\u001b[0m\u001b[95mQCuFmSSoU7OA03cA0000.zarr\u001b[0m the new file path:                       \n",
      "         \u001b[35m/Users/srivarra/Library/Caches/lamindb/\u001b[0m\u001b[95mvRQNDEQo53GMYkm70000.zarr\u001b[0m                                          \n",
      "\u001b[92m→\u001b[0m returning existing artifact with same hash: Artifact(uid='QCuFmSSoU7OA03cA0000', is_latest=True, key='nbl_sdatas/NBL-11-R11C11.zarr', suffix='.zarr', kind='dataset', otype='SpatialData', size=88366570, hash='E7DCdOV7AQt6NuZvy2-R0Q', n_files=64, space_id=1, storage_id=1, run_id=3, created_by_id=1, created_at=2025-05-03 19:48:28 UTC); to track this artifact as an input, use: ln.Artifact.get()\n",
      "\u001b[34mINFO    \u001b[0m The Zarr backing store has been changed from                                                              \n",
      "         \u001b[35m/Users/srivarra/Library/Caches/lamindb/\u001b[0m\u001b[95mrgRHubFKEt267Bh70000.zarr\u001b[0m the new file path:                       \n",
      "         \u001b[35m/Users/srivarra/Library/Caches/lamindb/\u001b[0m\u001b[95mthxB26p3GragQoBQ0000.zarr\u001b[0m                                          \n",
      "\u001b[92m→\u001b[0m returning existing artifact with same hash: Artifact(uid='rgRHubFKEt267Bh70000', is_latest=True, key='nbl_sdatas/NBL-12-R12C11.zarr', suffix='.zarr', kind='dataset', otype='SpatialData', size=53152346, hash='Lvj2yhJPxnfIQcQZHQgIZg', n_files=64, space_id=1, storage_id=1, run_id=3, created_by_id=1, created_at=2025-05-03 19:48:28 UTC); to track this artifact as an input, use: ln.Artifact.get()\n",
      "\u001b[34mINFO    \u001b[0m The Zarr backing store has been changed from                                                              \n",
      "         \u001b[35m/Users/srivarra/Library/Caches/lamindb/\u001b[0m\u001b[95mqAQLpnqVSwpCuWZl0000.zarr\u001b[0m the new file path:                       \n",
      "         \u001b[35m/Users/srivarra/Library/Caches/lamindb/\u001b[0m\u001b[95mLmrHllNYuDjMwrFG0000.zarr\u001b[0m                                          \n",
      "\u001b[92m→\u001b[0m returning existing artifact with same hash: Artifact(uid='qAQLpnqVSwpCuWZl0000', is_latest=True, key='nbl_sdatas/NBL-12-R13C11.zarr', suffix='.zarr', kind='dataset', otype='SpatialData', size=41987697, hash='yOEpwgu8F-uLvxR6Y39r4g', n_files=64, space_id=1, storage_id=1, run_id=3, created_by_id=1, created_at=2025-05-03 19:48:29 UTC); to track this artifact as an input, use: ln.Artifact.get()\n",
      "\u001b[34mINFO    \u001b[0m The Zarr backing store has been changed from                                                              \n",
      "         \u001b[35m/Users/srivarra/Library/Caches/lamindb/\u001b[0m\u001b[95mlxK10PUD29PfLTIH0000.zarr\u001b[0m the new file path:                       \n",
      "         \u001b[35m/Users/srivarra/Library/Caches/lamindb/\u001b[0m\u001b[95mqU6YmUxNfzR4IF550000.zarr\u001b[0m                                          \n",
      "\u001b[92m→\u001b[0m returning existing artifact with same hash: Artifact(uid='lxK10PUD29PfLTIH0000', is_latest=True, key='nbl_sdatas/NBL-14-R3C10.zarr', suffix='.zarr', kind='dataset', otype='SpatialData', size=210342461, hash='soBfe08dXywGh9-0UDpB3Q', n_files=64, space_id=1, storage_id=1, run_id=3, created_by_id=1, created_at=2025-05-03 19:48:29 UTC); to track this artifact as an input, use: ln.Artifact.get()\n",
      "\u001b[34mINFO    \u001b[0m The Zarr backing store has been changed from                                                              \n",
      "         \u001b[35m/Users/srivarra/Library/Caches/lamindb/\u001b[0m\u001b[95mC1wSLyqW0cVXUTF20000.zarr\u001b[0m the new file path:                       \n",
      "         \u001b[35m/Users/srivarra/Library/Caches/lamindb/\u001b[0m\u001b[95mGZ2NnNkcqzUPmwao0000.zarr\u001b[0m                                          \n",
      "\u001b[92m→\u001b[0m returning existing artifact with same hash: Artifact(uid='C1wSLyqW0cVXUTF20000', is_latest=True, key='nbl_sdatas/NBL-14-R4C10.zarr', suffix='.zarr', kind='dataset', otype='SpatialData', size=96550274, hash='wDZQRQv2X7ugW4pHTCTR7A', n_files=64, space_id=1, storage_id=1, run_id=3, created_by_id=1, created_at=2025-05-03 19:48:30 UTC); to track this artifact as an input, use: ln.Artifact.get()\n",
      "\u001b[34mINFO    \u001b[0m The Zarr backing store has been changed from                                                              \n",
      "         \u001b[35m/Users/srivarra/Library/Caches/lamindb/\u001b[0m\u001b[95mlml5xoSFDuZOUARl0000.zarr\u001b[0m the new file path:                       \n",
      "         \u001b[35m/Users/srivarra/Library/Caches/lamindb/\u001b[0m\u001b[95mksrmn4SvbVxis3AD0000.zarr\u001b[0m                                          \n",
      "\u001b[92m→\u001b[0m returning existing artifact with same hash: Artifact(uid='lml5xoSFDuZOUARl0000', is_latest=True, key='nbl_sdatas/NBL-15-R5C10.zarr', suffix='.zarr', kind='dataset', otype='SpatialData', size=90725658, hash='ZsTxVT9tdMSEMv7FLsIBUw', n_files=64, space_id=1, storage_id=1, run_id=3, created_by_id=1, created_at=2025-05-03 19:48:31 UTC); to track this artifact as an input, use: ln.Artifact.get()\n",
      "\u001b[34mINFO    \u001b[0m The Zarr backing store has been changed from                                                              \n",
      "         \u001b[35m/Users/srivarra/Library/Caches/lamindb/\u001b[0m\u001b[95mNVdHbtBMb3M1JJWk0000.zarr\u001b[0m the new file path:                       \n",
      "         \u001b[35m/Users/srivarra/Library/Caches/lamindb/\u001b[0m\u001b[95mBjjse1r3S9NbKkTu0000.zarr\u001b[0m                                          \n",
      "\u001b[92m→\u001b[0m returning existing artifact with same hash: Artifact(uid='NVdHbtBMb3M1JJWk0000', is_latest=True, key='nbl_sdatas/NBL-15-R6C10.zarr', suffix='.zarr', kind='dataset', otype='SpatialData', size=83529149, hash='UfT3HG2vGE7uBkGmAXQyXg', n_files=64, space_id=1, storage_id=1, run_id=3, created_by_id=1, created_at=2025-05-03 19:48:31 UTC); to track this artifact as an input, use: ln.Artifact.get()\n",
      "\u001b[34mINFO    \u001b[0m The Zarr backing store has been changed from                                                              \n",
      "         \u001b[35m/Users/srivarra/Library/Caches/lamindb/\u001b[0m\u001b[95mWxNSCrEXfESybwCD0000.zarr\u001b[0m the new file path:                       \n",
      "         \u001b[35m/Users/srivarra/Library/Caches/lamindb/\u001b[0m\u001b[95m32LQUC8QNDpjI4l50000.zarr\u001b[0m                                          \n",
      "\u001b[92m→\u001b[0m returning existing artifact with same hash: Artifact(uid='WxNSCrEXfESybwCD0000', is_latest=True, key='nbl_sdatas/NBL-16-R9C10.zarr', suffix='.zarr', kind='dataset', otype='SpatialData', size=103632632, hash='7Pk-Ad7i8bhD7F27jjiofQ', n_files=64, space_id=1, storage_id=1, run_id=3, created_by_id=1, created_at=2025-05-03 19:48:32 UTC); to track this artifact as an input, use: ln.Artifact.get()\n",
      "\u001b[34mINFO    \u001b[0m The Zarr backing store has been changed from                                                              \n",
      "         \u001b[35m/Users/srivarra/Library/Caches/lamindb/\u001b[0m\u001b[95mrq9pFy2DFmpDGKZS0000.zarr\u001b[0m the new file path:                       \n",
      "         \u001b[35m/Users/srivarra/Library/Caches/lamindb/\u001b[0m\u001b[95mLUOhjVE0qvOSbdCZ0000.zarr\u001b[0m                                          \n",
      "\u001b[92m→\u001b[0m returning existing artifact with same hash: Artifact(uid='rq9pFy2DFmpDGKZS0000', is_latest=True, key='nbl_sdatas/NBL-16-R8C10.zarr', suffix='.zarr', kind='dataset', otype='SpatialData', size=77162379, hash='8-BBumfGyJgsmJUCEsYjBA', n_files=64, space_id=1, storage_id=1, run_id=3, created_by_id=1, created_at=2025-05-03 19:48:33 UTC); to track this artifact as an input, use: ln.Artifact.get()\n",
      "\u001b[34mINFO    \u001b[0m The Zarr backing store has been changed from                                                              \n",
      "         \u001b[35m/Users/srivarra/Library/Caches/lamindb/\u001b[0m\u001b[95mLR2JG1HNQjhdHnR50000.zarr\u001b[0m the new file path:                       \n",
      "         \u001b[35m/Users/srivarra/Library/Caches/lamindb/\u001b[0m\u001b[95miiqtQSM1F9GTfdrM0000.zarr\u001b[0m                                          \n",
      "\u001b[92m→\u001b[0m returning existing artifact with same hash: Artifact(uid='LR2JG1HNQjhdHnR50000', is_latest=True, key='nbl_sdatas/NBL-17-R10C10.zarr', suffix='.zarr', kind='dataset', otype='SpatialData', size=103802477, hash='CpA-0s3YnIdbfvDysatPNg', n_files=64, space_id=1, storage_id=1, run_id=3, created_by_id=1, created_at=2025-05-03 19:48:34 UTC); to track this artifact as an input, use: ln.Artifact.get()\n",
      "\u001b[34mINFO    \u001b[0m The Zarr backing store has been changed from                                                              \n",
      "         \u001b[35m/Users/srivarra/Library/Caches/lamindb/\u001b[0m\u001b[95mDxqy9beYJqwsZAJc0000.zarr\u001b[0m the new file path:                       \n",
      "         \u001b[35m/Users/srivarra/Library/Caches/lamindb/\u001b[0m\u001b[95mxvnyksJSDFw3SCvN0000.zarr\u001b[0m                                          \n",
      "\u001b[92m→\u001b[0m returning existing artifact with same hash: Artifact(uid='Dxqy9beYJqwsZAJc0000', is_latest=True, key='nbl_sdatas/NBL-17-R11C10.zarr', suffix='.zarr', kind='dataset', otype='SpatialData', size=125851163, hash='86YDkL7l-VYaujWVMG8vsQ', n_files=64, space_id=1, storage_id=1, run_id=3, created_by_id=1, created_at=2025-05-03 19:48:34 UTC); to track this artifact as an input, use: ln.Artifact.get()\n",
      "\u001b[34mINFO    \u001b[0m The Zarr backing store has been changed from                                                              \n",
      "         \u001b[35m/Users/srivarra/Library/Caches/lamindb/\u001b[0m\u001b[95md9Yn2ijFnItRxYRW0000.zarr\u001b[0m the new file path:                       \n",
      "         \u001b[35m/Users/srivarra/Library/Caches/lamindb/\u001b[0m\u001b[95mHl8qQcxUjvHZBtIg0000.zarr\u001b[0m                                          \n",
      "\u001b[92m→\u001b[0m returning existing artifact with same hash: Artifact(uid='d9Yn2ijFnItRxYRW0000', is_latest=True, key='nbl_sdatas/NBL-19-R1C9.zarr', suffix='.zarr', kind='dataset', otype='SpatialData', size=80765822, hash='ck4LrwHfoE2CkmXShE0k3g', n_files=64, space_id=1, storage_id=1, run_id=3, created_by_id=1, created_at=2025-05-03 19:48:35 UTC); to track this artifact as an input, use: ln.Artifact.get()\n",
      "\u001b[34mINFO    \u001b[0m The Zarr backing store has been changed from                                                              \n",
      "         \u001b[35m/Users/srivarra/Library/Caches/lamindb/\u001b[0m\u001b[95mGevnJo6XTAUUPWDF0000.zarr\u001b[0m the new file path:                       \n",
      "         \u001b[35m/Users/srivarra/Library/Caches/lamindb/\u001b[0m\u001b[95mthOIUaIppiWSfngB0000.zarr\u001b[0m                                          \n",
      "\u001b[92m→\u001b[0m returning existing artifact with same hash: Artifact(uid='GevnJo6XTAUUPWDF0000', is_latest=True, key='nbl_sdatas/NBL-19-R2C9.zarr', suffix='.zarr', kind='dataset', otype='SpatialData', size=81334604, hash='e6Q598mt0r51PeE3X0jSvA', n_files=64, space_id=1, storage_id=1, run_id=3, created_by_id=1, created_at=2025-05-03 19:48:36 UTC); to track this artifact as an input, use: ln.Artifact.get()\n",
      "\u001b[34mINFO    \u001b[0m The Zarr backing store has been changed from                                                              \n",
      "         \u001b[35m/Users/srivarra/Library/Caches/lamindb/\u001b[0m\u001b[95mni0IV0Mm3iqrfPOH0000.zarr\u001b[0m the new file path:                       \n",
      "         \u001b[35m/Users/srivarra/Library/Caches/lamindb/\u001b[0m\u001b[95mKWuZUR3j2zbo23xP0000.zarr\u001b[0m                                          \n",
      "\u001b[92m→\u001b[0m returning existing artifact with same hash: Artifact(uid='ni0IV0Mm3iqrfPOH0000', is_latest=True, key='nbl_sdatas/NBL-20-R4C9.zarr', suffix='.zarr', kind='dataset', otype='SpatialData', size=79212675, hash='VaDTdoU-VWhFr-_a2Uepfw', n_files=64, space_id=1, storage_id=1, run_id=3, created_by_id=1, created_at=2025-05-03 19:48:36 UTC); to track this artifact as an input, use: ln.Artifact.get()\n",
      "\u001b[34mINFO    \u001b[0m The Zarr backing store has been changed from                                                              \n",
      "         \u001b[35m/Users/srivarra/Library/Caches/lamindb/\u001b[0m\u001b[95mPxdEh3RGltDxb0t70000.zarr\u001b[0m the new file path:                       \n",
      "         \u001b[35m/Users/srivarra/Library/Caches/lamindb/\u001b[0m\u001b[95mribMMIGQrnCFqscF0000.zarr\u001b[0m                                          \n",
      "\u001b[92m→\u001b[0m returning existing artifact with same hash: Artifact(uid='PxdEh3RGltDxb0t70000', is_latest=True, key='nbl_sdatas/NBL-20-R3C9.zarr', suffix='.zarr', kind='dataset', otype='SpatialData', size=71978290, hash='BqthpYyCII-32DAbdCnRqw', n_files=64, space_id=1, storage_id=1, run_id=3, created_by_id=1, created_at=2025-05-03 19:48:37 UTC); to track this artifact as an input, use: ln.Artifact.get()\n",
      "\u001b[34mINFO    \u001b[0m The Zarr backing store has been changed from                                                              \n",
      "         \u001b[35m/Users/srivarra/Library/Caches/lamindb/\u001b[0m\u001b[95mwJ3VdSjXlHXhYqZ00000.zarr\u001b[0m the new file path:                       \n",
      "         \u001b[35m/Users/srivarra/Library/Caches/lamindb/\u001b[0m\u001b[95mwiJg1TEWh3ApxhpF0000.zarr\u001b[0m                                          \n",
      "\u001b[92m→\u001b[0m returning existing artifact with same hash: Artifact(uid='wJ3VdSjXlHXhYqZ00000', is_latest=True, key='nbl_sdatas/NBL-21-R5C9.zarr', suffix='.zarr', kind='dataset', otype='SpatialData', size=179618976, hash='NCY-VG0gc2zItxu3F6mTDA', n_files=64, space_id=1, storage_id=1, run_id=3, created_by_id=1, created_at=2025-05-03 19:48:38 UTC); to track this artifact as an input, use: ln.Artifact.get()\n",
      "\u001b[34mINFO    \u001b[0m The Zarr backing store has been changed from                                                              \n",
      "         \u001b[35m/Users/srivarra/Library/Caches/lamindb/\u001b[0m\u001b[95mXVRNkMcVxQIJVztC0000.zarr\u001b[0m the new file path:                       \n",
      "         \u001b[35m/Users/srivarra/Library/Caches/lamindb/\u001b[0m\u001b[95mWoUrCjHtwHSmHbmE0000.zarr\u001b[0m                                          \n",
      "\u001b[92m→\u001b[0m returning existing artifact with same hash: Artifact(uid='XVRNkMcVxQIJVztC0000', is_latest=True, key='nbl_sdatas/NBL-21-R6C9.zarr', suffix='.zarr', kind='dataset', otype='SpatialData', size=96218336, hash='6wvSSHnWnNvC64ccbVGx-Q', n_files=64, space_id=1, storage_id=1, run_id=3, created_by_id=1, created_at=2025-05-03 19:48:38 UTC); to track this artifact as an input, use: ln.Artifact.get()\n",
      "\u001b[34mINFO    \u001b[0m The Zarr backing store has been changed from                                                              \n",
      "         \u001b[35m/Users/srivarra/Library/Caches/lamindb/\u001b[0m\u001b[95mNSt7x2cgvn77dDSi0000.zarr\u001b[0m the new file path:                       \n",
      "         \u001b[35m/Users/srivarra/Library/Caches/lamindb/\u001b[0m\u001b[95msLQYfyg6bNiYm6Qh0000.zarr\u001b[0m                                          \n",
      "\u001b[92m→\u001b[0m returning existing artifact with same hash: Artifact(uid='NSt7x2cgvn77dDSi0000', is_latest=True, key='nbl_sdatas/NBL-22-R8C9.zarr', suffix='.zarr', kind='dataset', otype='SpatialData', size=99295553, hash='flUDZp00zMxti3c8EQstBQ', n_files=64, space_id=1, storage_id=1, run_id=3, created_by_id=1, created_at=2025-05-03 19:48:39 UTC); to track this artifact as an input, use: ln.Artifact.get()\n",
      "\u001b[34mINFO    \u001b[0m The Zarr backing store has been changed from                                                              \n",
      "         \u001b[35m/Users/srivarra/Library/Caches/lamindb/\u001b[0m\u001b[95m8sQHlTAJrVqwQVXB0000.zarr\u001b[0m the new file path:                       \n",
      "         \u001b[35m/Users/srivarra/Library/Caches/lamindb/\u001b[0m\u001b[95mimQM2x9hkckwYfEf0000.zarr\u001b[0m                                          \n",
      "\u001b[92m→\u001b[0m returning existing artifact with same hash: Artifact(uid='8sQHlTAJrVqwQVXB0000', is_latest=True, key='nbl_sdatas/NBL-22-R9C9.zarr', suffix='.zarr', kind='dataset', otype='SpatialData', size=90048504, hash='ILEyMX62cinEeUSnQdf-yA', n_files=64, space_id=1, storage_id=1, run_id=3, created_by_id=1, created_at=2025-05-03 19:48:40 UTC); to track this artifact as an input, use: ln.Artifact.get()\n",
      "\u001b[34mINFO    \u001b[0m The Zarr backing store has been changed from                                                              \n",
      "         \u001b[35m/Users/srivarra/Library/Caches/lamindb/\u001b[0m\u001b[95meS3YG5mRjrEOnfhI0000.zarr\u001b[0m the new file path:                       \n",
      "         \u001b[35m/Users/srivarra/Library/Caches/lamindb/\u001b[0m\u001b[95mqhOBIVzyhHRmxi0F0000.zarr\u001b[0m                                          \n",
      "\u001b[92m→\u001b[0m returning existing artifact with same hash: Artifact(uid='eS3YG5mRjrEOnfhI0000', is_latest=True, key='nbl_sdatas/NBL-23-R10C9.zarr', suffix='.zarr', kind='dataset', otype='SpatialData', size=87028025, hash='CplcJzW6_E2zntUckGqDuQ', n_files=64, space_id=1, storage_id=1, run_id=3, created_by_id=1, created_at=2025-05-03 19:48:41 UTC); to track this artifact as an input, use: ln.Artifact.get()\n",
      "\u001b[34mINFO    \u001b[0m The Zarr backing store has been changed from                                                              \n",
      "         \u001b[35m/Users/srivarra/Library/Caches/lamindb/\u001b[0m\u001b[95mwtIfwyFCObHFQlD30000.zarr\u001b[0m the new file path:                       \n",
      "         \u001b[35m/Users/srivarra/Library/Caches/lamindb/\u001b[0m\u001b[95mFnO9f3y32ViqJlJQ0000.zarr\u001b[0m                                          \n",
      "\u001b[92m→\u001b[0m returning existing artifact with same hash: Artifact(uid='wtIfwyFCObHFQlD30000', is_latest=True, key='nbl_sdatas/NBL-23-R11C9.zarr', suffix='.zarr', kind='dataset', otype='SpatialData', size=91185602, hash='Zbj-50LLn7YEDh8dER3y9w', n_files=64, space_id=1, storage_id=1, run_id=3, created_by_id=1, created_at=2025-05-03 19:48:41 UTC); to track this artifact as an input, use: ln.Artifact.get()\n",
      "\u001b[34mINFO    \u001b[0m The Zarr backing store has been changed from                                                              \n",
      "         \u001b[35m/Users/srivarra/Library/Caches/lamindb/\u001b[0m\u001b[95m5Q1JLdYkP7GtPHEZ0000.zarr\u001b[0m the new file path:                       \n",
      "         \u001b[35m/Users/srivarra/Library/Caches/lamindb/\u001b[0m\u001b[95m3DsvSS7KLcePY7ce0000.zarr\u001b[0m                                          \n",
      "\u001b[92m→\u001b[0m returning existing artifact with same hash: Artifact(uid='5Q1JLdYkP7GtPHEZ0000', is_latest=True, key='nbl_sdatas/NBL-24-R13C9.zarr', suffix='.zarr', kind='dataset', otype='SpatialData', size=185436065, hash='IYtS9MqOxLW1jJh6AnhJTQ', n_files=64, space_id=1, storage_id=1, run_id=3, created_by_id=1, created_at=2025-05-03 19:48:42 UTC); to track this artifact as an input, use: ln.Artifact.get()\n",
      "\u001b[34mINFO    \u001b[0m The Zarr backing store has been changed from                                                              \n",
      "         \u001b[35m/Users/srivarra/Library/Caches/lamindb/\u001b[0m\u001b[95mHBl5XdeDzf8yfkpm0000.zarr\u001b[0m the new file path:                       \n",
      "         \u001b[35m/Users/srivarra/Library/Caches/lamindb/\u001b[0m\u001b[95msCIYgAJXQv2scLpF0000.zarr\u001b[0m                                          \n",
      "\u001b[92m→\u001b[0m returning existing artifact with same hash: Artifact(uid='HBl5XdeDzf8yfkpm0000', is_latest=True, key='nbl_sdatas/NBL-24-R12C9.zarr', suffix='.zarr', kind='dataset', otype='SpatialData', size=75112265, hash='qR2YUP0WEUBr7wOOG54tbA', n_files=64, space_id=1, storage_id=1, run_id=3, created_by_id=1, created_at=2025-05-03 19:48:43 UTC); to track this artifact as an input, use: ln.Artifact.get()\n",
      "\u001b[34mINFO    \u001b[0m The Zarr backing store has been changed from                                                              \n",
      "         \u001b[35m/Users/srivarra/Library/Caches/lamindb/\u001b[0m\u001b[95mjrWkEODC167w3e400000.zarr\u001b[0m the new file path:                       \n",
      "         \u001b[35m/Users/srivarra/Library/Caches/lamindb/\u001b[0m\u001b[95mdzRK8UBU4GQ7Hyjh0000.zarr\u001b[0m                                          \n",
      "\u001b[92m→\u001b[0m returning existing artifact with same hash: Artifact(uid='jrWkEODC167w3e400000', is_latest=True, key='nbl_sdatas/NBL-25-R1C8.zarr', suffix='.zarr', kind='dataset', otype='SpatialData', size=192211868, hash='YV1XUtaB_m99yYueQUDR5g', n_files=64, space_id=1, storage_id=1, run_id=3, created_by_id=1, created_at=2025-05-03 19:48:44 UTC); to track this artifact as an input, use: ln.Artifact.get()\n",
      "\u001b[34mINFO    \u001b[0m The Zarr backing store has been changed from                                                              \n",
      "         \u001b[35m/Users/srivarra/Library/Caches/lamindb/\u001b[0m\u001b[95mqTLvRkguVq4zCYWa0000.zarr\u001b[0m the new file path:                       \n",
      "         \u001b[35m/Users/srivarra/Library/Caches/lamindb/\u001b[0m\u001b[95m4bLep2hJDDOXGMGv0000.zarr\u001b[0m                                          \n",
      "\u001b[92m→\u001b[0m returning existing artifact with same hash: Artifact(uid='qTLvRkguVq4zCYWa0000', is_latest=True, key='nbl_sdatas/NBL-25-R2C8.zarr', suffix='.zarr', kind='dataset', otype='SpatialData', size=201884466, hash='luHKf_Xi19_Qi2FHds8u9A', n_files=64, space_id=1, storage_id=1, run_id=3, created_by_id=1, created_at=2025-05-03 19:48:44 UTC); to track this artifact as an input, use: ln.Artifact.get()\n",
      "\u001b[34mINFO    \u001b[0m The Zarr backing store has been changed from                                                              \n",
      "         \u001b[35m/Users/srivarra/Library/Caches/lamindb/\u001b[0m\u001b[95mchiMzXzfrMMQhna30000.zarr\u001b[0m the new file path:                       \n",
      "         \u001b[35m/Users/srivarra/Library/Caches/lamindb/\u001b[0m\u001b[95mfwe04ZnVSukp6Ntg0000.zarr\u001b[0m                                          \n",
      "\u001b[92m→\u001b[0m returning existing artifact with same hash: Artifact(uid='chiMzXzfrMMQhna30000', is_latest=True, key='nbl_sdatas/NBL-28-R8C8.zarr', suffix='.zarr', kind='dataset', otype='SpatialData', size=46535146, hash='csU-_lS1UzbGkA8pDZUhOA', n_files=64, space_id=1, storage_id=1, run_id=3, created_by_id=1, created_at=2025-05-03 19:48:45 UTC); to track this artifact as an input, use: ln.Artifact.get()\n",
      "\u001b[34mINFO    \u001b[0m The Zarr backing store has been changed from                                                              \n",
      "         \u001b[35m/Users/srivarra/Library/Caches/lamindb/\u001b[0m\u001b[95m67xdOq4VelrH0J4K0000.zarr\u001b[0m the new file path:                       \n",
      "         \u001b[35m/Users/srivarra/Library/Caches/lamindb/\u001b[0m\u001b[95m5M12tEbM4YIirT1t0000.zarr\u001b[0m                                          \n",
      "\u001b[92m→\u001b[0m returning existing artifact with same hash: Artifact(uid='67xdOq4VelrH0J4K0000', is_latest=True, key='nbl_sdatas/NBL-29-R11C8.zarr', suffix='.zarr', kind='dataset', otype='SpatialData', size=61142564, hash='hDz9RDUG52J6xjXAk9qAcA', n_files=64, space_id=1, storage_id=1, run_id=3, created_by_id=1, created_at=2025-05-03 19:48:45 UTC); to track this artifact as an input, use: ln.Artifact.get()\n",
      "\u001b[34mINFO    \u001b[0m The Zarr backing store has been changed from                                                              \n",
      "         \u001b[35m/Users/srivarra/Library/Caches/lamindb/\u001b[0m\u001b[95mwPEz1NkZnT9Xa1bQ0000.zarr\u001b[0m the new file path:                       \n",
      "         \u001b[35m/Users/srivarra/Library/Caches/lamindb/\u001b[0m\u001b[95mBMEZAlImqqxTXURD0000.zarr\u001b[0m                                          \n",
      "\u001b[92m→\u001b[0m returning existing artifact with same hash: Artifact(uid='wPEz1NkZnT9Xa1bQ0000', is_latest=True, key='nbl_sdatas/NBL-29-R10C8.zarr', suffix='.zarr', kind='dataset', otype='SpatialData', size=64365028, hash='6Fgctq5XiIugGnW-TIX7Ng', n_files=64, space_id=1, storage_id=1, run_id=3, created_by_id=1, created_at=2025-05-03 19:48:46 UTC); to track this artifact as an input, use: ln.Artifact.get()\n",
      "\u001b[34mINFO    \u001b[0m The Zarr backing store has been changed from                                                              \n",
      "         \u001b[35m/Users/srivarra/Library/Caches/lamindb/\u001b[0m\u001b[95mHiOj5VbOFGrsMTH80000.zarr\u001b[0m the new file path:                       \n",
      "         \u001b[35m/Users/srivarra/Library/Caches/lamindb/\u001b[0m\u001b[95mruBz3fkLA2tWPcoV0000.zarr\u001b[0m                                          \n",
      "\u001b[92m→\u001b[0m returning existing artifact with same hash: Artifact(uid='HiOj5VbOFGrsMTH80000', is_latest=True, key='nbl_sdatas/NBL-31-R1C7.zarr', suffix='.zarr', kind='dataset', otype='SpatialData', size=40252547, hash='MvPAFLG2wDeZg8ayOxKbiQ', n_files=64, space_id=1, storage_id=1, run_id=3, created_by_id=1, created_at=2025-05-03 19:48:47 UTC); to track this artifact as an input, use: ln.Artifact.get()\n",
      "\u001b[34mINFO    \u001b[0m The Zarr backing store has been changed from                                                              \n",
      "         \u001b[35m/Users/srivarra/Library/Caches/lamindb/\u001b[0m\u001b[95mR6GlIWOLCSmO3g1k0000.zarr\u001b[0m the new file path:                       \n",
      "         \u001b[35m/Users/srivarra/Library/Caches/lamindb/\u001b[0m\u001b[95mkPmvG33w2OfYC5ZH0000.zarr\u001b[0m                                          \n",
      "\u001b[92m→\u001b[0m returning existing artifact with same hash: Artifact(uid='R6GlIWOLCSmO3g1k0000', is_latest=True, key='nbl_sdatas/NBL-32-R3C7.zarr', suffix='.zarr', kind='dataset', otype='SpatialData', size=71224098, hash='Xyi9uZFblkDDvpiKTl-b0w', n_files=64, space_id=1, storage_id=1, run_id=3, created_by_id=1, created_at=2025-05-03 19:48:47 UTC); to track this artifact as an input, use: ln.Artifact.get()\n",
      "\u001b[34mINFO    \u001b[0m The Zarr backing store has been changed from                                                              \n",
      "         \u001b[35m/Users/srivarra/Library/Caches/lamindb/\u001b[0m\u001b[95mRpss7PJLMPxqoalx0000.zarr\u001b[0m the new file path:                       \n",
      "         \u001b[35m/Users/srivarra/Library/Caches/lamindb/\u001b[0m\u001b[95m9oOqIbgPrhwfeD520000.zarr\u001b[0m                                          \n",
      "\u001b[92m→\u001b[0m returning existing artifact with same hash: Artifact(uid='Rpss7PJLMPxqoalx0000', is_latest=True, key='nbl_sdatas/NBL-32-R4C7.zarr', suffix='.zarr', kind='dataset', otype='SpatialData', size=78763271, hash='beAN31dONFSiR2P6O3zpVg', n_files=64, space_id=1, storage_id=1, run_id=3, created_by_id=1, created_at=2025-05-03 19:48:48 UTC); to track this artifact as an input, use: ln.Artifact.get()\n",
      "\u001b[34mINFO    \u001b[0m The Zarr backing store has been changed from                                                              \n",
      "         \u001b[35m/Users/srivarra/Library/Caches/lamindb/\u001b[0m\u001b[95mmUQRWI0ogpXxJ41O0000.zarr\u001b[0m the new file path:                       \n",
      "         \u001b[35m/Users/srivarra/Library/Caches/lamindb/\u001b[0m\u001b[95m3rQjewu3HWiCp91R0000.zarr\u001b[0m                                          \n",
      "\u001b[92m→\u001b[0m returning existing artifact with same hash: Artifact(uid='mUQRWI0ogpXxJ41O0000', is_latest=True, key='nbl_sdatas/NBL-33-R5C7.zarr', suffix='.zarr', kind='dataset', otype='SpatialData', size=94852635, hash='H1rsfHMgfFxSvKFJJ3ktBg', n_files=64, space_id=1, storage_id=1, run_id=3, created_by_id=1, created_at=2025-05-03 19:48:49 UTC); to track this artifact as an input, use: ln.Artifact.get()\n",
      "\u001b[34mINFO    \u001b[0m The Zarr backing store has been changed from                                                              \n",
      "         \u001b[35m/Users/srivarra/Library/Caches/lamindb/\u001b[0m\u001b[95mQr36TIRXdC449cDh0000.zarr\u001b[0m the new file path:                       \n",
      "         \u001b[35m/Users/srivarra/Library/Caches/lamindb/\u001b[0m\u001b[95mTdOqYhpZ2Ue1BNag0000.zarr\u001b[0m                                          \n",
      "\u001b[92m→\u001b[0m returning existing artifact with same hash: Artifact(uid='Qr36TIRXdC449cDh0000', is_latest=True, key='nbl_sdatas/NBL-33-R6C7.zarr', suffix='.zarr', kind='dataset', otype='SpatialData', size=104223015, hash='6wKeZmB_xNnQP7V0VXjn_w', n_files=64, space_id=1, storage_id=1, run_id=3, created_by_id=1, created_at=2025-05-03 19:48:49 UTC); to track this artifact as an input, use: ln.Artifact.get()\n",
      "\u001b[34mINFO    \u001b[0m The Zarr backing store has been changed from                                                              \n",
      "         \u001b[35m/Users/srivarra/Library/Caches/lamindb/\u001b[0m\u001b[95mhekZpLDLLItUwa5o0000.zarr\u001b[0m the new file path:                       \n",
      "         \u001b[35m/Users/srivarra/Library/Caches/lamindb/\u001b[0m\u001b[95mnzT2GQQsOzTHC7v80000.zarr\u001b[0m                                          \n",
      "\u001b[92m→\u001b[0m returning existing artifact with same hash: Artifact(uid='hekZpLDLLItUwa5o0000', is_latest=True, key='nbl_sdatas/NBL-35-R10C7.zarr', suffix='.zarr', kind='dataset', otype='SpatialData', size=82201269, hash='I_2M8aP9dUeM8zG0j8POuQ', n_files=64, space_id=1, storage_id=1, run_id=3, created_by_id=1, created_at=2025-05-03 19:48:50 UTC); to track this artifact as an input, use: ln.Artifact.get()\n",
      "\u001b[34mINFO    \u001b[0m The Zarr backing store has been changed from                                                              \n",
      "         \u001b[35m/Users/srivarra/Library/Caches/lamindb/\u001b[0m\u001b[95m8s4eGEI5ux21WLBk0000.zarr\u001b[0m the new file path:                       \n",
      "         \u001b[35m/Users/srivarra/Library/Caches/lamindb/\u001b[0m\u001b[95mgJmycfS6eGKRIaFd0000.zarr\u001b[0m                                          \n",
      "\u001b[92m→\u001b[0m returning existing artifact with same hash: Artifact(uid='8s4eGEI5ux21WLBk0000', is_latest=True, key='nbl_sdatas/NBL-35-R11C7.zarr', suffix='.zarr', kind='dataset', otype='SpatialData', size=82708631, hash='SoYUM86_-ZmflmCKZUl5SA', n_files=64, space_id=1, storage_id=1, run_id=3, created_by_id=1, created_at=2025-05-03 19:48:51 UTC); to track this artifact as an input, use: ln.Artifact.get()\n",
      "\u001b[34mINFO    \u001b[0m The Zarr backing store has been changed from                                                              \n",
      "         \u001b[35m/Users/srivarra/Library/Caches/lamindb/\u001b[0m\u001b[95medPvsiWkutVqn6Ra0000.zarr\u001b[0m the new file path:                       \n",
      "         \u001b[35m/Users/srivarra/Library/Caches/lamindb/\u001b[0m\u001b[95m2jYHkqFumjnlfopA0000.zarr\u001b[0m                                          \n",
      "\u001b[92m→\u001b[0m returning existing artifact with same hash: Artifact(uid='edPvsiWkutVqn6Ra0000', is_latest=True, key='nbl_sdatas/NBL-36-R13C7.zarr', suffix='.zarr', kind='dataset', otype='SpatialData', size=84019237, hash='nD4ycOmp6_DB2dv_AiThjQ', n_files=64, space_id=1, storage_id=1, run_id=3, created_by_id=1, created_at=2025-05-03 19:48:51 UTC); to track this artifact as an input, use: ln.Artifact.get()\n",
      "\u001b[34mINFO    \u001b[0m The Zarr backing store has been changed from                                                              \n",
      "         \u001b[35m/Users/srivarra/Library/Caches/lamindb/\u001b[0m\u001b[95m52dfpDPXSvmr1Teo0000.zarr\u001b[0m the new file path:                       \n",
      "         \u001b[35m/Users/srivarra/Library/Caches/lamindb/\u001b[0m\u001b[95mLHS0gUgskUqa777p0000.zarr\u001b[0m                                          \n",
      "\u001b[92m→\u001b[0m returning existing artifact with same hash: Artifact(uid='52dfpDPXSvmr1Teo0000', is_latest=True, key='nbl_sdatas/NBL-36-R12C7.zarr', suffix='.zarr', kind='dataset', otype='SpatialData', size=88987674, hash='0mKYH4ILlZ278Ygh2p1Urw', n_files=64, space_id=1, storage_id=1, run_id=3, created_by_id=1, created_at=2025-05-03 19:48:52 UTC); to track this artifact as an input, use: ln.Artifact.get()\n",
      "\u001b[34mINFO    \u001b[0m The Zarr backing store has been changed from                                                              \n",
      "         \u001b[35m/Users/srivarra/Library/Caches/lamindb/\u001b[0m\u001b[95mohLswl8sAn10xalL0000.zarr\u001b[0m the new file path:                       \n",
      "         \u001b[35m/Users/srivarra/Library/Caches/lamindb/\u001b[0m\u001b[95meYqbvdFrfvxkjepi0000.zarr\u001b[0m                                          \n",
      "\u001b[92m→\u001b[0m returning existing artifact with same hash: Artifact(uid='ohLswl8sAn10xalL0000', is_latest=True, key='nbl_sdatas/NBL-41-R10C6.zarr', suffix='.zarr', kind='dataset', otype='SpatialData', size=195981674, hash='l2EbVUkrarKmU4ysRRuu5g', n_files=64, space_id=1, storage_id=1, run_id=3, created_by_id=1, created_at=2025-05-03 19:48:53 UTC); to track this artifact as an input, use: ln.Artifact.get()\n",
      "\u001b[34mINFO    \u001b[0m The Zarr backing store has been changed from                                                              \n",
      "         \u001b[35m/Users/srivarra/Library/Caches/lamindb/\u001b[0m\u001b[95mKupcZRu9xdSmQ8kN0000.zarr\u001b[0m the new file path:                       \n",
      "         \u001b[35m/Users/srivarra/Library/Caches/lamindb/\u001b[0m\u001b[95moi9QgdqfWok5NPQe0000.zarr\u001b[0m                                          \n",
      "\u001b[92m→\u001b[0m returning existing artifact with same hash: Artifact(uid='KupcZRu9xdSmQ8kN0000', is_latest=True, key='nbl_sdatas/NBL-42-R12C6.zarr', suffix='.zarr', kind='dataset', otype='SpatialData', size=184946181, hash='R-q-PWtcaUtqCU9HVraxaQ', n_files=64, space_id=1, storage_id=1, run_id=3, created_by_id=1, created_at=2025-05-03 19:48:54 UTC); to track this artifact as an input, use: ln.Artifact.get()\n",
      "\u001b[34mINFO    \u001b[0m The Zarr backing store has been changed from                                                              \n",
      "         \u001b[35m/Users/srivarra/Library/Caches/lamindb/\u001b[0m\u001b[95mDTiAo6OkVgQr0rZc0000.zarr\u001b[0m the new file path:                       \n",
      "         \u001b[35m/Users/srivarra/Library/Caches/lamindb/\u001b[0m\u001b[95ma59WzfEulWzfB2eG0000.zarr\u001b[0m                                          \n",
      "\u001b[92m→\u001b[0m returning existing artifact with same hash: Artifact(uid='DTiAo6OkVgQr0rZc0000', is_latest=True, key='nbl_sdatas/NBL-42-R13C6.zarr', suffix='.zarr', kind='dataset', otype='SpatialData', size=190852353, hash='1RmLScVoKYwxbROzjU-ENw', n_files=64, space_id=1, storage_id=1, run_id=3, created_by_id=1, created_at=2025-05-03 19:48:55 UTC); to track this artifact as an input, use: ln.Artifact.get()\n",
      "\u001b[34mINFO    \u001b[0m The Zarr backing store has been changed from                                                              \n",
      "         \u001b[35m/Users/srivarra/Library/Caches/lamindb/\u001b[0m\u001b[95mWmdWz4Ench0hfNSL0000.zarr\u001b[0m the new file path:                       \n",
      "         \u001b[35m/Users/srivarra/Library/Caches/lamindb/\u001b[0m\u001b[95mPJoO19rmdkRghpHe0000.zarr\u001b[0m                                          \n",
      "\u001b[92m→\u001b[0m returning existing artifact with same hash: Artifact(uid='WmdWz4Ench0hfNSL0000', is_latest=True, key='nbl_sdatas/NBL-45-R6C5.zarr', suffix='.zarr', kind='dataset', otype='SpatialData', size=86109181, hash='29CsTXb91sxiTp5YESYncQ', n_files=64, space_id=1, storage_id=1, run_id=3, created_by_id=1, created_at=2025-05-03 19:48:56 UTC); to track this artifact as an input, use: ln.Artifact.get()\n",
      "\u001b[34mINFO    \u001b[0m The Zarr backing store has been changed from                                                              \n",
      "         \u001b[35m/Users/srivarra/Library/Caches/lamindb/\u001b[0m\u001b[95m8spG9awjOIyAnTAt0000.zarr\u001b[0m the new file path:                       \n",
      "         \u001b[35m/Users/srivarra/Library/Caches/lamindb/\u001b[0m\u001b[95mFUvAubTFeojr2w6M0000.zarr\u001b[0m                                          \n",
      "\u001b[92m→\u001b[0m returning existing artifact with same hash: Artifact(uid='8spG9awjOIyAnTAt0000', is_latest=True, key='nbl_sdatas/NBL-45-R5C5.zarr', suffix='.zarr', kind='dataset', otype='SpatialData', size=71672578, hash='azadr62wsA5RXZHcr0WHRQ', n_files=64, space_id=1, storage_id=1, run_id=3, created_by_id=1, created_at=2025-05-03 19:48:56 UTC); to track this artifact as an input, use: ln.Artifact.get()\n",
      "\u001b[34mINFO    \u001b[0m The Zarr backing store has been changed from                                                              \n",
      "         \u001b[35m/Users/srivarra/Library/Caches/lamindb/\u001b[0m\u001b[95mrKRwMOnu7u8vw22d0000.zarr\u001b[0m the new file path:                       \n",
      "         \u001b[35m/Users/srivarra/Library/Caches/lamindb/\u001b[0m\u001b[95mvtqJ74ckmcfwFXLG0000.zarr\u001b[0m                                          \n",
      "\u001b[92m→\u001b[0m returning existing artifact with same hash: Artifact(uid='rKRwMOnu7u8vw22d0000', is_latest=True, key='nbl_sdatas/NBL-47-R11C5.zarr', suffix='.zarr', kind='dataset', otype='SpatialData', size=201946352, hash='tH0cE2oazD23nI29cVFlvw', n_files=64, space_id=1, storage_id=1, run_id=3, created_by_id=1, created_at=2025-05-03 19:48:57 UTC); to track this artifact as an input, use: ln.Artifact.get()\n",
      "\u001b[34mINFO    \u001b[0m The Zarr backing store has been changed from                                                              \n",
      "         \u001b[35m/Users/srivarra/Library/Caches/lamindb/\u001b[0m\u001b[95masa6ZmPQOoIaEJkh0000.zarr\u001b[0m the new file path:                       \n",
      "         \u001b[35m/Users/srivarra/Library/Caches/lamindb/\u001b[0m\u001b[95mNLyBCjAsJeaBT9J50000.zarr\u001b[0m                                          \n",
      "\u001b[92m→\u001b[0m returning existing artifact with same hash: Artifact(uid='asa6ZmPQOoIaEJkh0000', is_latest=True, key='nbl_sdatas/NBL-47-R10C5.zarr', suffix='.zarr', kind='dataset', otype='SpatialData', size=180997186, hash='FOA0AYN9o4VtR-TAiGKFkA', n_files=64, space_id=1, storage_id=1, run_id=3, created_by_id=1, created_at=2025-05-03 19:48:58 UTC); to track this artifact as an input, use: ln.Artifact.get()\n",
      "\u001b[34mINFO    \u001b[0m The Zarr backing store has been changed from                                                              \n",
      "         \u001b[35m/Users/srivarra/Library/Caches/lamindb/\u001b[0m\u001b[95mSblE8VqQVbr7PHKr0000.zarr\u001b[0m the new file path:                       \n",
      "         \u001b[35m/Users/srivarra/Library/Caches/lamindb/\u001b[0m\u001b[95mxfbghGK9IiszwsDv0000.zarr\u001b[0m                                          \n",
      "\u001b[92m→\u001b[0m returning existing artifact with same hash: Artifact(uid='SblE8VqQVbr7PHKr0000', is_latest=True, key='nbl_sdatas/NBL-48-R12C5.zarr', suffix='.zarr', kind='dataset', otype='SpatialData', size=183064791, hash='3wm4LhGn_Lk3StPuUAdTzg', n_files=64, space_id=1, storage_id=1, run_id=3, created_by_id=1, created_at=2025-05-03 19:48:59 UTC); to track this artifact as an input, use: ln.Artifact.get()\n",
      "\u001b[34mINFO    \u001b[0m The Zarr backing store has been changed from                                                              \n",
      "         \u001b[35m/Users/srivarra/Library/Caches/lamindb/\u001b[0m\u001b[95myOEZXSyumyDeVb3j0000.zarr\u001b[0m the new file path:                       \n",
      "         \u001b[35m/Users/srivarra/Library/Caches/lamindb/\u001b[0m\u001b[95me9kycPU0UAAvGZ0v0000.zarr\u001b[0m                                          \n",
      "\u001b[92m→\u001b[0m returning existing artifact with same hash: Artifact(uid='yOEZXSyumyDeVb3j0000', is_latest=True, key='nbl_sdatas/NBL-48-R13C5.zarr', suffix='.zarr', kind='dataset', otype='SpatialData', size=171635654, hash='QOMaqDFpkBgRTnsbsZqQyg', n_files=64, space_id=1, storage_id=1, run_id=3, created_by_id=1, created_at=2025-05-03 19:48:59 UTC); to track this artifact as an input, use: ln.Artifact.get()\n",
      "\u001b[34mINFO    \u001b[0m The Zarr backing store has been changed from                                                              \n",
      "         \u001b[35m/Users/srivarra/Library/Caches/lamindb/\u001b[0m\u001b[95m7HminDwQFCGNgg1p0000.zarr\u001b[0m the new file path:                       \n",
      "         \u001b[35m/Users/srivarra/Library/Caches/lamindb/\u001b[0m\u001b[95mDahSsg4orDBn9SGU0000.zarr\u001b[0m                                          \n",
      "\u001b[92m→\u001b[0m returning existing artifact with same hash: Artifact(uid='7HminDwQFCGNgg1p0000', is_latest=True, key='nbl_sdatas/NBL-51-R5C4.zarr', suffix='.zarr', kind='dataset', otype='SpatialData', size=202017315, hash='yZGH3HUGpiR8DbiCMLRfow', n_files=64, space_id=1, storage_id=1, run_id=3, created_by_id=1, created_at=2025-05-03 19:49:00 UTC); to track this artifact as an input, use: ln.Artifact.get()\n",
      "\u001b[34mINFO    \u001b[0m The Zarr backing store has been changed from                                                              \n",
      "         \u001b[35m/Users/srivarra/Library/Caches/lamindb/\u001b[0m\u001b[95mlP8ShmzYrqFNEPqc0000.zarr\u001b[0m the new file path:                       \n",
      "         \u001b[35m/Users/srivarra/Library/Caches/lamindb/\u001b[0m\u001b[95mq45Efzc242HEovT00000.zarr\u001b[0m                                          \n",
      "\u001b[92m→\u001b[0m returning existing artifact with same hash: Artifact(uid='lP8ShmzYrqFNEPqc0000', is_latest=True, key='nbl_sdatas/NBL-51-R6C4.zarr', suffix='.zarr', kind='dataset', otype='SpatialData', size=91549680, hash='8Tqec72thC4Dhuwe5oSq1Q', n_files=64, space_id=1, storage_id=1, run_id=3, created_by_id=1, created_at=2025-05-03 19:49:01 UTC); to track this artifact as an input, use: ln.Artifact.get()\n",
      "\u001b[34mINFO    \u001b[0m The Zarr backing store has been changed from                                                              \n",
      "         \u001b[35m/Users/srivarra/Library/Caches/lamindb/\u001b[0m\u001b[95mPahhfiFCdF7AGBHw0000.zarr\u001b[0m the new file path:                       \n",
      "         \u001b[35m/Users/srivarra/Library/Caches/lamindb/\u001b[0m\u001b[95mqFFyjqr0qo4esZv00000.zarr\u001b[0m                                          \n",
      "\u001b[92m→\u001b[0m returning existing artifact with same hash: Artifact(uid='PahhfiFCdF7AGBHw0000', is_latest=True, key='nbl_sdatas/NBL-53-R10C4.zarr', suffix='.zarr', kind='dataset', otype='SpatialData', size=233237432, hash='8gnV3p0O24jG3xGU5ZjZ3Q', n_files=64, space_id=1, storage_id=1, run_id=3, created_by_id=1, created_at=2025-05-03 19:49:02 UTC); to track this artifact as an input, use: ln.Artifact.get()\n",
      "\u001b[34mINFO    \u001b[0m The Zarr backing store has been changed from                                                              \n",
      "         \u001b[35m/Users/srivarra/Library/Caches/lamindb/\u001b[0m\u001b[95muVEJjwH2WWeRpRK90000.zarr\u001b[0m the new file path:                       \n",
      "         \u001b[35m/Users/srivarra/Library/Caches/lamindb/\u001b[0m\u001b[95m9lhif7kFBDS9H7kX0000.zarr\u001b[0m                                          \n",
      "\u001b[92m→\u001b[0m returning existing artifact with same hash: Artifact(uid='uVEJjwH2WWeRpRK90000', is_latest=True, key='nbl_sdatas/NBL-53-R11C4.zarr', suffix='.zarr', kind='dataset', otype='SpatialData', size=103179260, hash='X2HhxfbBFk5YnnCEZKNBoA', n_files=64, space_id=1, storage_id=1, run_id=3, created_by_id=1, created_at=2025-05-03 19:49:03 UTC); to track this artifact as an input, use: ln.Artifact.get()\n",
      "\u001b[34mINFO    \u001b[0m The Zarr backing store has been changed from                                                              \n",
      "         \u001b[35m/Users/srivarra/Library/Caches/lamindb/\u001b[0m\u001b[95mYl8SVGhjCZS8zSH90000.zarr\u001b[0m the new file path:                       \n",
      "         \u001b[35m/Users/srivarra/Library/Caches/lamindb/\u001b[0m\u001b[95mRgJQrp30Uwq7ZlBO0000.zarr\u001b[0m                                          \n",
      "\u001b[92m→\u001b[0m returning existing artifact with same hash: Artifact(uid='Yl8SVGhjCZS8zSH90000', is_latest=True, key='nbl_sdatas/NBL-54-R12C4.zarr', suffix='.zarr', kind='dataset', otype='SpatialData', size=163025390, hash='DfjC4wEEPwyEYgT2d_LMFg', n_files=64, space_id=1, storage_id=1, run_id=3, created_by_id=1, created_at=2025-05-03 19:49:04 UTC); to track this artifact as an input, use: ln.Artifact.get()\n",
      "\u001b[34mINFO    \u001b[0m The Zarr backing store has been changed from                                                              \n",
      "         \u001b[35m/Users/srivarra/Library/Caches/lamindb/\u001b[0m\u001b[95miDArPCMI4D49VuuU0000.zarr\u001b[0m the new file path:                       \n",
      "         \u001b[35m/Users/srivarra/Library/Caches/lamindb/\u001b[0m\u001b[95mu90n2PDqDysbpnsd0000.zarr\u001b[0m                                          \n",
      "\u001b[92m→\u001b[0m returning existing artifact with same hash: Artifact(uid='iDArPCMI4D49VuuU0000', is_latest=True, key='nbl_sdatas/NBL-55-R1C3.zarr', suffix='.zarr', kind='dataset', otype='SpatialData', size=174604499, hash='ReJ_xMPs1NSNylk6mlM2DA', n_files=64, space_id=1, storage_id=1, run_id=3, created_by_id=1, created_at=2025-05-03 19:49:05 UTC); to track this artifact as an input, use: ln.Artifact.get()\n",
      "\u001b[34mINFO    \u001b[0m The Zarr backing store has been changed from                                                              \n",
      "         \u001b[35m/Users/srivarra/Library/Caches/lamindb/\u001b[0m\u001b[95md8QGWBJBthHpEduD0000.zarr\u001b[0m the new file path:                       \n",
      "         \u001b[35m/Users/srivarra/Library/Caches/lamindb/\u001b[0m\u001b[95mxHYZ5Uum5p9HB1O80000.zarr\u001b[0m                                          \n",
      "\u001b[92m→\u001b[0m returning existing artifact with same hash: Artifact(uid='d8QGWBJBthHpEduD0000', is_latest=True, key='nbl_sdatas/NBL-55-R2C3.zarr', suffix='.zarr', kind='dataset', otype='SpatialData', size=107622499, hash='iWyA1JyQPOp3p5E2GgNCQg', n_files=64, space_id=1, storage_id=1, run_id=3, created_by_id=1, created_at=2025-05-03 19:49:05 UTC); to track this artifact as an input, use: ln.Artifact.get()\n",
      "\u001b[34mINFO    \u001b[0m The Zarr backing store has been changed from                                                              \n",
      "         \u001b[35m/Users/srivarra/Library/Caches/lamindb/\u001b[0m\u001b[95m2rFyZSvn9Xn8AUHi0000.zarr\u001b[0m the new file path:                       \n",
      "         \u001b[35m/Users/srivarra/Library/Caches/lamindb/\u001b[0m\u001b[95mrU94uDOJh7T9Lrfe0000.zarr\u001b[0m                                          \n",
      "\u001b[92m→\u001b[0m returning existing artifact with same hash: Artifact(uid='2rFyZSvn9Xn8AUHi0000', is_latest=True, key='nbl_sdatas/NBL-56-R4C3.zarr', suffix='.zarr', kind='dataset', otype='SpatialData', size=228986752, hash='uGFWr84iVZjlXZHYFPRqlw', n_files=64, space_id=1, storage_id=1, run_id=3, created_by_id=1, created_at=2025-05-03 19:49:06 UTC); to track this artifact as an input, use: ln.Artifact.get()\n",
      "\u001b[34mINFO    \u001b[0m The Zarr backing store has been changed from                                                              \n",
      "         \u001b[35m/Users/srivarra/Library/Caches/lamindb/\u001b[0m\u001b[95mGuii0cRLSVmcyO7b0000.zarr\u001b[0m the new file path:                       \n",
      "         \u001b[35m/Users/srivarra/Library/Caches/lamindb/\u001b[0m\u001b[95m5BvZ4cnBHALvijdc0000.zarr\u001b[0m                                          \n",
      "\u001b[92m→\u001b[0m returning existing artifact with same hash: Artifact(uid='Guii0cRLSVmcyO7b0000', is_latest=True, key='nbl_sdatas/NBL-56-R3C3.zarr', suffix='.zarr', kind='dataset', otype='SpatialData', size=106148709, hash='icfcVk58DGcc-ds3SxqVAw', n_files=64, space_id=1, storage_id=1, run_id=3, created_by_id=1, created_at=2025-05-03 19:49:07 UTC); to track this artifact as an input, use: ln.Artifact.get()\n",
      "\u001b[34mINFO    \u001b[0m The Zarr backing store has been changed from                                                              \n",
      "         \u001b[35m/Users/srivarra/Library/Caches/lamindb/\u001b[0m\u001b[95m1HJ8OTOmMfOICudB0000.zarr\u001b[0m the new file path:                       \n",
      "         \u001b[35m/Users/srivarra/Library/Caches/lamindb/\u001b[0m\u001b[95mPu1KMwfhhqe8djgN0000.zarr\u001b[0m                                          \n",
      "\u001b[92m→\u001b[0m returning existing artifact with same hash: Artifact(uid='1HJ8OTOmMfOICudB0000', is_latest=True, key='nbl_sdatas/NBL-57-R6C3.zarr', suffix='.zarr', kind='dataset', otype='SpatialData', size=93278772, hash='7EtY-7bpv7eCJhmB85gg0Q', n_files=64, space_id=1, storage_id=1, run_id=3, created_by_id=1, created_at=2025-05-03 19:49:08 UTC); to track this artifact as an input, use: ln.Artifact.get()\n",
      "\u001b[34mINFO    \u001b[0m The Zarr backing store has been changed from                                                              \n",
      "         \u001b[35m/Users/srivarra/Library/Caches/lamindb/\u001b[0m\u001b[95mT3vNOTlzLcOkn6670000.zarr\u001b[0m the new file path:                       \n",
      "         \u001b[35m/Users/srivarra/Library/Caches/lamindb/\u001b[0m\u001b[95m4dzBHF7vI3Y1Caoi0000.zarr\u001b[0m                                          \n",
      "\u001b[92m→\u001b[0m returning existing artifact with same hash: Artifact(uid='T3vNOTlzLcOkn6670000', is_latest=True, key='nbl_sdatas/NBL-57-R5C3.zarr', suffix='.zarr', kind='dataset', otype='SpatialData', size=103825694, hash='_8JkQ_Imh-QE0PL7VVB7hg', n_files=64, space_id=1, storage_id=1, run_id=3, created_by_id=1, created_at=2025-05-03 19:49:08 UTC); to track this artifact as an input, use: ln.Artifact.get()\n",
      "\u001b[34mINFO    \u001b[0m The Zarr backing store has been changed from                                                              \n",
      "         \u001b[35m/Users/srivarra/Library/Caches/lamindb/\u001b[0m\u001b[95mELRbaV8zEGbzuvFX0000.zarr\u001b[0m the new file path:                       \n",
      "         \u001b[35m/Users/srivarra/Library/Caches/lamindb/\u001b[0m\u001b[95mQmRPlYq9YocdyAzY0000.zarr\u001b[0m                                          \n",
      "\u001b[92m→\u001b[0m returning existing artifact with same hash: Artifact(uid='ELRbaV8zEGbzuvFX0000', is_latest=True, key='nbl_sdatas/NBL-58-R8C3.zarr', suffix='.zarr', kind='dataset', otype='SpatialData', size=152835938, hash='Njw8j3kwtbKUjO5NxMA3Tg', n_files=64, space_id=1, storage_id=1, run_id=3, created_by_id=1, created_at=2025-05-03 19:49:09 UTC); to track this artifact as an input, use: ln.Artifact.get()\n",
      "\u001b[34mINFO    \u001b[0m The Zarr backing store has been changed from                                                              \n",
      "         \u001b[35m/Users/srivarra/Library/Caches/lamindb/\u001b[0m\u001b[95mPzCTaJsfXQXEBlvZ0000.zarr\u001b[0m the new file path:                       \n",
      "         \u001b[35m/Users/srivarra/Library/Caches/lamindb/\u001b[0m\u001b[95m0DxOCdTbFX4Ff15Z0000.zarr\u001b[0m                                          \n",
      "\u001b[92m→\u001b[0m returning existing artifact with same hash: Artifact(uid='PzCTaJsfXQXEBlvZ0000', is_latest=True, key='nbl_sdatas/NBL-58-R9C3.zarr', suffix='.zarr', kind='dataset', otype='SpatialData', size=79975096, hash='cUY1QK7oW0YHRt8dtvLCow', n_files=64, space_id=1, storage_id=1, run_id=3, created_by_id=1, created_at=2025-05-03 19:49:10 UTC); to track this artifact as an input, use: ln.Artifact.get()\n",
      "\u001b[34mINFO    \u001b[0m The Zarr backing store has been changed from                                                              \n",
      "         \u001b[35m/Users/srivarra/Library/Caches/lamindb/\u001b[0m\u001b[95mzIwNIwkVtzxcRHza0000.zarr\u001b[0m the new file path:                       \n",
      "         \u001b[35m/Users/srivarra/Library/Caches/lamindb/\u001b[0m\u001b[95mo8NLizHXwzPVO2Uj0000.zarr\u001b[0m                                          \n",
      "\u001b[92m→\u001b[0m returning existing artifact with same hash: Artifact(uid='zIwNIwkVtzxcRHza0000', is_latest=True, key='nbl_sdatas/NBL-59-R11C3.zarr', suffix='.zarr', kind='dataset', otype='SpatialData', size=216073410, hash='GA3eBYsuv12V2TkWO6xtjg', n_files=64, space_id=1, storage_id=1, run_id=3, created_by_id=1, created_at=2025-05-03 19:49:11 UTC); to track this artifact as an input, use: ln.Artifact.get()\n",
      "\u001b[34mINFO    \u001b[0m The Zarr backing store has been changed from                                                              \n",
      "         \u001b[35m/Users/srivarra/Library/Caches/lamindb/\u001b[0m\u001b[95mQmvNYrIGB9TutBvv0000.zarr\u001b[0m the new file path:                       \n",
      "         \u001b[35m/Users/srivarra/Library/Caches/lamindb/\u001b[0m\u001b[95mLh6HkJ9UwkoFWFLo0000.zarr\u001b[0m                                          \n",
      "\u001b[92m→\u001b[0m returning existing artifact with same hash: Artifact(uid='QmvNYrIGB9TutBvv0000', is_latest=True, key='nbl_sdatas/NBL-59-R10C3.zarr', suffix='.zarr', kind='dataset', otype='SpatialData', size=98562374, hash='6g1_RkMFRy-ijnkqux9X5w', n_files=64, space_id=1, storage_id=1, run_id=3, created_by_id=1, created_at=2025-05-03 19:49:11 UTC); to track this artifact as an input, use: ln.Artifact.get()\n",
      "\u001b[34mINFO    \u001b[0m The Zarr backing store has been changed from                                                              \n",
      "         \u001b[35m/Users/srivarra/Library/Caches/lamindb/\u001b[0m\u001b[95m58XdJLSzU4OJZEUh0000.zarr\u001b[0m the new file path:                       \n",
      "         \u001b[35m/Users/srivarra/Library/Caches/lamindb/\u001b[0m\u001b[95mDY40hV4mPKjIxcZH0000.zarr\u001b[0m                                          \n",
      "\u001b[92m→\u001b[0m returning existing artifact with same hash: Artifact(uid='58XdJLSzU4OJZEUh0000', is_latest=True, key='nbl_sdatas/NBL-60-R13C3.zarr', suffix='.zarr', kind='dataset', otype='SpatialData', size=218752877, hash='ccr_J-aa6f9qJjnpQbrECA', n_files=64, space_id=1, storage_id=1, run_id=3, created_by_id=1, created_at=2025-05-03 19:49:12 UTC); to track this artifact as an input, use: ln.Artifact.get()\n",
      "\u001b[34mINFO    \u001b[0m The Zarr backing store has been changed from                                                              \n",
      "         \u001b[35m/Users/srivarra/Library/Caches/lamindb/\u001b[0m\u001b[95mNgHmvzC2CvW7veb10000.zarr\u001b[0m the new file path:                       \n",
      "         \u001b[35m/Users/srivarra/Library/Caches/lamindb/\u001b[0m\u001b[95mpu5LFPojyGlJbSKy0000.zarr\u001b[0m                                          \n",
      "\u001b[92m→\u001b[0m returning existing artifact with same hash: Artifact(uid='NgHmvzC2CvW7veb10000', is_latest=True, key='nbl_sdatas/NBL-60-R12C3.zarr', suffix='.zarr', kind='dataset', otype='SpatialData', size=103984339, hash='S_kS69e4v6ttSsH8zoGLTQ', n_files=64, space_id=1, storage_id=1, run_id=3, created_by_id=1, created_at=2025-05-03 19:49:13 UTC); to track this artifact as an input, use: ln.Artifact.get()\n",
      "\u001b[34mINFO    \u001b[0m The Zarr backing store has been changed from                                                              \n",
      "         \u001b[35m/Users/srivarra/Library/Caches/lamindb/\u001b[0m\u001b[95mnCWYmXBUNPkAC2KS0000.zarr\u001b[0m the new file path:                       \n",
      "         \u001b[35m/Users/srivarra/Library/Caches/lamindb/\u001b[0m\u001b[95mz61IxBWuGxxWPFQG0000.zarr\u001b[0m                                          \n",
      "\u001b[92m→\u001b[0m returning existing artifact with same hash: Artifact(uid='nCWYmXBUNPkAC2KS0000', is_latest=True, key='nbl_sdatas/NBL-62-R3C2.zarr', suffix='.zarr', kind='dataset', otype='SpatialData', size=110245842, hash='XT9ZspK01RMe6NWibM0DMg', n_files=64, space_id=1, storage_id=1, run_id=3, created_by_id=1, created_at=2025-05-03 19:49:14 UTC); to track this artifact as an input, use: ln.Artifact.get()\n",
      "\u001b[34mINFO    \u001b[0m The Zarr backing store has been changed from                                                              \n",
      "         \u001b[35m/Users/srivarra/Library/Caches/lamindb/\u001b[0m\u001b[95makOwaYYPdPG5XdDO0000.zarr\u001b[0m the new file path:                       \n",
      "         \u001b[35m/Users/srivarra/Library/Caches/lamindb/\u001b[0m\u001b[95mqIsUXp0fTlUnyLxV0000.zarr\u001b[0m                                          \n",
      "\u001b[92m→\u001b[0m returning existing artifact with same hash: Artifact(uid='akOwaYYPdPG5XdDO0000', is_latest=True, key='nbl_sdatas/NBL-62-R4C2.zarr', suffix='.zarr', kind='dataset', otype='SpatialData', size=116549437, hash='ZdsAq0vyL2HB79wcA-IWcQ', n_files=64, space_id=1, storage_id=1, run_id=3, created_by_id=1, created_at=2025-05-03 19:49:14 UTC); to track this artifact as an input, use: ln.Artifact.get()\n",
      "\u001b[34mINFO    \u001b[0m The Zarr backing store has been changed from                                                              \n",
      "         \u001b[35m/Users/srivarra/Library/Caches/lamindb/\u001b[0m\u001b[95mXDGZXm79n6Rs8Mp40000.zarr\u001b[0m the new file path:                       \n",
      "         \u001b[35m/Users/srivarra/Library/Caches/lamindb/\u001b[0m\u001b[95m2SUhlqBZXn761AJk0000.zarr\u001b[0m                                          \n",
      "\u001b[92m→\u001b[0m returning existing artifact with same hash: Artifact(uid='XDGZXm79n6Rs8Mp40000', is_latest=True, key='nbl_sdatas/NBL-63-R5C2.zarr', suffix='.zarr', kind='dataset', otype='SpatialData', size=107552936, hash='Y_Tz529qsvVucq8obXMNKw', n_files=64, space_id=1, storage_id=1, run_id=3, created_by_id=1, created_at=2025-05-03 19:49:15 UTC); to track this artifact as an input, use: ln.Artifact.get()\n",
      "\u001b[34mINFO    \u001b[0m The Zarr backing store has been changed from                                                              \n",
      "         \u001b[35m/Users/srivarra/Library/Caches/lamindb/\u001b[0m\u001b[95mA4vpfHgizYtXMAVp0000.zarr\u001b[0m the new file path:                       \n",
      "         \u001b[35m/Users/srivarra/Library/Caches/lamindb/\u001b[0m\u001b[95m58er8fMeF69OXTak0000.zarr\u001b[0m                                          \n",
      "\u001b[92m→\u001b[0m returning existing artifact with same hash: Artifact(uid='A4vpfHgizYtXMAVp0000', is_latest=True, key='nbl_sdatas/NBL-63-R6C2.zarr', suffix='.zarr', kind='dataset', otype='SpatialData', size=108615046, hash='xb6XjiDGaBHx9T1N1qu5tQ', n_files=64, space_id=1, storage_id=1, run_id=3, created_by_id=1, created_at=2025-05-03 19:49:16 UTC); to track this artifact as an input, use: ln.Artifact.get()\n",
      "\u001b[34mINFO    \u001b[0m The Zarr backing store has been changed from                                                              \n",
      "         \u001b[35m/Users/srivarra/Library/Caches/lamindb/\u001b[0m\u001b[95mn3JHL3rSkwOHLVBn0000.zarr\u001b[0m the new file path:                       \n",
      "         \u001b[35m/Users/srivarra/Library/Caches/lamindb/\u001b[0m\u001b[95mZJWpBvCxfOBFrYq50000.zarr\u001b[0m                                          \n",
      "\u001b[92m→\u001b[0m returning existing artifact with same hash: Artifact(uid='n3JHL3rSkwOHLVBn0000', is_latest=True, key='nbl_sdatas/NBL-64-R8C2.zarr', suffix='.zarr', kind='dataset', otype='SpatialData', size=130382173, hash='MMefIeTTaYfigGvYpjDZiw', n_files=64, space_id=1, storage_id=1, run_id=3, created_by_id=1, created_at=2025-05-03 19:49:16 UTC); to track this artifact as an input, use: ln.Artifact.get()\n",
      "\u001b[34mINFO    \u001b[0m The Zarr backing store has been changed from                                                              \n",
      "         \u001b[35m/Users/srivarra/Library/Caches/lamindb/\u001b[0m\u001b[95mGkeQ17Jnfe5CW6ou0000.zarr\u001b[0m the new file path:                       \n",
      "         \u001b[35m/Users/srivarra/Library/Caches/lamindb/\u001b[0m\u001b[95mDcX0lnUxUopEs0Xl0000.zarr\u001b[0m                                          \n",
      "\u001b[92m→\u001b[0m returning existing artifact with same hash: Artifact(uid='GkeQ17Jnfe5CW6ou0000', is_latest=True, key='nbl_sdatas/NBL-64-R9C2.zarr', suffix='.zarr', kind='dataset', otype='SpatialData', size=158028983, hash='wtynTQf2EMn1EBrucILNxA', n_files=64, space_id=1, storage_id=1, run_id=3, created_by_id=1, created_at=2025-05-03 19:49:17 UTC); to track this artifact as an input, use: ln.Artifact.get()\n",
      "\u001b[34mINFO    \u001b[0m The Zarr backing store has been changed from                                                              \n",
      "         \u001b[35m/Users/srivarra/Library/Caches/lamindb/\u001b[0m\u001b[95mG7IcaAJgwuIRTymJ0000.zarr\u001b[0m the new file path:                       \n",
      "         \u001b[35m/Users/srivarra/Library/Caches/lamindb/\u001b[0m\u001b[95mubahwRKUZa9I1Dtp0000.zarr\u001b[0m                                          \n",
      "\u001b[92m→\u001b[0m returning existing artifact with same hash: Artifact(uid='G7IcaAJgwuIRTymJ0000', is_latest=True, key='nbl_sdatas/NBL-65-R10C2.zarr', suffix='.zarr', kind='dataset', otype='SpatialData', size=205690059, hash='HKnpbY9y1eZKAP-MnnZ3KQ', n_files=64, space_id=1, storage_id=1, run_id=3, created_by_id=1, created_at=2025-05-03 19:49:18 UTC); to track this artifact as an input, use: ln.Artifact.get()\n",
      "\u001b[34mINFO    \u001b[0m The Zarr backing store has been changed from                                                              \n",
      "         \u001b[35m/Users/srivarra/Library/Caches/lamindb/\u001b[0m\u001b[95mtJ9TdNg7ARQKs4uM0000.zarr\u001b[0m the new file path:                       \n",
      "         \u001b[35m/Users/srivarra/Library/Caches/lamindb/\u001b[0m\u001b[95mwh3Z4TULuDnvOXsy0000.zarr\u001b[0m                                          \n",
      "\u001b[92m→\u001b[0m returning existing artifact with same hash: Artifact(uid='tJ9TdNg7ARQKs4uM0000', is_latest=True, key='nbl_sdatas/NBL-65-R11C2.zarr', suffix='.zarr', kind='dataset', otype='SpatialData', size=83155879, hash='wi11yYE4MNPZdDWP2XFtXA', n_files=64, space_id=1, storage_id=1, run_id=3, created_by_id=1, created_at=2025-05-03 19:49:19 UTC); to track this artifact as an input, use: ln.Artifact.get()\n",
      "\u001b[34mINFO    \u001b[0m The Zarr backing store has been changed from                                                              \n",
      "         \u001b[35m/Users/srivarra/Library/Caches/lamindb/\u001b[0m\u001b[95mtK1m0XTLKPY3k5Ax0000.zarr\u001b[0m the new file path:                       \n",
      "         \u001b[35m/Users/srivarra/Library/Caches/lamindb/\u001b[0m\u001b[95mSThPVeS1UKGgfFQ30000.zarr\u001b[0m                                          \n",
      "\u001b[92m→\u001b[0m returning existing artifact with same hash: Artifact(uid='tK1m0XTLKPY3k5Ax0000', is_latest=True, key='nbl_sdatas/NBL-68-R4C1.zarr', suffix='.zarr', kind='dataset', otype='SpatialData', size=57207370, hash='l0LS2jyUthlpKOjzIyZ2dw', n_files=64, space_id=1, storage_id=1, run_id=3, created_by_id=1, created_at=2025-05-03 19:49:20 UTC); to track this artifact as an input, use: ln.Artifact.get()\n",
      "\u001b[34mINFO    \u001b[0m The Zarr backing store has been changed from                                                              \n",
      "         \u001b[35m/Users/srivarra/Library/Caches/lamindb/\u001b[0m\u001b[95mYL7NcTs8jVsX3ysA0000.zarr\u001b[0m the new file path:                       \n",
      "         \u001b[35m/Users/srivarra/Library/Caches/lamindb/\u001b[0m\u001b[95mwRIBcosC0FtNO4Iy0000.zarr\u001b[0m                                          \n",
      "\u001b[92m→\u001b[0m returning existing artifact with same hash: Artifact(uid='YL7NcTs8jVsX3ysA0000', is_latest=True, key='nbl_sdatas/NBL-68-R3C1.zarr', suffix='.zarr', kind='dataset', otype='SpatialData', size=64685625, hash='EBsWe_QeFgkMlL9iAkyXOQ', n_files=64, space_id=1, storage_id=1, run_id=3, created_by_id=1, created_at=2025-05-03 19:49:20 UTC); to track this artifact as an input, use: ln.Artifact.get()\n",
      "\u001b[34mINFO    \u001b[0m The Zarr backing store has been changed from                                                              \n",
      "         \u001b[35m/Users/srivarra/Library/Caches/lamindb/\u001b[0m\u001b[95mSEkev9gyrAhdPSNh0000.zarr\u001b[0m the new file path:                       \n",
      "         \u001b[35m/Users/srivarra/Library/Caches/lamindb/\u001b[0m\u001b[95mk5vVGpZ7FKIl0XIT0000.zarr\u001b[0m                                          \n",
      "\u001b[92m→\u001b[0m returning existing artifact with same hash: Artifact(uid='SEkev9gyrAhdPSNh0000', is_latest=True, key='nbl_sdatas/NBL-7-R13C12.zarr', suffix='.zarr', kind='dataset', otype='SpatialData', size=68085136, hash='G17MZGkZAXz5aBNDooAM1A', n_files=64, space_id=1, storage_id=1, run_id=3, created_by_id=1, created_at=2025-05-03 19:49:21 UTC); to track this artifact as an input, use: ln.Artifact.get()\n"
     ]
    }
   ],
   "source": [
    "for _, fov_row in clinical_data.iterrows():\n",
    "    # fov = fov_row[\"FOV\"]\n",
    "    fov_name = fov_row[\"FOV\"]\n",
    "    fov_sdata = nbl_sdatas[fov_name]\n",
    "\n",
    "    fov_sdata_artifact = ln.Artifact.from_spatialdata(fov_sdata, key=f\"nbl_sdatas/{fov_name}.zarr\")\n",
    "    fov_sdata_artifact.save()\n",
    "\n",
    "    for f in (features := ln.Feature.lookup()):\n",
    "        match f:\n",
    "            case ln.Feature():\n",
    "                feature_name = f.name\n",
    "            case _:\n",
    "                continue\n",
    "        feature_value = fov_row[feature_name]\n",
    "        feature = ln.Feature.filter(ln.Q(name=feature_name)).one()\n",
    "        fov_sdata_artifact.labels.add(records=ln.ULabel.filter(ln.Q(name=feature_value)), feature=feature)\n",
    "\n",
    "    # nbl_a.labels.add(records = ln.ULabel(name=feature_name, value=feature_value), feature=f)"
   ]
  },
  {
   "cell_type": "code",
   "execution_count": 63,
   "metadata": {},
   "outputs": [
    {
     "data": {
      "text/html": [
       "<pre style=\"white-space:pre;overflow-x:auto;line-height:normal;font-family:Menlo,'DejaVu Sans Mono',consolas,'Courier New',monospace\"><span style=\"font-weight: bold\">Artifact</span><span style=\"color: #7f7f7f; text-decoration-color: #7f7f7f; font-weight: bold\"> .zarr/SpatialData</span>\n",
       "<span style=\"color: #7f7f7f; text-decoration-color: #7f7f7f\">├── </span><span style=\"color: #00ffff; text-decoration-color: #00ffff; font-weight: bold\">General</span>\n",
       "<span style=\"color: #7f7f7f; text-decoration-color: #7f7f7f\">│   ├── </span>.uid = 'SEkev9gyrAhdPSNh0000'\n",
       "<span style=\"color: #7f7f7f; text-decoration-color: #7f7f7f\">│   ├── </span>.key = 'nbl_sdatas/NBL-7-R13C12.zarr'\n",
       "<span style=\"color: #7f7f7f; text-decoration-color: #7f7f7f\">│   ├── </span>.size = 68085136\n",
       "<span style=\"color: #7f7f7f; text-decoration-color: #7f7f7f\">│   ├── </span>.hash = 'G17MZGkZAXz5aBNDooAM1A'\n",
       "<span style=\"color: #7f7f7f; text-decoration-color: #7f7f7f\">│   ├── </span>.n_files = 64\n",
       "<span style=\"color: #7f7f7f; text-decoration-color: #7f7f7f\">│   ├── </span>.path = <span style=\"color: #7f7f7f; text-decoration-color: #7f7f7f\">/Users/srivarra/Davis Lab/nbl/data/nbl-dataset</span>/.lamindb/SEkev9gyrAhdPSNh.zarr\n",
       "<span style=\"color: #7f7f7f; text-decoration-color: #7f7f7f\">│   ├── </span>.created_by = srivarra\n",
       "<span style=\"color: #7f7f7f; text-decoration-color: #7f7f7f\">│   ├── </span>.created_at = <span style=\"color: #7f7f7f; text-decoration-color: #7f7f7f\">2025-05-03 12:49:21</span>\n",
       "<span style=\"color: #7f7f7f; text-decoration-color: #7f7f7f\">│   └── </span><span style=\"color: #00d7af; text-decoration-color: #00d7af\">.transform = 'Add SpatialData'</span>\n",
       "<span style=\"color: #7f7f7f; text-decoration-color: #7f7f7f\">├── </span><span style=\"color: #ff8700; text-decoration-color: #ff8700; font-weight: bold\">Linked features</span>\n",
       "<span style=\"color: #7f7f7f; text-decoration-color: #7f7f7f\">│   └── </span>11q LOH                    <span style=\"color: #7f7f7f; text-decoration-color: #7f7f7f\"> cat[ULabel]               </span> No                                       \n",
       "<span style=\"color: #7f7f7f; text-decoration-color: #7f7f7f\">│       </span>17q gain                   <span style=\"color: #7f7f7f; text-decoration-color: #7f7f7f\"> cat[ULabel]               </span> Yes                                      \n",
       "<span style=\"color: #7f7f7f; text-decoration-color: #7f7f7f\">│       </span>1p LOH                     <span style=\"color: #7f7f7f; text-decoration-color: #7f7f7f\"> cat[ULabel]               </span> Yes                                      \n",
       "<span style=\"color: #7f7f7f; text-decoration-color: #7f7f7f\">│       </span>7q gain                    <span style=\"color: #7f7f7f; text-decoration-color: #7f7f7f\"> cat[ULabel]               </span> No                                       \n",
       "<span style=\"color: #7f7f7f; text-decoration-color: #7f7f7f\">│       </span>ALK                        <span style=\"color: #7f7f7f; text-decoration-color: #7f7f7f\"> cat[ULabel]               </span> F1174L                                   \n",
       "<span style=\"color: #7f7f7f; text-decoration-color: #7f7f7f\">│       </span>Classification             <span style=\"color: #7f7f7f; text-decoration-color: #7f7f7f\"> cat[ULabel]               </span> Post-Chemotherapy                        \n",
       "<span style=\"color: #7f7f7f; text-decoration-color: #7f7f7f\">│       </span>Degree of differentiation  <span style=\"color: #7f7f7f; text-decoration-color: #7f7f7f\"> cat[ULabel]               </span> Poorly Differentiated                    \n",
       "<span style=\"color: #7f7f7f; text-decoration-color: #7f7f7f\">│       </span>FOV                        <span style=\"color: #7f7f7f; text-decoration-color: #7f7f7f\"> cat[ULabel]               </span> NBL-7-R13C12                             \n",
       "<span style=\"color: #7f7f7f; text-decoration-color: #7f7f7f\">│       </span>Genomic studies done       <span style=\"color: #7f7f7f; text-decoration-color: #7f7f7f\"> cat[ULabel]               </span> SNP array|ALK/PHOX2B sequencing          \n",
       "<span style=\"color: #7f7f7f; text-decoration-color: #7f7f7f\">│       </span>Genomics source            <span style=\"color: #7f7f7f; text-decoration-color: #7f7f7f\"> cat[ULabel]               </span> This specimen                            \n",
       "<span style=\"color: #7f7f7f; text-decoration-color: #7f7f7f\">│       </span>Histologic classification… <span style=\"color: #7f7f7f; text-decoration-color: #7f7f7f\"> cat[ULabel]               </span> Unfavorable                              \n",
       "<span style=\"color: #7f7f7f; text-decoration-color: #7f7f7f\">│       </span>INRG stage                 <span style=\"color: #7f7f7f; text-decoration-color: #7f7f7f\"> cat[ULabel]               </span> M                                        \n",
       "<span style=\"color: #7f7f7f; text-decoration-color: #7f7f7f\">│       </span>MKI                        <span style=\"color: #7f7f7f; text-decoration-color: #7f7f7f\"> cat[ULabel]               </span> High                                     \n",
       "<span style=\"color: #7f7f7f; text-decoration-color: #7f7f7f\">│       </span>Ploidy value               <span style=\"color: #7f7f7f; text-decoration-color: #7f7f7f\"> cat[ULabel]               </span> Diploid                                  \n",
       "<span style=\"color: #7f7f7f; text-decoration-color: #7f7f7f\">│       </span>Risk                       <span style=\"color: #7f7f7f; text-decoration-color: #7f7f7f\"> cat[ULabel]               </span> High                                     \n",
       "<span style=\"color: #7f7f7f; text-decoration-color: #7f7f7f\">│       </span>Sex                        <span style=\"color: #7f7f7f; text-decoration-color: #7f7f7f\"> cat[ULabel]               </span> Female                                   \n",
       "<span style=\"color: #7f7f7f; text-decoration-color: #7f7f7f\">│       </span>UID                        <span style=\"color: #7f7f7f; text-decoration-color: #7f7f7f\"> cat[ULabel]               </span> PC19-MARI-419-7                          \n",
       "<span style=\"color: #7f7f7f; text-decoration-color: #7f7f7f\">└── </span><span style=\"color: #afff00; text-decoration-color: #afff00; font-weight: bold\">Labels</span>\n",
       "<span style=\"color: #7f7f7f; text-decoration-color: #7f7f7f\">    └── </span>.projects                  <span style=\"color: #7f7f7f; text-decoration-color: #7f7f7f\"> Project                   </span> Neuroblastoma                            \n",
       "<span style=\"color: #7f7f7f; text-decoration-color: #7f7f7f\">        </span>.ulabels                   <span style=\"color: #7f7f7f; text-decoration-color: #7f7f7f\"> ULabel                    </span> NBL-7-R13C12, PC19-MARI-419-7, Post-Chem…\n",
       "</pre>\n"
      ],
      "text/plain": [
       "\u001b[1mArtifact\u001b[0m\u001b[1;2m .zarr/SpatialData\u001b[0m\n",
       "\u001b[2m├── \u001b[0m\u001b[1;96mGeneral\u001b[0m\n",
       "\u001b[2m│   \u001b[0m\u001b[2m├── \u001b[0m.uid = 'SEkev9gyrAhdPSNh0000'\n",
       "\u001b[2m│   \u001b[0m\u001b[2m├── \u001b[0m.key = 'nbl_sdatas/NBL-7-R13C12.zarr'\n",
       "\u001b[2m│   \u001b[0m\u001b[2m├── \u001b[0m.size = 68085136\n",
       "\u001b[2m│   \u001b[0m\u001b[2m├── \u001b[0m.hash = 'G17MZGkZAXz5aBNDooAM1A'\n",
       "\u001b[2m│   \u001b[0m\u001b[2m├── \u001b[0m.n_files = 64\n",
       "\u001b[2m│   \u001b[0m\u001b[2m├── \u001b[0m.path = \u001b[2m/Users/srivarra/Davis Lab/nbl/data/nbl-dataset\u001b[0m/.lamindb/SEkev9gyrAhdPSNh.zarr\n",
       "\u001b[2m│   \u001b[0m\u001b[2m├── \u001b[0m.created_by = srivarra\n",
       "\u001b[2m│   \u001b[0m\u001b[2m├── \u001b[0m.created_at = \u001b[2m2025-05-03 12:49:21\u001b[0m\n",
       "\u001b[2m│   \u001b[0m\u001b[2m└── \u001b[0m\u001b[38;5;43m.transform = 'Add SpatialData'\u001b[0m\n",
       "\u001b[2m├── \u001b[0m\u001b[1;38;5;208mLinked features\u001b[0m\n",
       "\u001b[2m│   \u001b[0m\u001b[2m└── \u001b[0m11q LOH                    \u001b[2m \u001b[0m\u001b[2mcat[ULabel]              \u001b[0m\u001b[2m \u001b[0m No                                       \n",
       "\u001b[2m│   \u001b[0m\u001b[2m    \u001b[0m17q gain                   \u001b[2m \u001b[0m\u001b[2mcat[ULabel]              \u001b[0m\u001b[2m \u001b[0m Yes                                      \n",
       "\u001b[2m│   \u001b[0m\u001b[2m    \u001b[0m1p LOH                     \u001b[2m \u001b[0m\u001b[2mcat[ULabel]              \u001b[0m\u001b[2m \u001b[0m Yes                                      \n",
       "\u001b[2m│   \u001b[0m\u001b[2m    \u001b[0m7q gain                    \u001b[2m \u001b[0m\u001b[2mcat[ULabel]              \u001b[0m\u001b[2m \u001b[0m No                                       \n",
       "\u001b[2m│   \u001b[0m\u001b[2m    \u001b[0mALK                        \u001b[2m \u001b[0m\u001b[2mcat[ULabel]              \u001b[0m\u001b[2m \u001b[0m F1174L                                   \n",
       "\u001b[2m│   \u001b[0m\u001b[2m    \u001b[0mClassification             \u001b[2m \u001b[0m\u001b[2mcat[ULabel]              \u001b[0m\u001b[2m \u001b[0m Post-Chemotherapy                        \n",
       "\u001b[2m│   \u001b[0m\u001b[2m    \u001b[0mDegree of differentiation  \u001b[2m \u001b[0m\u001b[2mcat[ULabel]              \u001b[0m\u001b[2m \u001b[0m Poorly Differentiated                    \n",
       "\u001b[2m│   \u001b[0m\u001b[2m    \u001b[0mFOV                        \u001b[2m \u001b[0m\u001b[2mcat[ULabel]              \u001b[0m\u001b[2m \u001b[0m NBL-7-R13C12                             \n",
       "\u001b[2m│   \u001b[0m\u001b[2m    \u001b[0mGenomic studies done       \u001b[2m \u001b[0m\u001b[2mcat[ULabel]              \u001b[0m\u001b[2m \u001b[0m SNP array|ALK/PHOX2B sequencing          \n",
       "\u001b[2m│   \u001b[0m\u001b[2m    \u001b[0mGenomics source            \u001b[2m \u001b[0m\u001b[2mcat[ULabel]              \u001b[0m\u001b[2m \u001b[0m This specimen                            \n",
       "\u001b[2m│   \u001b[0m\u001b[2m    \u001b[0mHistologic classification… \u001b[2m \u001b[0m\u001b[2mcat[ULabel]              \u001b[0m\u001b[2m \u001b[0m Unfavorable                              \n",
       "\u001b[2m│   \u001b[0m\u001b[2m    \u001b[0mINRG stage                 \u001b[2m \u001b[0m\u001b[2mcat[ULabel]              \u001b[0m\u001b[2m \u001b[0m M                                        \n",
       "\u001b[2m│   \u001b[0m\u001b[2m    \u001b[0mMKI                        \u001b[2m \u001b[0m\u001b[2mcat[ULabel]              \u001b[0m\u001b[2m \u001b[0m High                                     \n",
       "\u001b[2m│   \u001b[0m\u001b[2m    \u001b[0mPloidy value               \u001b[2m \u001b[0m\u001b[2mcat[ULabel]              \u001b[0m\u001b[2m \u001b[0m Diploid                                  \n",
       "\u001b[2m│   \u001b[0m\u001b[2m    \u001b[0mRisk                       \u001b[2m \u001b[0m\u001b[2mcat[ULabel]              \u001b[0m\u001b[2m \u001b[0m High                                     \n",
       "\u001b[2m│   \u001b[0m\u001b[2m    \u001b[0mSex                        \u001b[2m \u001b[0m\u001b[2mcat[ULabel]              \u001b[0m\u001b[2m \u001b[0m Female                                   \n",
       "\u001b[2m│   \u001b[0m\u001b[2m    \u001b[0mUID                        \u001b[2m \u001b[0m\u001b[2mcat[ULabel]              \u001b[0m\u001b[2m \u001b[0m PC19-MARI-419-7                          \n",
       "\u001b[2m└── \u001b[0m\u001b[1;38;5;154mLabels\u001b[0m\n",
       "\u001b[2m    \u001b[0m\u001b[2m└── \u001b[0m.projects                  \u001b[2m \u001b[0m\u001b[2mProject                  \u001b[0m\u001b[2m \u001b[0m Neuroblastoma                            \n",
       "\u001b[2m    \u001b[0m\u001b[2m    \u001b[0m.ulabels                   \u001b[2m \u001b[0m\u001b[2mULabel                   \u001b[0m\u001b[2m \u001b[0m NBL-7-R13C12, PC19-MARI-419-7, Post-Chem…\n"
      ]
     },
     "metadata": {},
     "output_type": "display_data"
    }
   ],
   "source": [
    "ln.Artifact.filter(ln.Q(key__contains=\"nbl_sdatas/NBL-7-R13C12.zarr\")).latest_version().one().describe()"
   ]
  },
  {
   "cell_type": "code",
   "execution_count": 27,
   "metadata": {},
   "outputs": [
    {
     "data": {
      "text/html": [
       "<pre style=\"white-space:pre;overflow-x:auto;line-height:normal;font-family:Menlo,'DejaVu Sans Mono',consolas,'Courier New',monospace\"></pre>\n"
      ],
      "text/plain": []
     },
     "metadata": {},
     "output_type": "display_data"
    },
    {
     "data": {
      "text/plain": [
       "\u001b[1m<\u001b[0m\u001b[1;95mQuerySet\u001b[0m\u001b[39m \u001b[0m\u001b[1;39m[\u001b[0m\u001b[1;35mULabel\u001b[0m\u001b[1;39m(\u001b[0m\u001b[33muid\u001b[0m\u001b[39m=\u001b[0m\u001b[32m'obzUy9nz'\u001b[0m\u001b[39m, \u001b[0m\u001b[33mname\u001b[0m\u001b[39m=\u001b[0m\u001b[32m'NBL-1-R5C8'\u001b[0m\u001b[39m, \u001b[0m\u001b[33mis_type\u001b[0m\u001b[39m=\u001b[0m\u001b[3;91mFalse\u001b[0m\u001b[39m, \u001b[0m\u001b[33mspace_id\u001b[0m\u001b[39m=\u001b[0m\u001b[1;36m1\u001b[0m\u001b[39m, \u001b[0m\u001b[33mcreated_by_id\u001b[0m\u001b[39m=\u001b[0m\u001b[1;36m1\u001b[0m\u001b[39m, \u001b[0m\u001b[33mrun_id\u001b[0m\u001b[39m=\u001b[0m\u001b[1;36m2\u001b[0m\u001b[39m, \u001b[0m\u001b[33mcreated_at\u001b[0m\u001b[39m=\u001b[0m\u001b[1;36m2025\u001b[0m\u001b[39m-\u001b[0m\u001b[1;36m04\u001b[0m\u001b[39m-\u001b[0m\u001b[1;36m29\u001b[0m\u001b[39m \u001b[0m\u001b[1;92m21:31:43\u001b[0m\u001b[39m UTC\u001b[0m\u001b[1;39m)\u001b[0m\u001b[1;39m]\u001b[0m\u001b[1m>\u001b[0m"
      ]
     },
     "execution_count": 27,
     "metadata": {},
     "output_type": "execute_result"
    }
   ],
   "source": [
    "ln.ULabel.filter(ln.Q(name=feature_value))"
   ]
  },
  {
   "cell_type": "code",
   "execution_count": 47,
   "metadata": {},
   "outputs": [
    {
     "data": {
      "text/html": [
       "<pre style=\"white-space:pre;overflow-x:auto;line-height:normal;font-family:Menlo,'DejaVu Sans Mono',consolas,'Courier New',monospace\"></pre>\n"
      ],
      "text/plain": []
     },
     "metadata": {},
     "output_type": "display_data"
    },
    {
     "data": {
      "text/plain": [
       "\u001b[1m<\u001b[0m\u001b[1;95mQuerySet\u001b[0m\u001b[39m \u001b[0m\u001b[1;39m[\u001b[0m\u001b[1;35mArtifact\u001b[0m\u001b[1;39m(\u001b[0m\u001b[33muid\u001b[0m\u001b[39m=\u001b[0m\u001b[32m'gnKmLGXiaUgQswQR0000'\u001b[0m\u001b[39m, \u001b[0m\u001b[33mis_latest\u001b[0m\u001b[39m=\u001b[0m\u001b[3;92mTrue\u001b[0m\u001b[39m, \u001b[0m\u001b[33mkey\u001b[0m\u001b[39m=\u001b[0m\u001b[32m'nbl_sdatas/NBL-1-R5C8.zarr'\u001b[0m\u001b[39m, \u001b[0m\u001b[33msuffix\u001b[0m\u001b[39m=\u001b[0m\u001b[32m'.zarr'\u001b[0m\u001b[39m, \u001b[0m\u001b[33mkind\u001b[0m\u001b[39m=\u001b[0m\u001b[32m'dataset'\u001b[0m\u001b[39m, \u001b[0m\u001b[33motype\u001b[0m\u001b[39m=\u001b[0m\u001b[32m'SpatialData'\u001b[0m\u001b[39m, \u001b[0m\u001b[33msize\u001b[0m\u001b[39m=\u001b[0m\u001b[1;36m71691210\u001b[0m\u001b[39m, \u001b[0m\u001b[33mhash\u001b[0m\u001b[39m=\u001b[0m\u001b[32m'lKpzDK0t_3EiRojqioa4BA'\u001b[0m\u001b[39m, \u001b[0m\u001b[33mn_files\u001b[0m\u001b[39m=\u001b[0m\u001b[1;36m64\u001b[0m\u001b[39m, \u001b[0m\u001b[33mspace_id\u001b[0m\u001b[39m=\u001b[0m\u001b[1;36m1\u001b[0m\u001b[39m, \u001b[0m\u001b[33mstorage_id\u001b[0m\u001b[39m=\u001b[0m\u001b[1;36m1\u001b[0m\u001b[39m, \u001b[0m\u001b[33mrun_id\u001b[0m\u001b[39m=\u001b[0m\u001b[1;36m3\u001b[0m\u001b[39m, \u001b[0m\u001b[33mcreated_by_id\u001b[0m\u001b[39m=\u001b[0m\u001b[1;36m1\u001b[0m\u001b[39m, \u001b[0m\u001b[33mcreated_at\u001b[0m\u001b[39m=\u001b[0m\u001b[1;36m2025\u001b[0m\u001b[39m-\u001b[0m\u001b[1;36m05\u001b[0m\u001b[39m-\u001b[0m\u001b[1;36m03\u001b[0m\u001b[39m \u001b[0m\u001b[1;92m19:48:05\u001b[0m\u001b[39m UTC\u001b[0m\u001b[1;39m)\u001b[0m\u001b[39m, \u001b[0m\u001b[1;35mArtifact\u001b[0m\u001b[1;39m(\u001b[0m\u001b[33muid\u001b[0m\u001b[39m=\u001b[0m\u001b[32m'ZiOctB0cidVaHwQI0000'\u001b[0m\u001b[39m, \u001b[0m\u001b[33mis_latest\u001b[0m\u001b[39m=\u001b[0m\u001b[3;92mTrue\u001b[0m\u001b[39m, \u001b[0m\u001b[33mkey\u001b[0m\u001b[39m=\u001b[0m\u001b[32m'nbl_sdatas/NBL-1-R6C8.zarr'\u001b[0m\u001b[39m, \u001b[0m\u001b[33msuffix\u001b[0m\u001b[39m=\u001b[0m\u001b[32m'.zarr'\u001b[0m\u001b[39m, \u001b[0m\u001b[33mkind\u001b[0m\u001b[39m=\u001b[0m\u001b[32m'dataset'\u001b[0m\u001b[39m, \u001b[0m\u001b[33motype\u001b[0m\u001b[39m=\u001b[0m\u001b[32m'SpatialData'\u001b[0m\u001b[39m, \u001b[0m\u001b[33msize\u001b[0m\u001b[39m=\u001b[0m\u001b[1;36m74604876\u001b[0m\u001b[39m, \u001b[0m\u001b[33mhash\u001b[0m\u001b[39m=\u001b[0m\u001b[32m'xHr_IS9g-nBkzCxEG4vHWQ'\u001b[0m\u001b[39m, \u001b[0m\u001b[33mn_files\u001b[0m\u001b[39m=\u001b[0m\u001b[1;36m64\u001b[0m\u001b[39m, \u001b[0m\u001b[33mspace_id\u001b[0m\u001b[39m=\u001b[0m\u001b[1;36m1\u001b[0m\u001b[39m, \u001b[0m\u001b[33mstorage_id\u001b[0m\u001b[39m=\u001b[0m\u001b[1;36m1\u001b[0m\u001b[39m, \u001b[0m\u001b[33mrun_id\u001b[0m\u001b[39m=\u001b[0m\u001b[1;36m3\u001b[0m\u001b[39m, \u001b[0m\u001b[33mcreated_by_id\u001b[0m\u001b[39m=\u001b[0m\u001b[1;36m1\u001b[0m\u001b[39m, \u001b[0m\u001b[33mcreated_at\u001b[0m\u001b[39m=\u001b[0m\u001b[1;36m2025\u001b[0m\u001b[39m-\u001b[0m\u001b[1;36m05\u001b[0m\u001b[39m-\u001b[0m\u001b[1;36m03\u001b[0m\u001b[39m \u001b[0m\u001b[1;92m19:48:06\u001b[0m\u001b[39m UTC\u001b[0m\u001b[1;39m)\u001b[0m\u001b[39m, \u001b[0m\u001b[1;35mArtifact\u001b[0m\u001b[1;39m(\u001b[0m\u001b[33muid\u001b[0m\u001b[39m=\u001b[0m\u001b[32m'jr7ZloWSZuhO6n5G0000'\u001b[0m\u001b[39m, \u001b[0m\u001b[33mis_latest\u001b[0m\u001b[39m=\u001b[0m\u001b[3;92mTrue\u001b[0m\u001b[39m, \u001b[0m\u001b[33mkey\u001b[0m\u001b[39m=\u001b[0m\u001b[32m'nbl_sdatas/NBL-1-R12C8.zarr'\u001b[0m\u001b[39m, \u001b[0m\u001b[33msuffix\u001b[0m\u001b[39m=\u001b[0m\u001b[32m'.zarr'\u001b[0m\u001b[39m, \u001b[0m\u001b[33mkind\u001b[0m\u001b[39m=\u001b[0m\u001b[32m'dataset'\u001b[0m\u001b[39m, \u001b[0m\u001b[33motype\u001b[0m\u001b[39m=\u001b[0m\u001b[32m'SpatialData'\u001b[0m\u001b[39m, \u001b[0m\u001b[33msize\u001b[0m\u001b[39m=\u001b[0m\u001b[1;36m163135752\u001b[0m\u001b[39m, \u001b[0m\u001b[33mhash\u001b[0m\u001b[39m=\u001b[0m\u001b[32m'ko_Uo4bXrlxJW4VsmrPJhA'\u001b[0m\u001b[39m, \u001b[0m\u001b[33mn_files\u001b[0m\u001b[39m=\u001b[0m\u001b[1;36m64\u001b[0m\u001b[39m, \u001b[0m\u001b[33mspace_id\u001b[0m\u001b[39m=\u001b[0m\u001b[1;36m1\u001b[0m\u001b[39m, \u001b[0m\u001b[33mstorage_id\u001b[0m\u001b[39m=\u001b[0m\u001b[1;36m1\u001b[0m\u001b[39m, \u001b[0m\u001b[33mrun_id\u001b[0m\u001b[39m=\u001b[0m\u001b[1;36m3\u001b[0m\u001b[39m, \u001b[0m\u001b[33mcreated_by_id\u001b[0m\u001b[39m=\u001b[0m\u001b[1;36m1\u001b[0m\u001b[39m, \u001b[0m\u001b[33mcreated_at\u001b[0m\u001b[39m=\u001b[0m\u001b[1;36m2025\u001b[0m\u001b[39m-\u001b[0m\u001b[1;36m05\u001b[0m\u001b[39m-\u001b[0m\u001b[1;36m03\u001b[0m\u001b[39m \u001b[0m\u001b[1;92m19:48:06\u001b[0m\u001b[39m UTC\u001b[0m\u001b[1;39m)\u001b[0m\u001b[39m, \u001b[0m\u001b[1;35mArtifact\u001b[0m\u001b[1;39m(\u001b[0m\u001b[33muid\u001b[0m\u001b[39m=\u001b[0m\u001b[32m'RFSK8HEVxxQxiYeZ0000'\u001b[0m\u001b[39m, \u001b[0m\u001b[33mis_latest\u001b[0m\u001b[39m=\u001b[0m\u001b[3;92mTrue\u001b[0m\u001b[39m, \u001b[0m\u001b[33mkey\u001b[0m\u001b[39m=\u001b[0m\u001b[32m'nbl_sdatas/NBL-1-R13C8.zarr'\u001b[0m\u001b[39m, \u001b[0m\u001b[33msuffix\u001b[0m\u001b[39m=\u001b[0m\u001b[32m'.zarr'\u001b[0m\u001b[39m, \u001b[0m\u001b[33mkind\u001b[0m\u001b[39m=\u001b[0m\u001b[32m'dataset'\u001b[0m\u001b[39m, \u001b[0m\u001b[33motype\u001b[0m\u001b[39m=\u001b[0m\u001b[32m'SpatialData'\u001b[0m\u001b[39m, \u001b[0m\u001b[33msize\u001b[0m\u001b[39m=\u001b[0m\u001b[1;36m96021186\u001b[0m\u001b[39m, \u001b[0m\u001b[33mhash\u001b[0m\u001b[39m=\u001b[0m\u001b[32m'Y5ogg1bDC24hPPTOFgjj3A'\u001b[0m\u001b[39m, \u001b[0m\u001b[33mn_files\u001b[0m\u001b[39m=\u001b[0m\u001b[1;36m64\u001b[0m\u001b[39m, \u001b[0m\u001b[33mspace_id\u001b[0m\u001b[39m=\u001b[0m\u001b[1;36m1\u001b[0m\u001b[39m, \u001b[0m\u001b[33mstorage_id\u001b[0m\u001b[39m=\u001b[0m\u001b[1;36m1\u001b[0m\u001b[39m, \u001b[0m\u001b[33mrun_id\u001b[0m\u001b[39m=\u001b[0m\u001b[1;36m3\u001b[0m\u001b[39m, \u001b[0m\u001b[33mcreated_by_id\u001b[0m\u001b[39m=\u001b[0m\u001b[1;36m1\u001b[0m\u001b[39m, \u001b[0m\u001b[33mcreated_at\u001b[0m\u001b[39m=\u001b[0m\u001b[1;36m2025\u001b[0m\u001b[39m-\u001b[0m\u001b[1;36m05\u001b[0m\u001b[39m-\u001b[0m\u001b[1;36m03\u001b[0m\u001b[39m \u001b[0m\u001b[1;92m19:48:07\u001b[0m\u001b[39m UTC\u001b[0m\u001b[1;39m)\u001b[0m\u001b[39m, \u001b[0m\u001b[1;35mArtifact\u001b[0m\u001b[1;39m(\u001b[0m\u001b[33muid\u001b[0m\u001b[39m=\u001b[0m\u001b[32m'vYjvzy5IkxFnIs270000'\u001b[0m\u001b[39m, \u001b[0m\u001b[33mis_latest\u001b[0m\u001b[39m=\u001b[0m\u001b[3;92mTrue\u001b[0m\u001b[39m, \u001b[0m\u001b[33mkey\u001b[0m\u001b[39m=\u001b[0m\u001b[32m'nbl_sdatas/NBL-2-R9C5.zarr'\u001b[0m\u001b[39m, \u001b[0m\u001b[33msuffix\u001b[0m\u001b[39m=\u001b[0m\u001b[32m'.zarr'\u001b[0m\u001b[39m, \u001b[0m\u001b[33mkind\u001b[0m\u001b[39m=\u001b[0m\u001b[32m'dataset'\u001b[0m\u001b[39m, \u001b[0m\u001b[33motype\u001b[0m\u001b[39m=\u001b[0m\u001b[32m'SpatialData'\u001b[0m\u001b[39m, \u001b[0m\u001b[33msize\u001b[0m\u001b[39m=\u001b[0m\u001b[1;36m222519120\u001b[0m\u001b[39m, \u001b[0m\u001b[33mhash\u001b[0m\u001b[39m=\u001b[0m\u001b[32m'66dlvpWLFeBi4zlWq4MoIg'\u001b[0m\u001b[39m, \u001b[0m\u001b[33mn_files\u001b[0m\u001b[39m=\u001b[0m\u001b[1;36m64\u001b[0m\u001b[39m, \u001b[0m\u001b[33mspace_id\u001b[0m\u001b[39m=\u001b[0m\u001b[1;36m1\u001b[0m\u001b[39m, \u001b[0m\u001b[33mstorage_id\u001b[0m\u001b[39m=\u001b[0m\u001b[1;36m1\u001b[0m\u001b[39m, \u001b[0m\u001b[33mrun_id\u001b[0m\u001b[39m=\u001b[0m\u001b[1;36m3\u001b[0m\u001b[39m, \u001b[0m\u001b[33mcreated_by_id\u001b[0m\u001b[39m=\u001b[0m\u001b[1;36m1\u001b[0m\u001b[39m, \u001b[0m\u001b[33mcreated_at\u001b[0m\u001b[39m=\u001b[0m\u001b[1;36m2025\u001b[0m\u001b[39m-\u001b[0m\u001b[1;36m05\u001b[0m\u001b[39m-\u001b[0m\u001b[1;36m03\u001b[0m\u001b[39m \u001b[0m\u001b[1;92m19:48:08\u001b[0m\u001b[39m UTC\u001b[0m\u001b[1;39m)\u001b[0m\u001b[39m, \u001b[0m\u001b[1;35mArtifact\u001b[0m\u001b[1;39m(\u001b[0m\u001b[33muid\u001b[0m\u001b[39m=\u001b[0m\u001b[32m'HPEXZwmlknI7Dd4z0000'\u001b[0m\u001b[39m, \u001b[0m\u001b[33mis_latest\u001b[0m\u001b[39m=\u001b[0m\u001b[3;92mTrue\u001b[0m\u001b[39m, \u001b[0m\u001b[33mkey\u001b[0m\u001b[39m=\u001b[0m\u001b[32m'nbl_sdatas/NBL-2-R8C5.zarr'\u001b[0m\u001b[39m, \u001b[0m\u001b[33msuffix\u001b[0m\u001b[39m=\u001b[0m\u001b[32m'.zarr'\u001b[0m\u001b[39m, \u001b[0m\u001b[33mkind\u001b[0m\u001b[39m=\u001b[0m\u001b[32m'dataset'\u001b[0m\u001b[39m, \u001b[0m\u001b[33motype\u001b[0m\u001b[39m=\u001b[0m\u001b[32m'SpatialData'\u001b[0m\u001b[39m, \u001b[0m\u001b[33msize\u001b[0m\u001b[39m=\u001b[0m\u001b[1;36m94784688\u001b[0m\u001b[39m, \u001b[0m\u001b[33mhash\u001b[0m\u001b[39m=\u001b[0m\u001b[32m'x_BOG5SIGtSYeQfuCZpPdw'\u001b[0m\u001b[39m, \u001b[0m\u001b[33mn_files\u001b[0m\u001b[39m=\u001b[0m\u001b[1;36m64\u001b[0m\u001b[39m, \u001b[0m\u001b[33mspace_id\u001b[0m\u001b[39m=\u001b[0m\u001b[1;36m1\u001b[0m\u001b[39m, \u001b[0m\u001b[33mstorage_id\u001b[0m\u001b[39m=\u001b[0m\u001b[1;36m1\u001b[0m\u001b[39m, \u001b[0m\u001b[33mrun_id\u001b[0m\u001b[39m=\u001b[0m\u001b[1;36m3\u001b[0m\u001b[39m, \u001b[0m\u001b[33mcreated_by_id\u001b[0m\u001b[39m=\u001b[0m\u001b[1;36m1\u001b[0m\u001b[39m, \u001b[0m\u001b[33mcreated_at\u001b[0m\u001b[39m=\u001b[0m\u001b[1;36m2025\u001b[0m\u001b[39m-\u001b[0m\u001b[1;36m05\u001b[0m\u001b[39m-\u001b[0m\u001b[1;36m03\u001b[0m\u001b[39m \u001b[0m\u001b[1;92m19:48:08\u001b[0m\u001b[39m UTC\u001b[0m\u001b[1;39m)\u001b[0m\u001b[39m, \u001b[0m\u001b[1;35mArtifact\u001b[0m\u001b[1;39m(\u001b[0m\u001b[33muid\u001b[0m\u001b[39m=\u001b[0m\u001b[32m'c513iNdsWV8x60FV0000'\u001b[0m\u001b[39m, \u001b[0m\u001b[33mis_latest\u001b[0m\u001b[39m=\u001b[0m\u001b[3;92mTrue\u001b[0m\u001b[39m, \u001b[0m\u001b[33mkey\u001b[0m\u001b[39m=\u001b[0m\u001b[32m'nbl_sdatas/NBL-2-R1C4.zarr'\u001b[0m\u001b[39m, \u001b[0m\u001b[33msuffix\u001b[0m\u001b[39m=\u001b[0m\u001b[32m'.zarr'\u001b[0m\u001b[39m, \u001b[0m\u001b[33mkind\u001b[0m\u001b[39m=\u001b[0m\u001b[32m'dataset'\u001b[0m\u001b[39m, \u001b[0m\u001b[33motype\u001b[0m\u001b[39m=\u001b[0m\u001b[32m'SpatialData'\u001b[0m\u001b[39m, \u001b[0m\u001b[33msize\u001b[0m\u001b[39m=\u001b[0m\u001b[1;36m108853490\u001b[0m\u001b[39m, \u001b[0m\u001b[33mhash\u001b[0m\u001b[39m=\u001b[0m\u001b[32m'qcIpiijUsjruqHrCoNv-7g'\u001b[0m\u001b[39m, \u001b[0m\u001b[33mn_files\u001b[0m\u001b[39m=\u001b[0m\u001b[1;36m64\u001b[0m\u001b[39m, \u001b[0m\u001b[33mspace_id\u001b[0m\u001b[39m=\u001b[0m\u001b[1;36m1\u001b[0m\u001b[39m, \u001b[0m\u001b[33mstorage_id\u001b[0m\u001b[39m=\u001b[0m\u001b[1;36m1\u001b[0m\u001b[39m, \u001b[0m\u001b[33mrun_id\u001b[0m\u001b[39m=\u001b[0m\u001b[1;36m3\u001b[0m\u001b[39m, \u001b[0m\u001b[33mcreated_by_id\u001b[0m\u001b[39m=\u001b[0m\u001b[1;36m1\u001b[0m\u001b[39m, \u001b[0m\u001b[33mcreated_at\u001b[0m\u001b[39m=\u001b[0m\u001b[1;36m2025\u001b[0m\u001b[39m-\u001b[0m\u001b[1;36m05\u001b[0m\u001b[39m-\u001b[0m\u001b[1;36m03\u001b[0m\u001b[39m \u001b[0m\u001b[1;92m19:48:09\u001b[0m\u001b[39m UTC\u001b[0m\u001b[1;39m)\u001b[0m\u001b[39m, \u001b[0m\u001b[1;35mArtifact\u001b[0m\u001b[1;39m(\u001b[0m\u001b[33muid\u001b[0m\u001b[39m=\u001b[0m\u001b[32m'cCEjZt710sGGHRIb0000'\u001b[0m\u001b[39m, \u001b[0m\u001b[33mis_latest\u001b[0m\u001b[39m=\u001b[0m\u001b[3;92mTrue\u001b[0m\u001b[39m, \u001b[0m\u001b[33mkey\u001b[0m\u001b[39m=\u001b[0m\u001b[32m'nbl_sdatas/NBL-2-R2C4.zarr'\u001b[0m\u001b[39m, \u001b[0m\u001b[33msuffix\u001b[0m\u001b[39m=\u001b[0m\u001b[32m'.zarr'\u001b[0m\u001b[39m, \u001b[0m\u001b[33mkind\u001b[0m\u001b[39m=\u001b[0m\u001b[32m'dataset'\u001b[0m\u001b[39m, \u001b[0m\u001b[33motype\u001b[0m\u001b[39m=\u001b[0m\u001b[32m'SpatialData'\u001b[0m\u001b[39m, \u001b[0m\u001b[33msize\u001b[0m\u001b[39m=\u001b[0m\u001b[1;36m104860677\u001b[0m\u001b[39m, \u001b[0m\u001b[33mhash\u001b[0m\u001b[39m=\u001b[0m\u001b[32m'w7eGWYcIFTk4omw173cJvQ'\u001b[0m\u001b[39m, \u001b[0m\u001b[33mn_files\u001b[0m\u001b[39m=\u001b[0m\u001b[1;36m64\u001b[0m\u001b[39m, \u001b[0m\u001b[33mspace_id\u001b[0m\u001b[39m=\u001b[0m\u001b[1;36m1\u001b[0m\u001b[39m, \u001b[0m\u001b[33mstorage_id\u001b[0m\u001b[39m=\u001b[0m\u001b[1;36m1\u001b[0m\u001b[39m, \u001b[0m\u001b[33mrun_id\u001b[0m\u001b[39m=\u001b[0m\u001b[1;36m3\u001b[0m\u001b[39m, \u001b[0m\u001b[33mcreated_by_id\u001b[0m\u001b[39m=\u001b[0m\u001b[1;36m1\u001b[0m\u001b[39m, \u001b[0m\u001b[33mcreated_at\u001b[0m\u001b[39m=\u001b[0m\u001b[1;36m2025\u001b[0m\u001b[39m-\u001b[0m\u001b[1;36m05\u001b[0m\u001b[39m-\u001b[0m\u001b[1;36m03\u001b[0m\u001b[39m \u001b[0m\u001b[1;92m19:48:10\u001b[0m\u001b[39m UTC\u001b[0m\u001b[1;39m)\u001b[0m\u001b[39m, \u001b[0m\u001b[1;35mArtifact\u001b[0m\u001b[1;39m(\u001b[0m\u001b[33muid\u001b[0m\u001b[39m=\u001b[0m\u001b[32m'S9LNSEKa5m6EcLvz0000'\u001b[0m\u001b[39m, \u001b[0m\u001b[33mis_latest\u001b[0m\u001b[39m=\u001b[0m\u001b[3;92mTrue\u001b[0m\u001b[39m, \u001b[0m\u001b[33mkey\u001b[0m\u001b[39m=\u001b[0m\u001b[32m'nbl_sdatas/NBL-3-R1C10.zarr'\u001b[0m\u001b[39m, \u001b[0m\u001b[33msuffix\u001b[0m\u001b[39m=\u001b[0m\u001b[32m'.zarr'\u001b[0m\u001b[39m, \u001b[0m\u001b[33mkind\u001b[0m\u001b[39m=\u001b[0m\u001b[32m'dataset'\u001b[0m\u001b[39m, \u001b[0m\u001b[33motype\u001b[0m\u001b[39m=\u001b[0m\u001b[32m'SpatialData'\u001b[0m\u001b[39m, \u001b[0m\u001b[33msize\u001b[0m\u001b[39m=\u001b[0m\u001b[1;36m83353062\u001b[0m\u001b[39m, \u001b[0m\u001b[33mhash\u001b[0m\u001b[39m=\u001b[0m\u001b[32m'VsUQRQ2qYsuHPuWK7YI_hg'\u001b[0m\u001b[39m, \u001b[0m\u001b[33mn_files\u001b[0m\u001b[39m=\u001b[0m\u001b[1;36m64\u001b[0m\u001b[39m, \u001b[0m\u001b[33mspace_id\u001b[0m\u001b[39m=\u001b[0m\u001b[1;36m1\u001b[0m\u001b[39m, \u001b[0m\u001b[33mstorage_id\u001b[0m\u001b[39m=\u001b[0m\u001b[1;36m1\u001b[0m\u001b[39m, \u001b[0m\u001b[33mrun_id\u001b[0m\u001b[39m=\u001b[0m\u001b[1;36m3\u001b[0m\u001b[39m, \u001b[0m\u001b[33mcreated_by_id\u001b[0m\u001b[39m=\u001b[0m\u001b[1;36m1\u001b[0m\u001b[39m, \u001b[0m\u001b[33mcreated_at\u001b[0m\u001b[39m=\u001b[0m\u001b[1;36m2025\u001b[0m\u001b[39m-\u001b[0m\u001b[1;36m05\u001b[0m\u001b[39m-\u001b[0m\u001b[1;36m03\u001b[0m\u001b[39m \u001b[0m\u001b[1;92m19:48:10\u001b[0m\u001b[39m UTC\u001b[0m\u001b[1;39m)\u001b[0m\u001b[39m, \u001b[0m\u001b[1;35mArtifact\u001b[0m\u001b[1;39m(\u001b[0m\u001b[33muid\u001b[0m\u001b[39m=\u001b[0m\u001b[32m'LcE4aLgYW6Hf6crz0000'\u001b[0m\u001b[39m, \u001b[0m\u001b[33mis_latest\u001b[0m\u001b[39m=\u001b[0m\u001b[3;92mTrue\u001b[0m\u001b[39m, \u001b[0m\u001b[33mkey\u001b[0m\u001b[39m=\u001b[0m\u001b[32m'nbl_sdatas/NBL-3-R2C10.zarr'\u001b[0m\u001b[39m, \u001b[0m\u001b[33msuffix\u001b[0m\u001b[39m=\u001b[0m\u001b[32m'.zarr'\u001b[0m\u001b[39m, \u001b[0m\u001b[33mkind\u001b[0m\u001b[39m=\u001b[0m\u001b[32m'dataset'\u001b[0m\u001b[39m, \u001b[0m\u001b[33motype\u001b[0m\u001b[39m=\u001b[0m\u001b[32m'SpatialData'\u001b[0m\u001b[39m, \u001b[0m\u001b[33msize\u001b[0m\u001b[39m=\u001b[0m\u001b[1;36m82924578\u001b[0m\u001b[39m, \u001b[0m\u001b[33mhash\u001b[0m\u001b[39m=\u001b[0m\u001b[32m'6qNkycY_lwWz0EozBDyQlQ'\u001b[0m\u001b[39m, \u001b[0m\u001b[33mn_files\u001b[0m\u001b[39m=\u001b[0m\u001b[1;36m64\u001b[0m\u001b[39m, \u001b[0m\u001b[33mspace_id\u001b[0m\u001b[39m=\u001b[0m\u001b[1;36m1\u001b[0m\u001b[39m, \u001b[0m\u001b[33mstorage_id\u001b[0m\u001b[39m=\u001b[0m\u001b[1;36m1\u001b[0m\u001b[39m, \u001b[0m\u001b[33mrun_id\u001b[0m\u001b[39m=\u001b[0m\u001b[1;36m3\u001b[0m\u001b[39m, \u001b[0m\u001b[33mcreated_by_id\u001b[0m\u001b[39m=\u001b[0m\u001b[1;36m1\u001b[0m\u001b[39m, \u001b[0m\u001b[33mcreated_at\u001b[0m\u001b[39m=\u001b[0m\u001b[1;36m2025\u001b[0m\u001b[39m-\u001b[0m\u001b[1;36m05\u001b[0m\u001b[39m-\u001b[0m\u001b[1;36m03\u001b[0m\u001b[39m \u001b[0m\u001b[1;92m19:48:11\u001b[0m\u001b[39m UTC\u001b[0m\u001b[1;39m)\u001b[0m\u001b[39m, \u001b[0m\u001b[1;35mArtifact\u001b[0m\u001b[1;39m(\u001b[0m\u001b[33muid\u001b[0m\u001b[39m=\u001b[0m\u001b[32m'o0hFAF0QCG6D6YDb0000'\u001b[0m\u001b[39m, \u001b[0m\u001b[33mis_latest\u001b[0m\u001b[39m=\u001b[0m\u001b[3;92mTrue\u001b[0m\u001b[39m, \u001b[0m\u001b[33mkey\u001b[0m\u001b[39m=\u001b[0m\u001b[32m'nbl_sdatas/NBL-3-R11C12.zarr'\u001b[0m\u001b[39m, \u001b[0m\u001b[33msuffix\u001b[0m\u001b[39m=\u001b[0m\u001b[32m'.zarr'\u001b[0m\u001b[39m, \u001b[0m\u001b[33mkind\u001b[0m\u001b[39m=\u001b[0m\u001b[32m'dataset'\u001b[0m\u001b[39m, \u001b[0m\u001b[33motype\u001b[0m\u001b[39m=\u001b[0m\u001b[32m'SpatialData'\u001b[0m\u001b[39m, \u001b[0m\u001b[33msize\u001b[0m\u001b[39m=\u001b[0m\u001b[1;36m71908437\u001b[0m\u001b[39m, \u001b[0m\u001b[33mhash\u001b[0m\u001b[39m=\u001b[0m\u001b[32m'nfONqejeo98wiDwBuKEx9g'\u001b[0m\u001b[39m, \u001b[0m\u001b[33mn_files\u001b[0m\u001b[39m=\u001b[0m\u001b[1;36m64\u001b[0m\u001b[39m, \u001b[0m\u001b[33mspace_id\u001b[0m\u001b[39m=\u001b[0m\u001b[1;36m1\u001b[0m\u001b[39m, \u001b[0m\u001b[33mstorage_id\u001b[0m\u001b[39m=\u001b[0m\u001b[1;36m1\u001b[0m\u001b[39m, \u001b[0m\u001b[33mrun_id\u001b[0m\u001b[39m=\u001b[0m\u001b[1;36m3\u001b[0m\u001b[39m, \u001b[0m\u001b[33mcreated_by_id\u001b[0m\u001b[39m=\u001b[0m\u001b[1;36m1\u001b[0m\u001b[39m, \u001b[0m\u001b[33mcreated_at\u001b[0m\u001b[39m=\u001b[0m\u001b[1;36m2025\u001b[0m\u001b[39m-\u001b[0m\u001b[1;36m05\u001b[0m\u001b[39m-\u001b[0m\u001b[1;36m03\u001b[0m\u001b[39m \u001b[0m\u001b[1;92m19:48:11\u001b[0m\u001b[39m UTC\u001b[0m\u001b[1;39m)\u001b[0m\u001b[39m, \u001b[0m\u001b[1;35mArtifact\u001b[0m\u001b[1;39m(\u001b[0m\u001b[33muid\u001b[0m\u001b[39m=\u001b[0m\u001b[32m'c24HDHHhITy9SRZ00000'\u001b[0m\u001b[39m, \u001b[0m\u001b[33mis_latest\u001b[0m\u001b[39m=\u001b[0m\u001b[3;92mTrue\u001b[0m\u001b[39m, \u001b[0m\u001b[33mkey\u001b[0m\u001b[39m=\u001b[0m\u001b[32m'nbl_sdatas/NBL-3-R10C12.zarr'\u001b[0m\u001b[39m, \u001b[0m\u001b[33msuffix\u001b[0m\u001b[39m=\u001b[0m\u001b[32m'.zarr'\u001b[0m\u001b[39m, \u001b[0m\u001b[33mkind\u001b[0m\u001b[39m=\u001b[0m\u001b[32m'dataset'\u001b[0m\u001b[39m, \u001b[0m\u001b[33motype\u001b[0m\u001b[39m=\u001b[0m\u001b[32m'SpatialData'\u001b[0m\u001b[39m, \u001b[0m\u001b[33msize\u001b[0m\u001b[39m=\u001b[0m\u001b[1;36m83746022\u001b[0m\u001b[39m, \u001b[0m\u001b[33mhash\u001b[0m\u001b[39m=\u001b[0m\u001b[32m'sEooK8F1OPKt8NN4TWr62A'\u001b[0m\u001b[39m, \u001b[0m\u001b[33mn_files\u001b[0m\u001b[39m=\u001b[0m\u001b[1;36m64\u001b[0m\u001b[39m, \u001b[0m\u001b[33mspace_id\u001b[0m\u001b[39m=\u001b[0m\u001b[1;36m1\u001b[0m\u001b[39m, \u001b[0m\u001b[33mstorage_id\u001b[0m\u001b[39m=\u001b[0m\u001b[1;36m1\u001b[0m\u001b[39m, \u001b[0m\u001b[33mrun_id\u001b[0m\u001b[39m=\u001b[0m\u001b[1;36m3\u001b[0m\u001b[39m, \u001b[0m\u001b[33mcreated_by_id\u001b[0m\u001b[39m=\u001b[0m\u001b[1;36m1\u001b[0m\u001b[39m, \u001b[0m\u001b[33mcreated_at\u001b[0m\u001b[39m=\u001b[0m\u001b[1;36m2025\u001b[0m\u001b[39m-\u001b[0m\u001b[1;36m05\u001b[0m\u001b[39m-\u001b[0m\u001b[1;36m03\u001b[0m\u001b[39m \u001b[0m\u001b[1;92m19:48:12\u001b[0m\u001b[39m UTC\u001b[0m\u001b[1;39m)\u001b[0m\u001b[39m, \u001b[0m\u001b[1;35mArtifact\u001b[0m\u001b[1;39m(\u001b[0m\u001b[33muid\u001b[0m\u001b[39m=\u001b[0m\u001b[32m'F5aIb7C2Ar3O6RKk0000'\u001b[0m\u001b[39m, \u001b[0m\u001b[33mis_latest\u001b[0m\u001b[39m=\u001b[0m\u001b[3;92mTrue\u001b[0m\u001b[39m, \u001b[0m\u001b[33mkey\u001b[0m\u001b[39m=\u001b[0m\u001b[32m'nbl_sdatas/NBL-4-R12C10.zarr'\u001b[0m\u001b[39m, \u001b[0m\u001b[33msuffix\u001b[0m\u001b[39m=\u001b[0m\u001b[32m'.zarr'\u001b[0m\u001b[39m, \u001b[0m\u001b[33mkind\u001b[0m\u001b[39m=\u001b[0m\u001b[32m'dataset'\u001b[0m\u001b[39m, \u001b[0m\u001b[33motype\u001b[0m\u001b[39m=\u001b[0m\u001b[32m'SpatialData'\u001b[0m\u001b[39m, \u001b[0m\u001b[33msize\u001b[0m\u001b[39m=\u001b[0m\u001b[1;36m67641665\u001b[0m\u001b[39m, \u001b[0m\u001b[33mhash\u001b[0m\u001b[39m=\u001b[0m\u001b[32m'W0D3Mzk96eYbkFHkip7wvA'\u001b[0m\u001b[39m, \u001b[0m\u001b[33mn_files\u001b[0m\u001b[39m=\u001b[0m\u001b[1;36m64\u001b[0m\u001b[39m, \u001b[0m\u001b[33mspace_id\u001b[0m\u001b[39m=\u001b[0m\u001b[1;36m1\u001b[0m\u001b[39m, \u001b[0m\u001b[33mstorage_id\u001b[0m\u001b[39m=\u001b[0m\u001b[1;36m1\u001b[0m\u001b[39m, \u001b[0m\u001b[33mrun_id\u001b[0m\u001b[39m=\u001b[0m\u001b[1;36m3\u001b[0m\u001b[39m, \u001b[0m\u001b[33mcreated_by_id\u001b[0m\u001b[39m=\u001b[0m\u001b[1;36m1\u001b[0m\u001b[39m, \u001b[0m\u001b[33mcreated_at\u001b[0m\u001b[39m=\u001b[0m\u001b[1;36m2025\u001b[0m\u001b[39m-\u001b[0m\u001b[1;36m05\u001b[0m\u001b[39m-\u001b[0m\u001b[1;36m03\u001b[0m\u001b[39m \u001b[0m\u001b[1;92m19:48:12\u001b[0m\u001b[39m UTC\u001b[0m\u001b[1;39m)\u001b[0m\u001b[39m, \u001b[0m\u001b[1;35mArtifact\u001b[0m\u001b[1;39m(\u001b[0m\u001b[33muid\u001b[0m\u001b[39m=\u001b[0m\u001b[32m'cY29HQDKerEEIvn90000'\u001b[0m\u001b[39m, \u001b[0m\u001b[33mis_latest\u001b[0m\u001b[39m=\u001b[0m\u001b[3;92mTrue\u001b[0m\u001b[39m, \u001b[0m\u001b[33mkey\u001b[0m\u001b[39m=\u001b[0m\u001b[32m'nbl_sdatas/NBL-4-R4C8.zarr'\u001b[0m\u001b[39m, \u001b[0m\u001b[33msuffix\u001b[0m\u001b[39m=\u001b[0m\u001b[32m'.zarr'\u001b[0m\u001b[39m, \u001b[0m\u001b[33mkind\u001b[0m\u001b[39m=\u001b[0m\u001b[32m'dataset'\u001b[0m\u001b[39m, \u001b[0m\u001b[33motype\u001b[0m\u001b[39m=\u001b[0m\u001b[32m'SpatialData'\u001b[0m\u001b[39m, \u001b[0m\u001b[33msize\u001b[0m\u001b[39m=\u001b[0m\u001b[1;36m148209508\u001b[0m\u001b[39m, \u001b[0m\u001b[33mhash\u001b[0m\u001b[39m=\u001b[0m\u001b[32m'Xn7Lza37Vy49XPIhQD17wQ'\u001b[0m\u001b[39m, \u001b[0m\u001b[33mn_files\u001b[0m\u001b[39m=\u001b[0m\u001b[1;36m64\u001b[0m\u001b[39m, \u001b[0m\u001b[33mspace_id\u001b[0m\u001b[39m=\u001b[0m\u001b[1;36m1\u001b[0m\u001b[39m, \u001b[0m\u001b[33mstorage_id\u001b[0m\u001b[39m=\u001b[0m\u001b[1;36m1\u001b[0m\u001b[39m, \u001b[0m\u001b[33mrun_id\u001b[0m\u001b[39m=\u001b[0m\u001b[1;36m3\u001b[0m\u001b[39m, \u001b[0m\u001b[33mcreated_by_id\u001b[0m\u001b[39m=\u001b[0m\u001b[1;36m1\u001b[0m\u001b[39m, \u001b[0m\u001b[33mcreated_at\u001b[0m\u001b[39m=\u001b[0m\u001b[1;36m2025\u001b[0m\u001b[39m-\u001b[0m\u001b[1;36m05\u001b[0m\u001b[39m-\u001b[0m\u001b[1;36m03\u001b[0m\u001b[39m \u001b[0m\u001b[1;92m19:48:13\u001b[0m\u001b[39m UTC\u001b[0m\u001b[1;39m)\u001b[0m\u001b[39m, \u001b[0m\u001b[1;35mArtifact\u001b[0m\u001b[1;39m(\u001b[0m\u001b[33muid\u001b[0m\u001b[39m=\u001b[0m\u001b[32m'gCmPHdnpIvmAZmxl0000'\u001b[0m\u001b[39m, \u001b[0m\u001b[33mis_latest\u001b[0m\u001b[39m=\u001b[0m\u001b[3;92mTrue\u001b[0m\u001b[39m, \u001b[0m\u001b[33mkey\u001b[0m\u001b[39m=\u001b[0m\u001b[32m'nbl_sdatas/NBL-4-R3C8.zarr'\u001b[0m\u001b[39m, \u001b[0m\u001b[33msuffix\u001b[0m\u001b[39m=\u001b[0m\u001b[32m'.zarr'\u001b[0m\u001b[39m, \u001b[0m\u001b[33mkind\u001b[0m\u001b[39m=\u001b[0m\u001b[32m'dataset'\u001b[0m\u001b[39m, \u001b[0m\u001b[33motype\u001b[0m\u001b[39m=\u001b[0m\u001b[32m'SpatialData'\u001b[0m\u001b[39m, \u001b[0m\u001b[33msize\u001b[0m\u001b[39m=\u001b[0m\u001b[1;36m128156806\u001b[0m\u001b[39m, \u001b[0m\u001b[33mhash\u001b[0m\u001b[39m=\u001b[0m\u001b[32m'NvnQaR2VfCco5aP7sBbArQ'\u001b[0m\u001b[39m, \u001b[0m\u001b[33mn_files\u001b[0m\u001b[39m=\u001b[0m\u001b[1;36m64\u001b[0m\u001b[39m, \u001b[0m\u001b[33mspace_id\u001b[0m\u001b[39m=\u001b[0m\u001b[1;36m1\u001b[0m\u001b[39m, \u001b[0m\u001b[33mstorage_id\u001b[0m\u001b[39m=\u001b[0m\u001b[1;36m1\u001b[0m\u001b[39m, \u001b[0m\u001b[33mrun_id\u001b[0m\u001b[39m=\u001b[0m\u001b[1;36m3\u001b[0m\u001b[39m, \u001b[0m\u001b[33mcreated_by_id\u001b[0m\u001b[39m=\u001b[0m\u001b[1;36m1\u001b[0m\u001b[39m, \u001b[0m\u001b[33mcreated_at\u001b[0m\u001b[39m=\u001b[0m\u001b[1;36m2025\u001b[0m\u001b[39m-\u001b[0m\u001b[1;36m05\u001b[0m\u001b[39m-\u001b[0m\u001b[1;36m03\u001b[0m\u001b[39m \u001b[0m\u001b[1;92m19:48:14\u001b[0m\u001b[39m UTC\u001b[0m\u001b[1;39m)\u001b[0m\u001b[39m, \u001b[0m\u001b[1;35mArtifact\u001b[0m\u001b[1;39m(\u001b[0m\u001b[33muid\u001b[0m\u001b[39m=\u001b[0m\u001b[32m'PtMFiZE3bMMYqfUL0000'\u001b[0m\u001b[39m, \u001b[0m\u001b[33mis_latest\u001b[0m\u001b[39m=\u001b[0m\u001b[3;92mTrue\u001b[0m\u001b[39m, \u001b[0m\u001b[33mkey\u001b[0m\u001b[39m=\u001b[0m\u001b[32m'nbl_sdatas/NBL-5-R8C7.zarr'\u001b[0m\u001b[39m, \u001b[0m\u001b[33msuffix\u001b[0m\u001b[39m=\u001b[0m\u001b[32m'.zarr'\u001b[0m\u001b[39m, \u001b[0m\u001b[33mkind\u001b[0m\u001b[39m=\u001b[0m\u001b[32m'dataset'\u001b[0m\u001b[39m, \u001b[0m\u001b[33motype\u001b[0m\u001b[39m=\u001b[0m\u001b[32m'SpatialData'\u001b[0m\u001b[39m, \u001b[0m\u001b[33msize\u001b[0m\u001b[39m=\u001b[0m\u001b[1;36m162698993\u001b[0m\u001b[39m, \u001b[0m\u001b[33mhash\u001b[0m\u001b[39m=\u001b[0m\u001b[32m'51lqM-YhdGQkKWyQufScgw'\u001b[0m\u001b[39m, \u001b[0m\u001b[33mn_files\u001b[0m\u001b[39m=\u001b[0m\u001b[1;36m64\u001b[0m\u001b[39m, \u001b[0m\u001b[33mspace_id\u001b[0m\u001b[39m=\u001b[0m\u001b[1;36m1\u001b[0m\u001b[39m, \u001b[0m\u001b[33mstorage_id\u001b[0m\u001b[39m=\u001b[0m\u001b[1;36m1\u001b[0m\u001b[39m, \u001b[0m\u001b[33mrun_id\u001b[0m\u001b[39m=\u001b[0m\u001b[1;36m3\u001b[0m\u001b[39m, \u001b[0m\u001b[33mcreated_by_id\u001b[0m\u001b[39m=\u001b[0m\u001b[1;36m1\u001b[0m\u001b[39m, \u001b[0m\u001b[33mcreated_at\u001b[0m\u001b[39m=\u001b[0m\u001b[1;36m2025\u001b[0m\u001b[39m-\u001b[0m\u001b[1;36m05\u001b[0m\u001b[39m-\u001b[0m\u001b[1;36m03\u001b[0m\u001b[39m \u001b[0m\u001b[1;92m19:48:15\u001b[0m\u001b[39m UTC\u001b[0m\u001b[1;39m)\u001b[0m\u001b[39m, \u001b[0m\u001b[1;35mArtifact\u001b[0m\u001b[1;39m(\u001b[0m\u001b[33muid\u001b[0m\u001b[39m=\u001b[0m\u001b[32m'CJCd1zLiRWqTmg520000'\u001b[0m\u001b[39m, \u001b[0m\u001b[33mis_latest\u001b[0m\u001b[39m=\u001b[0m\u001b[3;92mTrue\u001b[0m\u001b[39m, \u001b[0m\u001b[33mkey\u001b[0m\u001b[39m=\u001b[0m\u001b[32m'nbl_sdatas/NBL-5-R9C7.zarr'\u001b[0m\u001b[39m, \u001b[0m\u001b[33msuffix\u001b[0m\u001b[39m=\u001b[0m\u001b[32m'.zarr'\u001b[0m\u001b[39m, \u001b[0m\u001b[33mkind\u001b[0m\u001b[39m=\u001b[0m\u001b[32m'dataset'\u001b[0m\u001b[39m, \u001b[0m\u001b[33motype\u001b[0m\u001b[39m=\u001b[0m\u001b[32m'SpatialData'\u001b[0m\u001b[39m, \u001b[0m\u001b[33msize\u001b[0m\u001b[39m=\u001b[0m\u001b[1;36m98353327\u001b[0m\u001b[39m, \u001b[0m\u001b[33mhash\u001b[0m\u001b[39m=\u001b[0m\u001b[32m'7DHeg_luiWqGyZIlQnL4Ow'\u001b[0m\u001b[39m, \u001b[0m\u001b[33mn_files\u001b[0m\u001b[39m=\u001b[0m\u001b[1;36m64\u001b[0m\u001b[39m, \u001b[0m\u001b[33mspace_id\u001b[0m\u001b[39m=\u001b[0m\u001b[1;36m1\u001b[0m\u001b[39m, \u001b[0m\u001b[33mstorage_id\u001b[0m\u001b[39m=\u001b[0m\u001b[1;36m1\u001b[0m\u001b[39m, \u001b[0m\u001b[33mrun_id\u001b[0m\u001b[39m=\u001b[0m\u001b[1;36m3\u001b[0m\u001b[39m, \u001b[0m\u001b[33mcreated_by_id\u001b[0m\u001b[39m=\u001b[0m\u001b[1;36m1\u001b[0m\u001b[39m, \u001b[0m\u001b[33mcreated_at\u001b[0m\u001b[39m=\u001b[0m\u001b[1;36m2025\u001b[0m\u001b[39m-\u001b[0m\u001b[1;36m05\u001b[0m\u001b[39m-\u001b[0m\u001b[1;36m03\u001b[0m\u001b[39m \u001b[0m\u001b[1;92m19:48:15\u001b[0m\u001b[39m UTC\u001b[0m\u001b[1;39m)\u001b[0m\u001b[39m, \u001b[0m\u001b[1;35mArtifact\u001b[0m\u001b[1;39m(\u001b[0m\u001b[33muid\u001b[0m\u001b[39m=\u001b[0m\u001b[32m'nZlIxDwNN7zN7C5d0000'\u001b[0m\u001b[39m, \u001b[0m\u001b[33mis_latest\u001b[0m\u001b[39m=\u001b[0m\u001b[3;92mTrue\u001b[0m\u001b[39m, \u001b[0m\u001b[33mkey\u001b[0m\u001b[39m=\u001b[0m\u001b[32m'nbl_sdatas/NBL-6-R4C4.zarr'\u001b[0m\u001b[39m, \u001b[0m\u001b[33msuffix\u001b[0m\u001b[39m=\u001b[0m\u001b[32m'.zarr'\u001b[0m\u001b[39m, \u001b[0m\u001b[33mkind\u001b[0m\u001b[39m=\u001b[0m\u001b[32m'dataset'\u001b[0m\u001b[39m, \u001b[0m\u001b[33motype\u001b[0m\u001b[39m=\u001b[0m\u001b[32m'SpatialData'\u001b[0m\u001b[39m, \u001b[0m\u001b[33msize\u001b[0m\u001b[39m=\u001b[0m\u001b[1;36m86158907\u001b[0m\u001b[39m, \u001b[0m\u001b[33mhash\u001b[0m\u001b[39m=\u001b[0m\u001b[32m'rTrzMxxlX18MfvJgrf9UJA'\u001b[0m\u001b[39m, \u001b[0m\u001b[33mn_files\u001b[0m\u001b[39m=\u001b[0m\u001b[1;36m64\u001b[0m\u001b[39m, \u001b[0m\u001b[33mspace_id\u001b[0m\u001b[39m=\u001b[0m\u001b[1;36m1\u001b[0m\u001b[39m, \u001b[0m\u001b[33mstorage_id\u001b[0m\u001b[39m=\u001b[0m\u001b[1;36m1\u001b[0m\u001b[39m, \u001b[0m\u001b[33mrun_id\u001b[0m\u001b[39m=\u001b[0m\u001b[1;36m3\u001b[0m\u001b[39m, \u001b[0m\u001b[33mcreated_by_id\u001b[0m\u001b[39m=\u001b[0m\u001b[1;36m1\u001b[0m\u001b[39m, \u001b[0m\u001b[33mcreated_at\u001b[0m\u001b[39m=\u001b[0m\u001b[1;36m2025\u001b[0m\u001b[39m-\u001b[0m\u001b[1;36m05\u001b[0m\u001b[39m-\u001b[0m\u001b[1;36m03\u001b[0m\u001b[39m \u001b[0m\u001b[1;92m19:48:16\u001b[0m\u001b[39m UTC\u001b[0m\u001b[1;39m)\u001b[0m\u001b[39m, \u001b[0m\u001b[1;35mArtifact\u001b[0m\u001b[1;39m(\u001b[0m\u001b[33muid\u001b[0m\u001b[39m=\u001b[0m\u001b[32m'AXsPMjRouKtUU1lj0000'\u001b[0m\u001b[39m, \u001b[0m\u001b[33mis_latest\u001b[0m\u001b[39m=\u001b[0m\u001b[3;92mTrue\u001b[0m\u001b[39m, \u001b[0m\u001b[33mkey\u001b[0m\u001b[39m=\u001b[0m\u001b[32m'nbl_sdatas/NBL-6-R9C4.zarr'\u001b[0m\u001b[39m, \u001b[0m\u001b[33msuffix\u001b[0m\u001b[39m=\u001b[0m\u001b[32m'.zarr'\u001b[0m\u001b[39m, \u001b[0m\u001b[33mkind\u001b[0m\u001b[39m=\u001b[0m\u001b[32m'dataset'\u001b[0m\u001b[39m, \u001b[0m\u001b[33motype\u001b[0m\u001b[39m=\u001b[0m\u001b[32m'SpatialData'\u001b[0m\u001b[39m, \u001b[0m\u001b[33msize\u001b[0m\u001b[39m=\u001b[0m\u001b[1;36m207272450\u001b[0m\u001b[39m, \u001b[0m\u001b[33mhash\u001b[0m\u001b[39m=\u001b[0m\u001b[32m'czOQfuTDF-R8PGrz2AcI_w'\u001b[0m\u001b[39m, \u001b[0m\u001b[33mn_files\u001b[0m\u001b[39m=\u001b[0m\u001b[1;36m64\u001b[0m\u001b[39m, \u001b[0m\u001b[33mspace_id\u001b[0m\u001b[39m=\u001b[0m\u001b[1;36m1\u001b[0m\u001b[39m, \u001b[0m\u001b[33mstorage_id\u001b[0m\u001b[39m=\u001b[0m\u001b[1;36m1\u001b[0m\u001b[39m, \u001b[0m\u001b[33mrun_id\u001b[0m\u001b[39m=\u001b[0m\u001b[1;36m3\u001b[0m\u001b[39m, \u001b[0m\u001b[33mcreated_by_id\u001b[0m\u001b[39m=\u001b[0m\u001b[1;36m1\u001b[0m\u001b[39m, \u001b[0m\u001b[33mcreated_at\u001b[0m\u001b[39m=\u001b[0m\u001b[1;36m2025\u001b[0m\u001b[39m-\u001b[0m\u001b[1;36m05\u001b[0m\u001b[39m-\u001b[0m\u001b[1;36m03\u001b[0m\u001b[39m \u001b[0m\u001b[1;92m19:48:17\u001b[0m\u001b[39m UTC\u001b[0m\u001b[1;39m)\u001b[0m\u001b[39m, \u001b[0m\u001b[1;35mArtifact\u001b[0m\u001b[1;39m(\u001b[0m\u001b[33muid\u001b[0m\u001b[39m=\u001b[0m\u001b[32m'NblmxAQybWJmuIag0000'\u001b[0m\u001b[39m, \u001b[0m\u001b[33mis_latest\u001b[0m\u001b[39m=\u001b[0m\u001b[3;92mTrue\u001b[0m\u001b[39m, \u001b[0m\u001b[33mkey\u001b[0m\u001b[39m=\u001b[0m\u001b[32m'nbl_sdatas/NBL-6-R8C4.zarr'\u001b[0m\u001b[39m, \u001b[0m\u001b[33msuffix\u001b[0m\u001b[39m=\u001b[0m\u001b[32m'.zarr'\u001b[0m\u001b[39m, \u001b[0m\u001b[33mkind\u001b[0m\u001b[39m=\u001b[0m\u001b[32m'dataset'\u001b[0m\u001b[39m, \u001b[0m\u001b[33motype\u001b[0m\u001b[39m=\u001b[0m\u001b[32m'SpatialData'\u001b[0m\u001b[39m, \u001b[0m\u001b[33msize\u001b[0m\u001b[39m=\u001b[0m\u001b[1;36m216430207\u001b[0m\u001b[39m, \u001b[0m\u001b[33mhash\u001b[0m\u001b[39m=\u001b[0m\u001b[32m'KlsAPwjmyWBZ8NpPoU14nw'\u001b[0m\u001b[39m, \u001b[0m\u001b[33mn_files\u001b[0m\u001b[39m=\u001b[0m\u001b[1;36m64\u001b[0m\u001b[39m, \u001b[0m\u001b[33mspace_id\u001b[0m\u001b[39m=\u001b[0m\u001b[1;36m1\u001b[0m\u001b[39m, \u001b[0m\u001b[33mstorage_id\u001b[0m\u001b[39m=\u001b[0m\u001b[1;36m1\u001b[0m\u001b[39m, \u001b[0m\u001b[33mrun_id\u001b[0m\u001b[39m=\u001b[0m\u001b[1;36m3\u001b[0m\u001b[39m, \u001b[0m\u001b[33mcreated_by_id\u001b[0m\u001b[39m=\u001b[0m\u001b[1;36m1\u001b[0m\u001b[39m, \u001b[0m\u001b[33mcreated_at\u001b[0m\u001b[39m=\u001b[0m\u001b[1;36m2025\u001b[0m\u001b[39m-\u001b[0m\u001b[1;36m05\u001b[0m\u001b[39m-\u001b[0m\u001b[1;36m03\u001b[0m\u001b[39m \u001b[0m\u001b[1;92m19:48:18\u001b[0m\u001b[39m UTC\u001b[0m\u001b[1;39m)\u001b[0m\u001b[39m, \u001b[0m\u001b[32m'...\u001b[0m\u001b[32m(\u001b[0m\u001b[32mremaining elements truncated\u001b[0m\u001b[32m)\u001b[0m\u001b[32m...'\u001b[0m\u001b[1;39m]\u001b[0m\u001b[1m>\u001b[0m"
      ]
     },
     "execution_count": 47,
     "metadata": {},
     "output_type": "execute_result"
    }
   ],
   "source": [
    "ln.Artifact.filter(ln.Q(key__contains=\"nbl_sdatas\"))"
   ]
  },
  {
   "cell_type": "code",
   "execution_count": 55,
   "metadata": {},
   "outputs": [
    {
     "ename": "FieldValidationError",
     "evalue": "['key'] are required.",
     "output_type": "error",
     "traceback": [
      "\u001b[31m---------------------------------------------------------------------------\u001b[39m",
      "\u001b[31mFieldValidationError\u001b[39m                      Traceback (most recent call last)",
      "\u001b[36mCell\u001b[39m\u001b[36m \u001b[39m\u001b[32mIn[55]\u001b[39m\u001b[32m, line 1\u001b[39m\n\u001b[32m----> \u001b[39m\u001b[32m1\u001b[39m \u001b[43mln\u001b[49m\u001b[43m.\u001b[49m\u001b[43mCollection\u001b[49m\u001b[43m(\u001b[49m\u001b[43mln\u001b[49m\u001b[43m.\u001b[49m\u001b[43mArtifact\u001b[49m\u001b[43m.\u001b[49m\u001b[43mfilter\u001b[49m\u001b[43m(\u001b[49m\u001b[43mln\u001b[49m\u001b[43m.\u001b[49m\u001b[43mQ\u001b[49m\u001b[43m(\u001b[49m\u001b[43mkey__contains\u001b[49m\u001b[43m=\u001b[49m\u001b[33;43m\"\u001b[39;49m\u001b[33;43mnbl_sdatas\u001b[39;49m\u001b[33;43m\"\u001b[39;49m\u001b[43m)\u001b[49m\u001b[43m)\u001b[49m\u001b[43m)\u001b[49m\n",
      "\u001b[36mFile \u001b[39m\u001b[32m~/Davis Lab/nbl/.venv/lib/python3.12/site-packages/lamindb/models/collection.py:299\u001b[39m, in \u001b[36mCollection.__init__\u001b[39m\u001b[34m(self, *args, **kwargs)\u001b[39m\n\u001b[32m    297\u001b[39m \u001b[38;5;28;01melse\u001b[39;00m:\n\u001b[32m    298\u001b[39m     _skip_validation = revises \u001b[38;5;129;01mis\u001b[39;00m \u001b[38;5;129;01mnot\u001b[39;00m \u001b[38;5;28;01mNone\u001b[39;00m \u001b[38;5;129;01mand\u001b[39;00m key == revises.key\n\u001b[32m--> \u001b[39m\u001b[32m299\u001b[39m     \u001b[38;5;28;43msuper\u001b[39;49m\u001b[43m(\u001b[49m\u001b[43m)\u001b[49m\u001b[43m.\u001b[49m\u001b[34;43m__init__\u001b[39;49m\u001b[43m(\u001b[49m\u001b[43m  \u001b[49m\u001b[38;5;66;43;03m# type: ignore\u001b[39;49;00m\n\u001b[32m    300\u001b[39m \u001b[43m        \u001b[49m\u001b[43muid\u001b[49m\u001b[43m=\u001b[49m\u001b[43mprovisional_uid\u001b[49m\u001b[43m,\u001b[49m\n\u001b[32m    301\u001b[39m \u001b[43m        \u001b[49m\u001b[43mkey\u001b[49m\u001b[43m=\u001b[49m\u001b[43mkey\u001b[49m\u001b[43m,\u001b[49m\n\u001b[32m    302\u001b[39m \u001b[43m        \u001b[49m\u001b[43mdescription\u001b[49m\u001b[43m=\u001b[49m\u001b[43mdescription\u001b[49m\u001b[43m,\u001b[49m\n\u001b[32m    303\u001b[39m \u001b[43m        \u001b[49m\u001b[43mreference\u001b[49m\u001b[43m=\u001b[49m\u001b[43mreference\u001b[49m\u001b[43m,\u001b[49m\n\u001b[32m    304\u001b[39m \u001b[43m        \u001b[49m\u001b[43mreference_type\u001b[49m\u001b[43m=\u001b[49m\u001b[43mreference_type\u001b[49m\u001b[43m,\u001b[49m\n\u001b[32m    305\u001b[39m \u001b[43m        \u001b[49m\u001b[43mmeta_artifact\u001b[49m\u001b[43m=\u001b[49m\u001b[43mmeta_artifact\u001b[49m\u001b[43m,\u001b[49m\n\u001b[32m    306\u001b[39m \u001b[43m        \u001b[49m\u001b[38;5;28;43mhash\u001b[39;49m\u001b[43m=\u001b[49m\u001b[38;5;28;43mhash\u001b[39;49m\u001b[43m,\u001b[49m\n\u001b[32m    307\u001b[39m \u001b[43m        \u001b[49m\u001b[43mrun\u001b[49m\u001b[43m=\u001b[49m\u001b[43mrun\u001b[49m\u001b[43m,\u001b[49m\n\u001b[32m    308\u001b[39m \u001b[43m        \u001b[49m\u001b[43mversion\u001b[49m\u001b[43m=\u001b[49m\u001b[43mversion\u001b[49m\u001b[43m,\u001b[49m\n\u001b[32m    309\u001b[39m \u001b[43m        \u001b[49m\u001b[43m_branch_code\u001b[49m\u001b[43m=\u001b[49m\u001b[43m_branch_code\u001b[49m\u001b[43m,\u001b[49m\n\u001b[32m    310\u001b[39m \u001b[43m        \u001b[49m\u001b[43mrevises\u001b[49m\u001b[43m=\u001b[49m\u001b[43mrevises\u001b[49m\u001b[43m,\u001b[49m\n\u001b[32m    311\u001b[39m \u001b[43m        \u001b[49m\u001b[43m_skip_validation\u001b[49m\u001b[43m=\u001b[49m\u001b[43m_skip_validation\u001b[49m\u001b[43m,\u001b[49m\n\u001b[32m    312\u001b[39m \u001b[43m    \u001b[49m\u001b[43m)\u001b[49m\n\u001b[32m    313\u001b[39m \u001b[38;5;28mself\u001b[39m._artifacts = artifacts\n\u001b[32m    314\u001b[39m \u001b[38;5;28;01mif\u001b[39;00m revises \u001b[38;5;129;01mis\u001b[39;00m \u001b[38;5;129;01mnot\u001b[39;00m \u001b[38;5;28;01mNone\u001b[39;00m:\n",
      "\u001b[36mFile \u001b[39m\u001b[32m~/Davis Lab/nbl/.venv/lib/python3.12/site-packages/lamindb/models/record.py:725\u001b[39m, in \u001b[36mBasicRecord.__init__\u001b[39m\u001b[34m(self, *args, **kwargs)\u001b[39m\n\u001b[32m    722\u001b[39m \u001b[38;5;28;01mfrom\u001b[39;00m\u001b[38;5;250m \u001b[39m\u001b[34;01m.\u001b[39;00m\u001b[34;01mschema\u001b[39;00m\u001b[38;5;250m \u001b[39m\u001b[38;5;28;01mimport\u001b[39;00m Schema\n\u001b[32m    723\u001b[39m \u001b[38;5;28;01mfrom\u001b[39;00m\u001b[38;5;250m \u001b[39m\u001b[34;01m.\u001b[39;00m\u001b[34;01mtransform\u001b[39;00m\u001b[38;5;250m \u001b[39m\u001b[38;5;28;01mimport\u001b[39;00m Transform\n\u001b[32m--> \u001b[39m\u001b[32m725\u001b[39m \u001b[43mvalidate_fields\u001b[49m\u001b[43m(\u001b[49m\u001b[38;5;28;43mself\u001b[39;49m\u001b[43m,\u001b[49m\u001b[43m \u001b[49m\u001b[43mkwargs\u001b[49m\u001b[43m)\u001b[49m\n\u001b[32m    727\u001b[39m \u001b[38;5;66;03m# do not search for names if an id is passed; this is important\u001b[39;00m\n\u001b[32m    728\u001b[39m \u001b[38;5;66;03m# e.g. when synching ids from the notebook store to lamindb\u001b[39;00m\n\u001b[32m    729\u001b[39m has_consciously_provided_uid = \u001b[38;5;28;01mFalse\u001b[39;00m\n",
      "\u001b[36mFile \u001b[39m\u001b[32m~/Davis Lab/nbl/.venv/lib/python3.12/site-packages/lamindb/models/record.py:264\u001b[39m, in \u001b[36mvalidate_fields\u001b[39m\u001b[34m(record, kwargs)\u001b[39m\n\u001b[32m    260\u001b[39m missing_fields = [\n\u001b[32m    261\u001b[39m     k \u001b[38;5;28;01mfor\u001b[39;00m k, v \u001b[38;5;129;01min\u001b[39;00m kwargs.items() \u001b[38;5;28;01mif\u001b[39;00m v \u001b[38;5;129;01mis\u001b[39;00m \u001b[38;5;28;01mNone\u001b[39;00m \u001b[38;5;129;01mand\u001b[39;00m k \u001b[38;5;129;01min\u001b[39;00m required_fields\n\u001b[32m    262\u001b[39m ]\n\u001b[32m    263\u001b[39m \u001b[38;5;28;01mif\u001b[39;00m missing_fields:\n\u001b[32m--> \u001b[39m\u001b[32m264\u001b[39m     \u001b[38;5;28;01mraise\u001b[39;00m FieldValidationError(\u001b[33mf\u001b[39m\u001b[33m\"\u001b[39m\u001b[38;5;132;01m{\u001b[39;00mmissing_fields\u001b[38;5;132;01m}\u001b[39;00m\u001b[33m are required.\u001b[39m\u001b[33m\"\u001b[39m)\n\u001b[32m    265\u001b[39m \u001b[38;5;66;03m# ensure the exact length of the internal uid for core entities\u001b[39;00m\n\u001b[32m    266\u001b[39m \u001b[38;5;28;01mif\u001b[39;00m \u001b[33m\"\u001b[39m\u001b[33muid\u001b[39m\u001b[33m\"\u001b[39m \u001b[38;5;129;01min\u001b[39;00m kwargs \u001b[38;5;129;01mand\u001b[39;00m record.\u001b[34m__class__\u001b[39m \u001b[38;5;129;01min\u001b[39;00m {\n\u001b[32m    267\u001b[39m     Artifact,\n\u001b[32m    268\u001b[39m     Collection,\n\u001b[32m   (...)\u001b[39m\u001b[32m    274\u001b[39m     Param,\n\u001b[32m    275\u001b[39m }:\n",
      "\u001b[31mFieldValidationError\u001b[39m: ['key'] are required."
     ]
    }
   ],
   "source": [
    "ln.Collection(ln.Artifact.filter(ln.Q(key__contains=\"nbl_sdatas\")))"
   ]
  },
  {
   "cell_type": "code",
   "execution_count": 60,
   "metadata": {},
   "outputs": [
    {
     "data": {
      "text/html": [
       "<pre style=\"white-space:pre;overflow-x:auto;line-height:normal;font-family:Menlo,'DejaVu Sans Mono',consolas,'Courier New',monospace\"></pre>\n"
      ],
      "text/plain": []
     },
     "metadata": {},
     "output_type": "display_data"
    },
    {
     "data": {
      "text/plain": [
       "\u001b[1;35mCollection\u001b[0m\u001b[1m(\u001b[0m\u001b[33muid\u001b[0m=\u001b[32m'wsvEs3A9IwuleT2J0000'\u001b[0m, \u001b[33mis_latest\u001b[0m=\u001b[3;92mTrue\u001b[0m, \u001b[33mkey\u001b[0m=\u001b[32m'nbl fovs'\u001b[0m, \u001b[33mhash\u001b[0m=\u001b[32m'5g9CmyIyoXquM5TCKik6Kw'\u001b[0m, \u001b[33mspace_id\u001b[0m=\u001b[1;36m1\u001b[0m, \u001b[33mcreated_by_id\u001b[0m=\u001b[1;36m1\u001b[0m, \u001b[33mrun_id\u001b[0m=\u001b[1;36m3\u001b[0m, \u001b[33mcreated_at\u001b[0m=\u001b[1m<\u001b[0m\u001b[1;95mdjango.db.models.expressions.DatabaseDefault\u001b[0m\u001b[39m object at \u001b[0m\u001b[1;36m0x3695ef290\u001b[0m\u001b[1m>\u001b[0m\u001b[1m)\u001b[0m"
      ]
     },
     "execution_count": 60,
     "metadata": {},
     "output_type": "execute_result"
    }
   ],
   "source": [
    "ln.Collection(artifacts=ln.Artifact.filter(ln.Q(key__contains=\"nbl_sdatas\")).latest_version(), key=\"nbl fovs\")"
   ]
  },
  {
   "cell_type": "code",
   "execution_count": null,
   "metadata": {},
   "outputs": [],
   "source": []
  }
 ],
 "metadata": {
  "kernelspec": {
   "display_name": ".venv",
   "language": "python",
   "name": "python3"
  },
  "language_info": {
   "codemirror_mode": {
    "name": "ipython",
    "version": 3
   },
   "file_extension": ".py",
   "mimetype": "text/x-python",
   "name": "python",
   "nbconvert_exporter": "python",
   "pygments_lexer": "ipython3",
   "version": "3.12.5"
  }
 },
 "nbformat": 4,
 "nbformat_minor": 2
}
