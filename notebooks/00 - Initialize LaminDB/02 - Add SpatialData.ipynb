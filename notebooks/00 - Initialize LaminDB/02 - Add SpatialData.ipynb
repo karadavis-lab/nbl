{
 "cells": [
  {
   "cell_type": "markdown",
   "metadata": {},
   "source": [
    "# Add SpatialData"
   ]
  },
  {
   "cell_type": "markdown",
   "metadata": {},
   "source": [
    "- Convert the cohort of fovs and labels into several spatialdata objets, one `spatialdata` object per FOV.\n",
    "- Add metadata to the `spatialdata` objects and save them to LaminDB as artifacts."
   ]
  },
  {
   "cell_type": "markdown",
   "metadata": {},
   "source": [
    "## Setup\n"
   ]
  },
  {
   "cell_type": "code",
   "execution_count": null,
   "metadata": {},
   "outputs": [],
   "source": [
    "import bionty as bt\n",
    "import lamindb as ln\n",
    "from distributed import Client, LocalCluster\n",
    "from upath import UPath\n",
    "\n",
    "import nbl\n",
    "\n",
    "cluster = LocalCluster(n_workers=10)\n",
    "client = Client(cluster)"
   ]
  },
  {
   "cell_type": "code",
   "execution_count": null,
   "metadata": {},
   "outputs": [],
   "source": [
    "client"
   ]
  },
  {
   "cell_type": "code",
   "execution_count": null,
   "metadata": {},
   "outputs": [],
   "source": [
    "ln.settings.sync_git_repo = \"https://github.com/karadavis-lab/nbl.git\""
   ]
  },
  {
   "cell_type": "code",
   "execution_count": null,
   "metadata": {},
   "outputs": [],
   "source": [
    "ln.track(project=\"Neuroblastoma\")"
   ]
  },
  {
   "cell_type": "code",
   "execution_count": null,
   "metadata": {},
   "outputs": [],
   "source": [
    "bt.settings.organism = \"human\""
   ]
  },
  {
   "cell_type": "code",
   "execution_count": null,
   "metadata": {},
   "outputs": [],
   "source": [
    "raw_data_dir = UPath(\"../../data/raw/nbl_cohort\")\n",
    "\n",
    "fov_dir = raw_data_dir / \"images\"\n",
    "label_dir = raw_data_dir / \"segmentation\" / \"labels\""
   ]
  },
  {
   "cell_type": "code",
   "execution_count": null,
   "metadata": {},
   "outputs": [],
   "source": [
    "hu_sdatas = nbl.io.convert_cohort(\n",
    "    fov_dir=fov_dir,\n",
    "    label_dir=label_dir,\n",
    "    filter_fovs=r\"Hu-*\",\n",
    "    return_collection=False,\n",
    ")"
   ]
  },
  {
   "cell_type": "code",
   "execution_count": null,
   "metadata": {},
   "outputs": [],
   "source": [
    "nbl_sdatas = nbl.io.convert_cohort(\n",
    "    fov_dir=fov_dir,\n",
    "    label_dir=label_dir,\n",
    "    filter_fovs=r\"NBL-*\",\n",
    "    return_collection=False,\n",
    ")"
   ]
  },
  {
   "cell_type": "code",
   "execution_count": null,
   "metadata": {},
   "outputs": [],
   "source": [
    "nbl_sdata = nbl_sdatas[\"NBL-1-R5C8\"]\n",
    "\n",
    "# ln.Artifact.from_spatialdata(hu_sdata, key=\"control/Hu-Adrenal-Medulla-R5C12.zarr\")"
   ]
  },
  {
   "cell_type": "code",
   "execution_count": null,
   "metadata": {},
   "outputs": [],
   "source": [
    "clinical_data = ln.Artifact.filter(ln.Q(key__contains=\"clinical_data\")).one().load()"
   ]
  },
  {
   "cell_type": "code",
   "execution_count": null,
   "metadata": {},
   "outputs": [],
   "source": [
    "nbl_a = ln.Artifact.from_spatialdata(nbl_sdata, key=\"NBL-1-R5C8.zarr\")"
   ]
  },
  {
   "cell_type": "code",
   "execution_count": null,
   "metadata": {},
   "outputs": [],
   "source": [
    "clinical_data[clinical_data[\"FOV\"] == \"NBL-1-R5C8\"]"
   ]
  },
  {
   "cell_type": "code",
   "execution_count": null,
   "metadata": {},
   "outputs": [],
   "source": [
    "ln.curators.SpatialDataCurator"
   ]
  },
  {
   "cell_type": "code",
   "execution_count": null,
   "metadata": {},
   "outputs": [],
   "source": [
    "for _, fov_row in clinical_data.iterrows():\n",
    "    # fov = fov_row[\"FOV\"]\n",
    "    fov_name = fov_row[\"FOV\"]\n",
    "    fov_sdata = nbl_sdatas[fov_name]\n",
    "\n",
    "    fov_sdata_artifact = ln.Artifact.from_spatialdata(fov_sdata, key=f\"nbl_sdatas/{fov_name}.zarr\")\n",
    "    fov_sdata_artifact.save()\n",
    "\n",
    "    for f in (features := ln.Feature.lookup()):\n",
    "        match f:\n",
    "            case ln.Feature():\n",
    "                feature_name = f.name\n",
    "            case _:\n",
    "                continue\n",
    "        feature_value = fov_row[feature_name]\n",
    "        feature = ln.Feature.filter(ln.Q(name=feature_name)).one()\n",
    "        fov_sdata_artifact.labels.add(records=ln.ULabel.filter(ln.Q(name=feature_value)), feature=feature)\n",
    "\n",
    "    # nbl_a.labels.add(records = ln.ULabel(name=feature_name, value=feature_value), feature=f)"
   ]
  },
  {
   "cell_type": "code",
   "execution_count": null,
   "metadata": {},
   "outputs": [],
   "source": [
    "ln.Artifact.filter(ln.Q(key__contains=\"nbl_sdatas/NBL-7-R13C12.zarr\")).latest_version().one().describe()"
   ]
  },
  {
   "cell_type": "code",
   "execution_count": null,
   "metadata": {},
   "outputs": [],
   "source": [
    "ln.ULabel.filter(ln.Q(name=feature_value))"
   ]
  },
  {
   "cell_type": "code",
   "execution_count": null,
   "metadata": {},
   "outputs": [],
   "source": [
    "ln.Artifact.filter(ln.Q(key__contains=\"nbl_sdatas\"))"
   ]
  },
  {
   "cell_type": "code",
   "execution_count": null,
   "metadata": {},
   "outputs": [],
   "source": [
    "ln.Collection(ln.Artifact.filter(ln.Q(key__contains=\"nbl_sdatas\")))"
   ]
  },
  {
   "cell_type": "code",
   "execution_count": null,
   "metadata": {},
   "outputs": [],
   "source": [
    "ln.Collection(artifacts=ln.Artifact.filter(ln.Q(key__contains=\"nbl_sdatas\")).latest_version(), key=\"nbl fovs\")"
   ]
  }
 ],
 "metadata": {
  "kernelspec": {
   "display_name": ".venv",
   "language": "python",
   "name": "python3"
  },
  "language_info": {
   "codemirror_mode": {
    "name": "ipython",
    "version": 3
   },
   "file_extension": ".py",
   "mimetype": "text/x-python",
   "name": "python",
   "nbconvert_exporter": "python",
   "pygments_lexer": "ipython3"
  }
 },
 "nbformat": 4,
 "nbformat_minor": 2
}
