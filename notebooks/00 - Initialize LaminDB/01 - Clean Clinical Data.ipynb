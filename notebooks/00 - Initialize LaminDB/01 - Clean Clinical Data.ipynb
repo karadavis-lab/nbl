{
 "cells": [
  {
   "cell_type": "markdown",
   "metadata": {},
   "source": [
    "# Clean Clinical Data"
   ]
  },
  {
   "cell_type": "markdown",
   "metadata": {},
   "source": [
    "Clean the clinical data spreadsheet by:\n",
    "- Standardizing ontologies\n",
    "- Fix spelling, categorical data, etc...\n",
    "- Adjust Features and Labels\n",
    "- Add to `LaminDB` as a parquet file"
   ]
  },
  {
   "cell_type": "markdown",
   "metadata": {},
   "source": [
    "## Setup"
   ]
  },
  {
   "cell_type": "code",
   "execution_count": null,
   "metadata": {},
   "outputs": [],
   "source": [
    "import re\n",
    "\n",
    "import bionty as bt\n",
    "import lamindb as ln\n",
    "import more_itertools as mit\n",
    "import natsort as ns\n",
    "import pandas as pd\n",
    "from upath import UPath"
   ]
  },
  {
   "cell_type": "code",
   "execution_count": null,
   "metadata": {},
   "outputs": [],
   "source": [
    "ln.settings.sync_git_repo = \"https://github.com/karadavis-lab/nbl.git\""
   ]
  },
  {
   "cell_type": "code",
   "execution_count": null,
   "metadata": {},
   "outputs": [],
   "source": [
    "ln.track(project=\"Neuroblastoma\")"
   ]
  },
  {
   "cell_type": "code",
   "execution_count": null,
   "metadata": {},
   "outputs": [],
   "source": [
    "bt.settings.organism = \"human\""
   ]
  },
  {
   "cell_type": "markdown",
   "metadata": {},
   "source": [
    "## Validate Clinical Data"
   ]
  },
  {
   "cell_type": "code",
   "execution_count": null,
   "metadata": {},
   "outputs": [],
   "source": [
    "raw_data_path = UPath(\"../../data/raw/\")\n",
    "clinical_data_path = raw_data_path / \"Clinical Data\" / \"FOVs_UIDv2.xlsx\"\n",
    "\n",
    "fov_dir = raw_data_path / \"nbl_cohort\" / \"images\"\n",
    "label_dir = raw_data_path / \"nbl_cohort\" / \"segmentation\" / \"labels\""
   ]
  },
  {
   "cell_type": "code",
   "execution_count": null,
   "metadata": {},
   "outputs": [],
   "source": [
    "clinical_data: pd.DataFrame = pd.read_excel(clinical_data_path)"
   ]
  },
  {
   "cell_type": "markdown",
   "metadata": {},
   "source": [
    "Standardize Field of View Names / IDs"
   ]
  },
  {
   "cell_type": "code",
   "execution_count": null,
   "metadata": {},
   "outputs": [],
   "source": [
    "all_fovs = ns.natsorted(fov_dir.glob(\"[!.]*/\"))\n",
    "control_pattern = re.compile(pattern=r\"Hu-*\")\n",
    "all_fov_names = [fov.name for fov in all_fovs]\n",
    "\n",
    "fov_names = list(filter(lambda f: not control_pattern.search(f), all_fov_names))"
   ]
  },
  {
   "cell_type": "code",
   "execution_count": null,
   "metadata": {},
   "outputs": [],
   "source": [
    "def convert_fov(row: pd.Series, fovs: list[str]):\n",
    "    \"\"\"Adjusts the name of the FOV.\n",
    "\n",
    "    Parameters\n",
    "    ----------\n",
    "    row : pd.DataFrame\n",
    "        The row of the clinical data.\n",
    "\n",
    "    Returns\n",
    "    -------\n",
    "    str\n",
    "        The full name of the FOV.\n",
    "    \"\"\"\n",
    "    for fov in fovs:\n",
    "        if row[\"fov\"] == fov.split(\"-\")[2]:\n",
    "            return fov\n",
    "    return None\n",
    "\n",
    "\n",
    "clinical_data[\"fov\"] = clinical_data.apply(convert_fov, fovs=fov_names, axis=1)"
   ]
  },
  {
   "cell_type": "markdown",
   "metadata": {},
   "source": [
    "Removing Misc Column Name / Values Whitespace"
   ]
  },
  {
   "cell_type": "code",
   "execution_count": null,
   "metadata": {},
   "outputs": [],
   "source": [
    "clinical_data.columns = clinical_data.columns.str.strip()"
   ]
  },
  {
   "cell_type": "markdown",
   "metadata": {},
   "source": [
    "Paried Sequence Cleaning"
   ]
  },
  {
   "cell_type": "code",
   "execution_count": null,
   "metadata": {},
   "outputs": [],
   "source": [
    "clinical_data[\"Paired sequence\"] = clinical_data[\"Paired sequence\"].map(lambda x: False if x == \"No\" else True)"
   ]
  },
  {
   "cell_type": "code",
   "execution_count": null,
   "metadata": {},
   "outputs": [],
   "source": [
    "tissues = bt.Tissue.public()\n",
    "ethnicitys = bt.Ethnicity.public()\n",
    "tissues_lookup = tissues.lookup()\n",
    "ethnicity_lookup = ethnicitys.lookup()"
   ]
  },
  {
   "cell_type": "code",
   "execution_count": null,
   "metadata": {},
   "outputs": [],
   "source": [
    "clinical_data = clinical_data.replace(\n",
    "    to_replace={\n",
    "        \"Classification of specimen\": {\n",
    "            \"Diagnosis\": \"Diagnosis\",\n",
    "            \"post-chemotherapy, local control surgery \": \"Post-Chemotherapy\",\n",
    "            \"Diagnosis \": \"Diagnosis\",\n",
    "            \"post-chemotherpy, local control surgery (mild paraspinal disease progression requiring laminectomy)\": \"Post-Chemotherapy\",\n",
    "            \"post-chemotherapy (local control surgery, 4 cycles of ANBL0531) \": \"Post-Chemotherapy\",\n",
    "            \"relapse (after 2 cycles of topo/cyclo)\": \"Relapse\",\n",
    "            \"Progressive disease (re-resection, s/p chemotherapy) \": \"Disease Progression\",\n",
    "            \"post-chemotherapy, local control surgery (s/p 4 cycles of induction chemo per ANBL0531) \": \"Post-Chemotherapy\",\n",
    "            \"post-chemotherapy (5 cycles ANBL0532) \": \"Post-Chemotherapy\",\n",
    "            \"Relapsed\": \"Relapse\",\n",
    "            \"CCHS, post-chemo therapy, local control surgery (7 cycles of ANBL0531, stable disease after 6 cycles and then 1 cycle of topo/cyclo) \": \"Post-Chemotherapy\",\n",
    "            \"relapse, brain metastases\": \"Relapse\",\n",
    "            \"post-chemotherapy, local control surgery (2nd)\": \"Post-Chemotherapy\",\n",
    "            \"post-chemotherapy, local control surgery (s/p 4 cycles of induction per ANBL0531) \": \"Post-Chemotherapy\",\n",
    "            \"post-chemotherapy, local control surgery (8 cyles of ANBL0531 therapy with minimal response)  \": \"Post-Chemotherapy\",\n",
    "            \"Diagnosis (after a period of observation) \": \"Diagnosis\",\n",
    "            \"disease progression after upfront surgery (posterior mediastinum)\": \"Disease Progression\",\n",
    "            \"post-chemotherapy, local control surgery\": \"Post-Chemotherapy\",\n",
    "        },\n",
    "        \"Sex\": {s: s.strip().lower().capitalize() for s in clinical_data[\"Sex\"].unique()},\n",
    "        \"Race\": {\n",
    "            \"Black\": ethnicity_lookup.african.name,\n",
    "            \"White\": ethnicity_lookup.european.name,\n",
    "            \"white\": ethnicity_lookup.european.name,\n",
    "            \"Other\": ethnicity_lookup.undefined_ancestry_population.name,\n",
    "            \"Arabic \": ethnicity_lookup.arab.name,\n",
    "            \"Asian \": ethnicity_lookup.asian.name,\n",
    "            \"other (egyptian)\": ethnicity_lookup.egyptian.name,\n",
    "            \"?black \": ethnicity_lookup.african.name,\n",
    "            \"white \": ethnicity_lookup.european.name,\n",
    "        },\n",
    "        \"Biopsy/surgery location\": {\n",
    "            \"abdominal mass\": tissues_lookup.abdominal_segment_element.name,\n",
    "            \"letfy adrenal mass\": tissues_lookup.left_adrenal_gland.name,\n",
    "            \"Right adrenal \": tissues_lookup.right_adrenal_gland.name,\n",
    "            \"Abdominal mass\": tissues_lookup.abdominal_segment_element.name,\n",
    "            \"Spinal/paraspinal \": tissues_lookup.paraspinal_region.name,\n",
    "            \"RP mass \": tissues_lookup.retroperitoneal_space.name,\n",
    "            \"abdominal mass/thoracic region mass excision\": tissues_lookup.thoracic_cavity_element.name,\n",
    "            \"abdominal mass/diagphramtic mass\": tissues_lookup.diaphragm.name,\n",
    "            \"left adrenal tumor\": tissues_lookup.left_adrenal_gland.name,\n",
    "            \"pelvic mass\": tissues_lookup.pelvic_region_element.name,\n",
    "            \"abdominal tumor resection \": tissues_lookup.abdominal_segment_element.name,\n",
    "            \"Retroperitoneal\": tissues_lookup.retroperitoneal_space.name,\n",
    "            \"Abdominal/Retroperitoneal\": tissues_lookup.retroperitoneal_space.name,\n",
    "            \"Pelvic mass, s/p 2 cycles of ANBL0531, limited response to chemo with tumor growth\": tissues_lookup.pelvic_region_element.name,\n",
    "            \"Paraspinal \": tissues_lookup.paraspinal_region.name,\n",
    "            \"paraspinal \": tissues_lookup.paraspinal_region.name,\n",
    "            \"Right Adrenal\": tissues_lookup.right_adrenal_gland.name,\n",
    "            \"Liver\": tissues_lookup.liver.name,\n",
    "            \"abdominal tumor\": tissues_lookup.abdominal_segment_element.name,\n",
    "            \"Abdominal tumor, lymph nodes\": tissues_lookup.abdominal_lymph_node.name,\n",
    "            \"Brain mets, relapse during maintenance GD2 antibody\": tissues_lookup.brain.name,\n",
    "            \"paraspinal mass\": tissues_lookup.paraspinal_region.name,\n",
    "            \"abdominal tumor resection\": tissues_lookup.abdominal_segment_element.name,\n",
    "            \"right adrenal mass\": tissues_lookup.right_adrenal_gland.name,\n",
    "            \"right adrenal gland resection \": tissues_lookup.right_adrenal_gland.name,\n",
    "            \"retroperitoneal mass\": tissues_lookup.retroperitoneal_space.name,\n",
    "            \"neck mass\": tissues_lookup.neck.name,\n",
    "            \"abdominal/paraspinal mass resection\": tissues_lookup.paraspinal_region.name,\n",
    "            \"right chect, posterior mediastinal \": tissues_lookup.posterior_mediastinum.name,\n",
    "            \"retroperitoneal\": tissues_lookup.retroperitoneal_space.name,\n",
    "            \"abdominal tumor resection after 4 cycles of ANBL0531 \": tissues_lookup.abdominal_segment_element.name,\n",
    "            \"right adrenal gland\": tissues_lookup.right_adrenal_gland.name,\n",
    "            \"right apical chest mass resection\": tissues_lookup.chest.name,\n",
    "            \"abdominal mass/liver nodule\": tissues_lookup.liver.name,\n",
    "            \"pelvic tumor\": tissues_lookup.pelvic_region_element.name,\n",
    "            \"right neck mass\": tissues_lookup.neck.name,\n",
    "            \"Abd mass\": tissues_lookup.abdominal_segment_element.name,\n",
    "            \"abdominal mass biopsy\": tissues_lookup.abdominal_segment_element.name,\n",
    "            \"right axilla\": tissues_lookup.axilla.name,\n",
    "            \"thoracic tumor\": tissues_lookup.thoracic_cavity_element.name,\n",
    "            \"left chest mass\": tissues_lookup.chest.name,\n",
    "            \"b/l adrenal masses\": tissues_lookup.adrenal_tissue.name,\n",
    "            \"adrenalectomy\": tissues_lookup.adrenal_tissue.name,\n",
    "            \"lefty adrenal mass\": tissues_lookup.left_adrenal_gland.name,\n",
    "        },\n",
    "        \"Risk\": {\n",
    "            \"Intermediate\": \"Intermediate\",\n",
    "            \"High\": \"High\",\n",
    "            \"Inrtermediate, mild disease progression\": \"Intermediate\",\n",
    "            \"intermediate\": \"Intermediate\",\n",
    "            \"High (relapsed)\": \"High\",\n",
    "            \"Intermediate \": \"Intermediate\",\n",
    "            \"Low\": \"Low\",\n",
    "            \"High \": \"High\",\n",
    "            \"Low (would be IR now?)\": \"Low\",\n",
    "            \"High (due to nodular ganglioneuroblastoma)\": \"High\",\n",
    "            \"Intermediate  \": \"Intermediate\",\n",
    "        },\n",
    "    },\n",
    ")"
   ]
  },
  {
   "cell_type": "code",
   "execution_count": null,
   "metadata": {},
   "outputs": [],
   "source": [
    "cols_to_cat_one = [\"Classification of specimen\", \"Risk\", \"Biopsy/surgery location\", \"Sex\", \"Race\"]\n",
    "clinical_data[cols_to_cat_one] = clinical_data[cols_to_cat_one].astype(\"category\")"
   ]
  },
  {
   "cell_type": "code",
   "execution_count": null,
   "metadata": {},
   "outputs": [],
   "source": [
    "u_vma_hva = \"Urine VMA/HVA (g/g Cr)\""
   ]
  },
  {
   "cell_type": "code",
   "execution_count": null,
   "metadata": {},
   "outputs": [],
   "source": [
    "clinical_data = clinical_data.replace(to_replace={u_vma_hva: {\"n/a \": pd.NA, \">227/>227\": \"227/227\"}})\n",
    "clinical_data = clinical_data.fillna({u_vma_hva: pd.NA})"
   ]
  },
  {
   "cell_type": "code",
   "execution_count": null,
   "metadata": {},
   "outputs": [],
   "source": [
    "vma_hva_df = (\n",
    "    clinical_data[u_vma_hva]\n",
    "    .str.split(\"/\", expand=True)\n",
    "    .rename(columns={0: \"VMA (g Cr)\", 1: \"HVA (g Cr)\"})\n",
    "    .apply(pd.to_numeric, errors=\"coerce\")\n",
    ")"
   ]
  },
  {
   "cell_type": "code",
   "execution_count": null,
   "metadata": {},
   "outputs": [],
   "source": [
    "clinical_data = clinical_data.drop(columns=[u_vma_hva])"
   ]
  },
  {
   "cell_type": "code",
   "execution_count": null,
   "metadata": {},
   "outputs": [],
   "source": [
    "hva_vma_days_from_biopsy = \"HVA/VMA days from biopsy\""
   ]
  },
  {
   "cell_type": "code",
   "execution_count": null,
   "metadata": {},
   "outputs": [],
   "source": [
    "clinical_data = clinical_data.fillna({hva_vma_days_from_biopsy: pd.NA})"
   ]
  },
  {
   "cell_type": "code",
   "execution_count": null,
   "metadata": {},
   "outputs": [],
   "source": [
    "for c in [\"17q gain\", \"11q loss/LOH\", \"7q gain\", \"1p loss/LOH\", \"ALK\"]:\n",
    "    clinical_data[c] = clinical_data[c].str.rstrip().str.lstrip().str.capitalize()"
   ]
  },
  {
   "cell_type": "code",
   "execution_count": null,
   "metadata": {},
   "outputs": [],
   "source": [
    "clinical_data = clinical_data.replace(\n",
    "    to_replace={\n",
    "        \"17q gain\": {\n",
    "            \"Yes  (wc, relative, 4n)\": \"Yes|WC|relative|4N\",\n",
    "            \"Yes  (relative, 5n)\": \"Yes|relative|5N\",\n",
    "            \"Yes , (relative, (5n)\": \"Yes|relative|5N\",\n",
    "            \"Yes, relative, 4n)\": \"Yes|relative|4N\",\n",
    "            \"Yes (wc, relative 5n)\": \"Yes|WC|relative|5N\",\n",
    "            \"Yes (wc, relative 4n)\": \"Yes|WC|relative|4N\",\n",
    "            \"Yes (relative wc, 4-5n)\": \"Yes|WC|relative|4N|5N\",\n",
    "            \"Yes (relative, wc, 6n)\": \"Yes|WC|relative|6N\",\n",
    "            \"Yes, 4n (relative)\": \"Yes|relative|4N\",\n",
    "            \"Yes, wc, relative, 4n)\": \"Yes|WC|relative|4N\",\n",
    "            \"Yes (6n)\": \"Yes|6N\",\n",
    "            \"Yes (wc, relative, 4n)\": \"Yes|WC|relative|4N\",\n",
    "            \"Yes (wc, relatve, 4n)\": \"Yes|WC|relative|4N\",\n",
    "            \"Yes (relative, 4n)\": \"Yes|relative|4N\",\n",
    "            \"Yes (wc relative gain)\": \"Yes|WC|relative|gain\",\n",
    "            \"Yes (wc, 4n)\": \"Yes|WC|4N\",\n",
    "            \"Yes 9wc, relative, 4n)\": \"Yes|WC|relative|4N\",\n",
    "            \"Yes (wc, releative, 4n)\": \"Yes|WC|relative|4N\",\n",
    "        },\n",
    "        \"7q gain\": {\n",
    "            \"No \": \"No\",\n",
    "            \"Yes \": \"Yes\",\n",
    "            \"Yes (wc)\": \"Yes|WC\",\n",
    "            \"yes (wc, relative, 4n)\": \"Yes|WC|relative|4N)\",\n",
    "            \"Yes\": \"Yes\",\n",
    "            \"Yes (relative, 6n)\": \"Yes|relative|6N\",\n",
    "            \"No\": \"No\",\n",
    "            \"Yes (wc, relagtive 5n)\": \"Yes|WC|relative|5N\",\n",
    "            \"Yes (relative, 4-5n)\": \"Yes|relative|4N|5N|\",\n",
    "            \"Yes (wc, relative, 4n)\": \"Yes|WC|relative|4N\",\n",
    "            \"Yes, wc, relative, 4n)\": \"Yes|WC|relative|4N\",\n",
    "            \"Yes (wc, 4n)\": \"Yes|WC|4N\",\n",
    "            \"Yes (relative, 4n)\": \"Yes|relative|4N\",\n",
    "            \"Yes 9wc, relative, 4Nn\": \"Yes|WC|relative|4N\",\n",
    "            \"Yes (wc, releative, 4n)\": \"Yes|WC|relative|4N\",\n",
    "            \"Yes (wc, relative, 4n) \": \"Yes|WC|relative|4N\",\n",
    "            \"Yes (wc relative gain)\": \"Yes|WC|relative|gain\",\n",
    "            \"Yes 9wc, relative, 4n)\": \"Yes|WC|relative|4N\",\n",
    "        },\n",
    "        \"1p loss/LOH\": {\n",
    "            \"No\": \"No\",\n",
    "            \"Yes (relative, 2n)\": \"Yes|relative|2N\",\n",
    "            \"Yes (relative, 2n, cnloh)\": \"Yes|relative|2N|cnLOH\",\n",
    "            \"Yes\": \"Yes\",\n",
    "            \"Yes (wc)\": \"Yes|WC\",\n",
    "            \"No?\": \"No\",\n",
    "        },\n",
    "        \"11q loss/LOH\": {\n",
    "            \"No\": \"No\",\n",
    "            \"Yes\": \"Yes\",\n",
    "            \"Yes, (cn neutral loh)\": \"Yes|neutral cnLOH\",\n",
    "            \"Yes (relative, 2n, cnloh)\": \"Yes|relative|2N|cnLOH\",\n",
    "            \"Yes (deletion)\": \"Yes|deletion\",\n",
    "            \"Yes (relative, 2n, wc, cn loh)\": \"Yes|relative|WC|2N|cnLOH\",\n",
    "            \"Yes (wc)\": \"Yes|WC\",\n",
    "            \"Yes (relative, wc, 2n)\": \"Yes|relative|WC|2N\",\n",
    "            \"Yes (wc, relative loss)\": \"Yes|relative|WC\",\n",
    "            \"Yes (cn neutral loh)\": \"Yes|neutral|cnLOH\",\n",
    "        },\n",
    "        \"ALK\": {\n",
    "            \"Wt\": \"WT\",\n",
    "            \"F1245l (somatic)\": \"F1245L|somatic\",\n",
    "            \"Wt (alk gain)\": \"WT|ALK gain\",\n",
    "            \"Wt (phox2b wt)\": \"WT|Phox2B WT\",\n",
    "            \"Wt/phox2b with a heterozygous polyalanine expansion (20/33).\": \"WT|Phox2B with a heterozygous polyalanine expansion (20/33)\",\n",
    "            \"N/a\": pd.NA,\n",
    "            \"Arg1275gln\": \"Arg1275Gln\",\n",
    "            \"Wt (diagnosis and this specimen)\": \"WT\",\n",
    "            \"wt\": \"WT\",\n",
    "            \"WT (PHOX2b WT)\": \"WT|Phox2B WT\",\n",
    "            \"Wt / phox2b wt\": \"WT|Phox2B WT\",\n",
    "            \"F1174l\": \"F1174L\",\n",
    "        },\n",
    "        \"Other mutations (source)\": {\n",
    "            \"none (FoundationOne)\": pd.NA,\n",
    "            \"NUDT15 (NM_018283.2), c.415C>T (p.Arg139Cys)\": \"NUDT15 (NM_018283.2)|c.415C>T (p.Arg139Cys)\",\n",
    "            \"BRAF Gly469Ala (CHOP NGS)\": \"BRAF Gly469Ala|CHOP NGS\",\n",
    "        },\n",
    "        \"Genomic studies done\": {\n",
    "            \"SNP array, ALK seq, MYCN FISH\": \"SNP array|ALK seq|MYCN FISH\",\n",
    "            \"SNP, ALK seq\": \"SNP array|ALK seq\",\n",
    "            \"SNP array, ALK seq\": \"SNP array|ALK seq\",\n",
    "            \"SNP, ALK/PHOX2B sequencing \": \"SNP array|ALK/PHOX2B sequencing\",\n",
    "            \"CHOP NGS, SNP array\": \"CHOP NGS|SNP array\",\n",
    "            \"CHOP NGS\": \"CHOP NGS\",\n",
    "            \"SNP array\": \"SNP array\",\n",
    "            \"SNP array, ALK seq (tumor and germline)\": \"SNP array|ALK seq (tumor and germline)\",\n",
    "            \"SNP array, ALK seq \": \"SNP array|ALK seq\",\n",
    "            \"SNP, ALK seq, Foundation one (no mutations) \": \"SNP array|ALK seq|Foundation one (no mutations)\",\n",
    "            \"SNP array (post chemo), ALK seq\": \"SNP array (post chemo)|ALK seq\",\n",
    "            \"SNP array, CHOP NGS\": \"SNP array|CHOP NGS\",\n",
    "            \"b/l SNP and CHOP NGS\": \"b/l SNP array|CHOP NGS\",\n",
    "        },\n",
    "    },\n",
    ")"
   ]
  },
  {
   "cell_type": "code",
   "execution_count": null,
   "metadata": {},
   "outputs": [],
   "source": [
    "cols_set_one = [\n",
    "    \"17q gain\",\n",
    "    \"11q loss/LOH\",\n",
    "    \"7q gain\",\n",
    "    \"1p loss/LOH\",\n",
    "    \"ALK\",\n",
    "    \"Other mutations (source)\",\n",
    "    \"Genomic studies done\",\n",
    "]\n",
    "\n",
    "clinical_data[cols_set_one] = clinical_data[cols_set_one].astype(\"category\")"
   ]
  },
  {
   "cell_type": "code",
   "execution_count": null,
   "metadata": {},
   "outputs": [],
   "source": [
    "for c in [\n",
    "    \"INSS stage\",\n",
    "    \"INRG stage\",\n",
    "    \"Ploidy value\",\n",
    "    \"MKI\",\n",
    "    \"Degree of differentiation\",\n",
    "    \"Histolgic classification - INPC\",\n",
    "]:\n",
    "    clinical_data[c] = clinical_data[c].str.rstrip().str.lstrip().str.capitalize()"
   ]
  },
  {
   "cell_type": "code",
   "execution_count": null,
   "metadata": {},
   "outputs": [],
   "source": [
    "clinical_data[\"Degree of differentiation\"] = clinical_data[\"Degree of differentiation\"].replace(\n",
    "    \"\\n|\\xa0\", \"\", regex=True\n",
    ")"
   ]
  },
  {
   "cell_type": "code",
   "execution_count": null,
   "metadata": {},
   "outputs": [],
   "source": [
    "clinical_data = clinical_data.rename(columns={\"Histolgic classification - INPC\": \"Histologic classification - INPC\"})"
   ]
  },
  {
   "cell_type": "code",
   "execution_count": null,
   "metadata": {},
   "outputs": [],
   "source": [
    "from typing import Any\n",
    "\n",
    "import rapidfuzz as rfuzz\n",
    "\n",
    "choices = [\"Poorly Differentiated\", \"Differentiating\", \"Undifferentiated\"]\n",
    "\n",
    "\n",
    "def map_rapidfuzz(text: Any):\n",
    "    \"\"\"Map a text to a choice using rapidfuzz.\n",
    "\n",
    "    Parameters\n",
    "    ----------\n",
    "    text\n",
    "        Text to map.\n",
    "\n",
    "    Returns\n",
    "    -------\n",
    "        The mapped choice.\n",
    "    \"\"\"\n",
    "    if not isinstance(text, str):\n",
    "        return None\n",
    "\n",
    "    result = rfuzz.process.extractOne(text, choices, scorer=rfuzz.fuzz.partial_ratio)\n",
    "\n",
    "    # result is a tuple: (choice, score, index) or None if choices are empty\n",
    "    c, s, i = result\n",
    "    if result and s > 80:  # Apply a confidence threshold (e.g., 80)\n",
    "        return c  # Return the best matching choice\n",
    "    else:\n",
    "        print(f\"Warning: Low rapidfuzz match score for: {text} -> {result}\")\n",
    "        return None"
   ]
  },
  {
   "cell_type": "code",
   "execution_count": null,
   "metadata": {},
   "outputs": [],
   "source": [
    "clinical_data[\"Degree of differentiation\"].apply(map_rapidfuzz)"
   ]
  },
  {
   "cell_type": "code",
   "execution_count": null,
   "metadata": {},
   "outputs": [],
   "source": [
    "clinical_data = clinical_data.replace(\n",
    "    to_replace={\n",
    "        \"INSS stage\": {\"4s\": \"4S\", \"2a\": \"2A\", \"2b\": \"2B\", \"2b??\": \"2B\"},\n",
    "        \"INRG stage\": {\n",
    "            \"M\": \"M\",\n",
    "            \"L2\": \"L2\",\n",
    "            \"Ms\": \"MS\",\n",
    "            \"M (from diagnosis)\": \"M\",\n",
    "            \"L1\": \"L1\",\n",
    "        },\n",
    "        \"Ploidy value\": {\n",
    "            \"Hyperdiplod (3-4n)\": \"Hyperdiploid|3N|4N\",\n",
    "            \"Diploid\": \"Diploid\",\n",
    "            \"Diploid (diagnosis)\": \"Diploid\",\n",
    "            \"Hyperdiploid (3-4n)\": \"Hyperdiploid\",\n",
    "            \"Hyeperdiplod (3n)\": \"Hyperdiploid|3N\",\n",
    "            \"Hyperdiploid (3n)\": \"Hyperdiploid|3N\",\n",
    "            \"Hyperdiploid (3-4n) with scas\": \"Hyperdiploid|3N|4N\",\n",
    "            \"Hyperdiploid (3n of 10 chromosomes)\": \"Hyperdiploid|3N\",\n",
    "            \"Hyperdipoid (3n)\": \"Hyperdiploid|3N\",\n",
    "            \"Hyperdiploid (3n) w/ scas\": \"Hyperdiploid|3N\",\n",
    "            \"Diploid (hyperdiploid at diagnosis?)\": \"Diploid\",\n",
    "            \"Hyperdip)loid (3n)\": \"Hyperdiploid|3N\",\n",
    "            \"Hyperidiploid/with scas\": \"Hyperdiploid\",\n",
    "            \"Hyperploid (3n)\": \"Hyperdiploid|3N\",\n",
    "            \"Hyperdiploid\": \"Hyperdiploid\",\n",
    "            \"Hyperdiploid (near 4n)\": \"Hyperdiploid|4N\",\n",
    "            \"Hyeperdiplid (3n)\": \"Hyperdiploid|3N\",\n",
    "        },\n",
    "        \"MKI\": {\n",
    "            \"Intermediate\": \"Intermediate\",\n",
    "            \"Low\": \"Low\",\n",
    "            \"High\": \"High\",\n",
    "            \"High (diagnostic)\": \"High\",\n",
    "            \"Low (<1%, diagnostic)\": \"Low\",\n",
    "            \"Intermediate (diagnosis)\": \"Intermediate\",\n",
    "            \"Low/intermediate\": \"Intermediate\",\n",
    "            \"Diagnosis = low\": \"Low\",\n",
    "            \"High (from diagnosis)\": \"High\",\n",
    "            \"Low (diagnosis)\": \"Low\",\n",
    "            \"Low (diagnostic)\": \"Low\",\n",
    "            \"High (and one clone with low)\": \"High\",\n",
    "        },\n",
    "        \"Histologic classification - INPC\": {\n",
    "            \"Favorable histology\": \"Favorable\",\n",
    "            \"Favorbale histology, diagnosis = favorable histology\": \"Favorable\",\n",
    "            \"Unfavorable histology\": \"Unfavorable\",\n",
    "            \"Unfavorable histology (diagnosis)\": \"Unfavorable\",\n",
    "            \"Favorable (diagnosis)\": \"Favorable\",\n",
    "            \"Diagnosis = unfavorable histology\": \"Unfavorable\",\n",
    "            \"Unfavorable histology (from diagnosis)\": \"Unfavorable\",\n",
    "            \"Favorable histology (diagnosis)\": \"Favorable\",\n",
    "            \"Favorable histology (diagnostic)\": \"Favorable\",\n",
    "            \"N/a\": pd.NA,\n",
    "            \"Unfavorable histology (diagnostic tumor)\": \"Unfavorable\",\n",
    "            \"Unfavorable histology = diagnosis\": \"Unfavorable\",\n",
    "            \"Unfavorable histology (nodular gangloneuroblastoma with a poorly differentiated neuroblastic component)\": \"Unfavorable\",\n",
    "            \"Diagnosis = favorable histology\": \"Favorable\",\n",
    "            \"Favorable (diagnostic)\": \"Favorable\",\n",
    "            \"Unfavorable\": \"Unfavorable\",\n",
    "            \"Unfavorable hiostology (diagnostic)\": \"Unfavorable\",\n",
    "            \"Favorable  (diagnosis)\": \"Favorable\",\n",
    "            \"Unfavorbale histology\": \"Unfavorable\",\n",
    "        },\n",
    "        \"Genomics source\": {\n",
    "            \"This specimen \": \"This specimen\",\n",
    "            \"Diagnostic specimen\": \"Diagnostic specimen\",\n",
    "            \"none\": pd.NA,\n",
    "            \"this specimen\": \"This specimen\",\n",
    "            \"Diagnostic tumor \": \"Diagnostic specimen\",\n",
    "            \"This specimen\": \"This specimen\",\n",
    "            \"This specimen?\": \"This specimen\",\n",
    "        },\n",
    "    },\n",
    ")\n",
    "clinical_data[\"Degree of differentiation\"] = clinical_data[\"Degree of differentiation\"].apply(map_rapidfuzz)\n",
    "clinical_data[\"MYCN amplification\"] = clinical_data[\"MYCN amplification\"].map(lambda x: False if \"No\" in x else True)"
   ]
  },
  {
   "cell_type": "code",
   "execution_count": null,
   "metadata": {},
   "outputs": [],
   "source": [
    "cols_set_two = [\n",
    "    \"INSS stage\",\n",
    "    \"INRG stage\",\n",
    "    \"Ploidy value\",\n",
    "    \"MKI\",\n",
    "    \"Degree of differentiation\",\n",
    "    \"Histologic classification - INPC\",\n",
    "    \"Genomics source\",\n",
    "    \"UID\",\n",
    "    # \"patient_ID\",\n",
    "]\n",
    "\n",
    "clinical_data[cols_set_two] = clinical_data[cols_set_two].astype(\"category\")"
   ]
  },
  {
   "cell_type": "code",
   "execution_count": null,
   "metadata": {},
   "outputs": [],
   "source": [
    "clinical_data = clinical_data.rename(\n",
    "    columns={\n",
    "        \"Race\": \"Ethnicity\",\n",
    "        \"Biopsy/surgery location\": \"Tissue\",\n",
    "        \"11q loss/LOH\": \"11q LOH\",\n",
    "        \"1p loss/LOH\": \"1p LOH\",\n",
    "        \"Classification of specimen\": \"Classification\",\n",
    "        \"fov\": \"FOV\",\n",
    "        \"Age (days) at time of diagnosis (relapse)\": \"Age (days) at Diagnosis\",\n",
    "        \"Age (days) at time of biospy\": \"Age (days) at Biopsy\",\n",
    "        \"HVA/VMA days from biospy\": \"HVA/VMA (days) from biopsy\",\n",
    "    },\n",
    ")\n",
    "clinical_data[\"FOV\"] = clinical_data[\"FOV\"].astype(\"category\")"
   ]
  },
  {
   "cell_type": "code",
   "execution_count": null,
   "metadata": {},
   "outputs": [],
   "source": [
    "clinical_data = clinical_data.fillna(value=pd.NA)"
   ]
  },
  {
   "cell_type": "markdown",
   "metadata": {},
   "source": [
    "## Validate Clinical Data Schema"
   ]
  },
  {
   "cell_type": "code",
   "execution_count": null,
   "metadata": {},
   "outputs": [],
   "source": [
    "schema = ln.Schema(\n",
    "    name=\"Neuroblastoma Clinical Schema\",\n",
    "    features=[\n",
    "        ln.Feature(name=\"FOV\", dtype=ln.ULabel, description=\"Identifier for the imaging Field of View\").save(),\n",
    "        ln.Feature(name=\"patient_ID\", dtype=int, description=\"Unique identifier for the patient\").save(),\n",
    "        ln.Feature(name=\"UID\", dtype=ln.ULabel, description=\"Unique identifier for the sample or record\").save(),\n",
    "        ln.Feature(\n",
    "            name=\"Age (days) at Diagnosis\", dtype=int, description=\"Patient's age in days at the time of diagnosis\"\n",
    "        ).save(),\n",
    "        ln.Feature(\n",
    "            name=\"Classification\",\n",
    "            dtype=ln.ULabel,\n",
    "            description=\"Clinical or histological classification of the specimen/tumor\",\n",
    "        ).save(),\n",
    "        ln.Feature(\n",
    "            name=\"Age (days) at Biopsy\",\n",
    "            dtype=int,\n",
    "            nullable=True,\n",
    "            description=\"Patient's age in days at the time of biopsy\",\n",
    "        ).save(),\n",
    "        ln.Feature(name=\"Sex\", dtype=ln.ULabel, nullable=True, description=\"Biological sex of the patient\").save(),\n",
    "        ln.Feature(\n",
    "            name=\"Ethnicity\",\n",
    "            dtype=bt.Ethnicity,\n",
    "            nullable=True,\n",
    "            description=\"Self-reported or assigned ethnicity of the patient\",\n",
    "        ).save(),\n",
    "        ln.Feature(name=\"Tissue\", dtype=bt.Tissue, description=\"Type of tissue biopsied or imaged\").save(),\n",
    "        ln.Feature(\n",
    "            name=\"HVA/VMA days from biopsy\",\n",
    "            dtype=float,\n",
    "            nullable=True,\n",
    "            description=\"Number of days between HVA/VMA measurement and biopsy\",\n",
    "        ).save(),\n",
    "        ln.Feature(\n",
    "            name=\"Clinical presentation\",\n",
    "            dtype=str,\n",
    "            nullable=True,\n",
    "            description=\"Description of the patient's symptoms and presentation at diagnosis\",\n",
    "        ).save(),\n",
    "        ln.Feature(\n",
    "            name=\"Risk\", dtype=ln.ULabel, description=\"Assigned clinical risk group (e.g., low, intermediate, high)\"\n",
    "        ).save(),\n",
    "        ln.Feature(\n",
    "            name=\"INSS stage\",\n",
    "            dtype=ln.ULabel,\n",
    "            nullable=True,\n",
    "            description=\"International Neuroblastoma Staging System (INSS) stage\",\n",
    "        ).save(),\n",
    "        ln.Feature(\n",
    "            name=\"INRG stage\",\n",
    "            dtype=ln.ULabel,\n",
    "            nullable=True,\n",
    "            description=\"International Neuroblastoma Risk Group (INRG) staging system stage\",\n",
    "        ).save(),\n",
    "        ln.Feature(\n",
    "            name=\"Ploidy value\",\n",
    "            dtype=ln.ULabel,\n",
    "            nullable=True,\n",
    "            description=\"Ploidy status of the tumor cells (e.g., diploid, hyperdiploid)\",\n",
    "        ).save(),\n",
    "        ln.Feature(\n",
    "            name=\"MKI\", dtype=ln.ULabel, nullable=True, description=\"Mitotic-Karyorrhectic Index (MKI) value\"\n",
    "        ).save(),\n",
    "        ln.Feature(\n",
    "            name=\"Degree of differentiation\",\n",
    "            dtype=ln.ULabel,\n",
    "            nullable=True,\n",
    "            description=\"Histological degree of tumor cell differentiation\",\n",
    "        ).save(),\n",
    "        ln.Feature(\n",
    "            name=\"Histologic classification - INPC\",\n",
    "            dtype=ln.ULabel,\n",
    "            nullable=True,\n",
    "            description=\"International Neuroblastoma Pathology Classification (INPC) category\",\n",
    "        ).save(),\n",
    "        ln.Feature(\n",
    "            name=\"Genomics source\",\n",
    "            dtype=ln.ULabel,\n",
    "            nullable=True,\n",
    "            description=\"Source material used for genomic analysis (e.g., tumor, blood)\",\n",
    "        ).save(),\n",
    "        ln.Feature(\n",
    "            name=\"MYCN amplification\",\n",
    "            dtype=bool,\n",
    "            nullable=True,\n",
    "            description=\"Presence (True) or absence (False) of MYCN gene amplification\",\n",
    "        ).save(),\n",
    "        ln.Feature(\n",
    "            name=\"17q gain\", dtype=ln.ULabel, nullable=True, description=\"Presence or status of chromosome 17q gain\"\n",
    "        ).save(),\n",
    "        ln.Feature(\n",
    "            name=\"7q gain\", dtype=ln.ULabel, nullable=True, description=\"Presence or status of chromosome 7q gain\"\n",
    "        ).save(),\n",
    "        ln.Feature(\n",
    "            name=\"1p LOH\",\n",
    "            dtype=ln.ULabel,\n",
    "            nullable=True,\n",
    "            description=\"Presence or status of Loss of Heterozygosity (LOH) on chromosome 1p\",\n",
    "        ).save(),\n",
    "        ln.Feature(\n",
    "            name=\"11q LOH\",\n",
    "            dtype=ln.ULabel,\n",
    "            nullable=True,\n",
    "            description=\"Presence or status of Loss of Heterozygosity (LOH) on chromosome 11q\",\n",
    "        ).save(),\n",
    "        ln.Feature(\n",
    "            name=\"ALK\",\n",
    "            dtype=ln.ULabel,\n",
    "            nullable=True,\n",
    "            description=\"Status of ALK (Anaplastic Lymphoma Kinase) gene alteration (e.g., mutation, amplification)\",\n",
    "        ).save(),\n",
    "        ln.Feature(\n",
    "            name=\"Other mutations (source)\",\n",
    "            dtype=ln.ULabel,\n",
    "            nullable=True,\n",
    "            description=\"Details of other relevant mutations identified and their source\",\n",
    "        ).save(),\n",
    "        ln.Feature(\n",
    "            name=\"Genomic studies done\",\n",
    "            dtype=ln.ULabel,\n",
    "            nullable=True,\n",
    "            description=\"Description of the types of genomic studies performed\",\n",
    "        ).save(),\n",
    "        ln.Feature(\n",
    "            name=\"treatment btw biopsies\",\n",
    "            dtype=str,\n",
    "            nullable=True,\n",
    "            description=\"Details of any treatment received between biopsies\",\n",
    "        ).save(),\n",
    "        ln.Feature(\n",
    "            name=\"OS time (days)\",\n",
    "            dtype=int,\n",
    "            nullable=True,\n",
    "            description=\"Overall Survival (OS) time in days from diagnosis\",\n",
    "        ).save(),\n",
    "    ],\n",
    ").save()"
   ]
  },
  {
   "cell_type": "code",
   "execution_count": null,
   "metadata": {},
   "outputs": [],
   "source": [
    "ln.Artifact.filter(key__contains=\"clinical_data\").one()"
   ]
  },
  {
   "cell_type": "code",
   "execution_count": null,
   "metadata": {},
   "outputs": [],
   "source": [
    "ln.Schema.filter().one().delete()\n",
    "\n",
    "for f in ln.Feature.lookup():\n",
    "    match f:\n",
    "        case ln.Feature():\n",
    "            f.delete()\n",
    "        case _:\n",
    "            pass\n",
    "for l in ln.ULabel.lookup():\n",
    "    match l:\n",
    "        case ln.ULabel():\n",
    "            l.delete()\n",
    "        case _:\n",
    "            pass"
   ]
  },
  {
   "cell_type": "code",
   "execution_count": null,
   "metadata": {},
   "outputs": [],
   "source": [
    "curator = ln.curators.DataFrameCurator(clinical_data, schema)\n",
    "\n",
    "curator.validate()"
   ]
  },
  {
   "cell_type": "code",
   "execution_count": null,
   "metadata": {},
   "outputs": [],
   "source": [
    "for c in curator.cat.non_validated:\n",
    "    curator.cat.add_new_from(c)"
   ]
  },
  {
   "cell_type": "code",
   "execution_count": null,
   "metadata": {},
   "outputs": [],
   "source": [
    "curator.validate()"
   ]
  },
  {
   "cell_type": "code",
   "execution_count": null,
   "metadata": {},
   "outputs": [],
   "source": [
    "curator.save_artifact(key=\"clinical_data.parquet\", description=\"Sample Level Clinical Data\")"
   ]
  },
  {
   "cell_type": "code",
   "execution_count": null,
   "metadata": {},
   "outputs": [],
   "source": [
    "cols_to_explode = [\n",
    "    \"Ploidy value\",\n",
    "    \"17q gain\",\n",
    "    \"7q gain\",\n",
    "    \"1p LOH\",\n",
    "    \"11q LOH\",\n",
    "    \"ALK\",\n",
    "    \"Other mutations (source)\",\n",
    "    \"Genomic studies done\",\n",
    "]\n",
    "\n",
    "for col in cols_to_explode:\n",
    "    print((col, set(filter(lambda x: len(x) > 0, mit.collapse(clinical_data[col].cat.categories.str.split(\"|\"))))))"
   ]
  },
  {
   "cell_type": "code",
   "execution_count": null,
   "metadata": {},
   "outputs": [],
   "source": [
    "tissues = bt.Tissue.from_values(clinical_data[\"Tissue\"].unique().tolist())\n",
    "ln.save(tissues)"
   ]
  },
  {
   "cell_type": "code",
   "execution_count": null,
   "metadata": {},
   "outputs": [],
   "source": [
    "ethnicities = bt.Ethnicity.from_values(clinical_data[\"Ethnicity\"])\n",
    "ln.save(ethnicities)"
   ]
  },
  {
   "cell_type": "markdown",
   "metadata": {},
   "source": [
    "Channel Validation"
   ]
  },
  {
   "cell_type": "code",
   "execution_count": null,
   "metadata": {},
   "outputs": [],
   "source": [
    "sample_fov_markers = set(ns.natsorted(m.stem for m in fov_dir.glob(\"*/*.tiff\")))"
   ]
  },
  {
   "cell_type": "code",
   "execution_count": null,
   "metadata": {},
   "outputs": [],
   "source": [
    "cell_markers = bt.CellMarker.public()\n",
    "\n",
    "inspected_markers = cell_markers.inspect(values=sample_fov_markers, field=cell_markers.name)"
   ]
  },
  {
   "cell_type": "code",
   "execution_count": null,
   "metadata": {},
   "outputs": [],
   "source": [
    "standardized_markers_mapper = cell_markers.standardize(\n",
    "    values=sample_fov_markers, field=cell_markers.name, return_mapper=True\n",
    ")"
   ]
  },
  {
   "cell_type": "code",
   "execution_count": null,
   "metadata": {},
   "outputs": [],
   "source": [
    "copied_markers = [\n",
    "    standardized_markers_mapper[m] if m in standardized_markers_mapper.keys() else m for m in sample_fov_markers.copy()\n",
    "]"
   ]
  },
  {
   "cell_type": "code",
   "execution_count": null,
   "metadata": {},
   "outputs": [],
   "source": [
    "inspected_markers2 = cell_markers.inspect(values=copied_markers, field=cell_markers.name)\n",
    "manually_added_markers = [bt.CellMarker(name=n) for n in inspected_markers2.non_validated]"
   ]
  },
  {
   "cell_type": "code",
   "execution_count": null,
   "metadata": {},
   "outputs": [],
   "source": [
    "valdiated_markers = bt.CellMarker.from_values(values=inspected_markers2.validated, field=\"name\")"
   ]
  },
  {
   "cell_type": "code",
   "execution_count": null,
   "metadata": {},
   "outputs": [],
   "source": [
    "ln.save(valdiated_markers)\n",
    "ln.save(manually_added_markers)"
   ]
  },
  {
   "cell_type": "markdown",
   "metadata": {},
   "source": [
    "Finishing up\n"
   ]
  },
  {
   "cell_type": "code",
   "execution_count": null,
   "metadata": {},
   "outputs": [],
   "source": [
    "ln.finish()"
   ]
  }
 ],
 "metadata": {
  "kernelspec": {
   "display_name": ".venv",
   "language": "python",
   "name": "python3"
  },
  "language_info": {
   "codemirror_mode": {
    "name": "ipython",
    "version": 3
   },
   "file_extension": ".py",
   "mimetype": "text/x-python",
   "name": "python",
   "nbconvert_exporter": "python",
   "pygments_lexer": "ipython3"
  }
 },
 "nbformat": 4,
 "nbformat_minor": 2
}
